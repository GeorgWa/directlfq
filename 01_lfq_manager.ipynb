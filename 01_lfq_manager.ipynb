{
 "cells": [
  {
   "cell_type": "code",
   "execution_count": 1,
   "metadata": {},
   "outputs": [],
   "source": [
    "# default_exp lfq_manager"
   ]
  },
  {
   "cell_type": "code",
   "execution_count": 2,
   "metadata": {},
   "outputs": [],
   "source": [
    "#export\n",
    "import directlfq.normalization as lfqnorm\n",
    "import directlfq.protein_intensity_estimation as lfqprot_estimation\n",
    "import directlfq.utils as lfqutils\n",
    "import warnings\n",
    "\n",
    "\n",
    "warnings.filterwarnings(action='once')\n",
    "\n",
    "\n",
    "def run_lfq(input_file, input_type_to_use = None, columns_to_add = [], mq_protein_groups_txt = None, min_nonan = 1, maximum_number_of_quadratic_ions_to_use_per_protein = 10, number_of_quadratic_samples = 50, num_cores = None):\n",
    "    input_file = lfqutils.add_mq_protein_group_ids_if_applicable_and_obtain_annotated_file(input_file, mq_protein_groups_txt)\n",
    "    input_df = lfqutils.import_data(input_file=input_file, input_type_to_use=input_type_to_use)\n",
    "    input_df = lfqutils.index_and_log_transform_input_df(input_df)\n",
    "    input_df = lfqutils.remove_allnan_rows_input_df(input_df)\n",
    "    input_df_normed = lfqnorm.NormalizationManagerSamples(input_df, num_samples_quadratic=number_of_quadratic_samples).complete_dataframe\n",
    "    protein_df, ion_df = lfqprot_estimation.estimate_protein_intensities(input_df_normed,min_nonan=min_nonan,num_samples_quadratic=maximum_number_of_quadratic_ions_to_use_per_protein, num_cores = num_cores)\n",
    "    try:\n",
    "        protein_df = lfqutils.add_columns_to_lfq_results_table(protein_df, input_file, columns_to_add)\n",
    "    except:\n",
    "        print(\"Could not add additional columns to protein table, printing without additional columns\")\n",
    "    save_protein_df(protein_df, input_file)\n",
    "    save_ion_df(ion_df, input_file)\n",
    "\n",
    "def save_protein_df(protein_df, input_file):\n",
    "    protein_df.to_csv(f\"{input_file}.protein_intensities.tsv\", sep = \"\\t\")\n",
    "\n",
    "def save_ion_df(ion_df, input_file):\n",
    "    ion_df.to_csv(f\"{input_file}.ion_intensities.tsv\", sep = \"\\t\")"
   ]
  },
  {
   "cell_type": "code",
   "execution_count": null,
   "metadata": {},
   "outputs": [],
   "source": []
  }
 ],
 "metadata": {
  "kernelspec": {
   "display_name": "Python 3.8.13 ('directlfq')",
   "language": "python",
   "name": "python3"
  },
  "language_info": {
   "codemirror_mode": {
    "name": "ipython",
    "version": 3
   },
   "file_extension": ".py",
   "mimetype": "text/x-python",
   "name": "python",
   "nbconvert_exporter": "python",
   "pygments_lexer": "ipython3",
   "version": "3.8.13"
  },
  "vscode": {
   "interpreter": {
    "hash": "9de3b9232e447c280dd70250498a698134997f78cce557ab922912f202e5081f"
   }
  }
 },
 "nbformat": 4,
 "nbformat_minor": 2
}
