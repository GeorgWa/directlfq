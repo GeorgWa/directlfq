{
 "cells": [
  {
   "cell_type": "code",
   "execution_count": 1,
   "metadata": {},
   "outputs": [],
   "source": [
    "# default_exp lfq_manager"
   ]
  },
  {
   "cell_type": "code",
   "execution_count": 2,
   "metadata": {},
   "outputs": [],
   "source": [
    "#export\n",
    "import directlfq.normalization as lfqnorm\n",
    "import directlfq.protein_intensity_estimation as lfqprot_estimation\n",
    "import directlfq.utils as lfqutils\n",
    "\n",
    "\n",
    "def run_lfq(input_file = None, input_type_to_use = None, min_nonan = 1, maximum_number_of_ions_to_use_per_protein = 100, number_of_quadratic_samples = 100):\n",
    "    input_df = lfqutils.import_data(input_file=input_file, input_type_to_use=input_type_to_use)\n",
    "    input_df = lfqutils.index_and_log_transform_input_df(input_df)\n",
    "    input_df_normed = lfqnorm.SampleNormalizationManager(input_df, num_samples_quadratic=number_of_quadratic_samples).complete_dataframe\n",
    "    protein_df, ion_df = lfqprot_estimation.estimate_protein_intensities(input_df_normed,min_nonan=min_nonan,maximum_df_length=maximum_number_of_ions_to_use_per_protein)\n",
    "    save_protein_df(protein_df, input_file)\n",
    "    save_ion_df(ion_df, input_file)\n",
    "\n",
    "def save_protein_df(protein_df, input_file):\n",
    "    protein_df.to_csv(f\"{input_file}.protein_intensities.tsv\", sep = \"\\t\")\n",
    "\n",
    "def save_ion_df(ion_df, input_file):\n",
    "    ion_df.to_csv(f\"{input_file}.ion_intensities.tsv\", sep = \"\\t\")"
   ]
  },
  {
   "cell_type": "code",
   "execution_count": null,
   "metadata": {},
   "outputs": [],
   "source": []
  }
 ],
 "metadata": {
  "kernelspec": {
   "display_name": "Python 3.8.5 64-bit ('base': conda)",
   "language": "python",
   "name": "python3"
  },
  "language_info": {
   "codemirror_mode": {
    "name": "ipython",
    "version": 3
   },
   "file_extension": ".py",
   "mimetype": "text/x-python",
   "name": "python",
   "nbconvert_exporter": "python",
   "pygments_lexer": "ipython3",
   "version": "3.8.13"
  }
 },
 "nbformat": 4,
 "nbformat_minor": 2
}
