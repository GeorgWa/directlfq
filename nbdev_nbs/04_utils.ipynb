{
 "cells": [
  {
   "cell_type": "raw",
   "metadata": {},
   "source": [
    "---\n",
    "output-file: utils.html\n",
    "title: Paths\n",
    "\n",
    "---\n",
    "\n"
   ]
  },
  {
   "cell_type": "code",
   "execution_count": null,
   "metadata": {},
   "outputs": [],
   "source": [
    "#| default_exp utils"
   ]
  },
  {
   "cell_type": "code",
   "execution_count": null,
   "metadata": {},
   "outputs": [],
   "source": [
    "#| export\n",
    "import os\n",
    "import pathlib\n",
    "if \"__file__\" in globals():#only run in the translated python file, as __file__ is not defined with ipython\n",
    "    INTABLE_CONFIG = os.path.join(pathlib.Path(__file__).parent.absolute(), \"configs\", \"intable_config.yaml\") #the yaml config is located one directory below the python library files\n",
    "    CONFIG_PATH = os.path.join(pathlib.Path(__file__).parent.absolute(), \"configs\")"
   ]
  },
  {
   "cell_type": "markdown",
   "metadata": {},
   "source": [
    "# Utility Functions"
   ]
  },
  {
   "cell_type": "markdown",
   "metadata": {},
   "source": [
    "## Reformatting and transformation functions"
   ]
  },
  {
   "cell_type": "markdown",
   "metadata": {},
   "source": [
    "## I/O functions"
   ]
  },
  {
   "cell_type": "markdown",
   "metadata": {},
   "source": [
    "# Input Parsers\n",
    "The directlfq pipeline is run using a generic wide-table input format, as specified in the documentation. The following parsers convert long format tables as provided e.g. by Spectronaut or DIA-NN into this generic format. The configuration for the parsers is set by a yaml file."
   ]
  },
  {
   "cell_type": "markdown",
   "metadata": {},
   "source": [
    "## Convert long format to wide format"
   ]
  },
  {
   "cell_type": "markdown",
   "metadata": {},
   "source": [
    "### Parse .yaml file\n",
    "The relevant parameters for reading and reformatting the long table are stored in the \"intable_config.yaml\" file. The functions below are for reading and reformating the config info"
   ]
  },
  {
   "cell_type": "markdown",
   "metadata": {},
   "source": [
    "### Filter and reformat"
   ]
  },
  {
   "cell_type": "markdown",
   "metadata": {},
   "source": [
    "## check for already processed files"
   ]
  },
  {
   "cell_type": "markdown",
   "metadata": {},
   "source": [
    "## Wrapper functions"
   ]
  },
  {
   "cell_type": "markdown",
   "metadata": {},
   "source": [
    "## Test input parsing"
   ]
  },
  {
   "cell_type": "markdown",
   "metadata": {},
   "source": [
    "### Compare the in-memory and out-of-memory longformat table loadings"
   ]
  },
  {
   "cell_type": "code",
   "execution_count": null,
   "metadata": {},
   "outputs": [
    {
     "name": "stdout",
     "output_type": "stream",
     "text": [
      "/Users/constantin/workspace/directlfq/nbdev_nbs\n"
     ]
    }
   ],
   "source": [
    "#| include: false\n",
    "\n",
    "import os\n",
    "import pandas as pd\n",
    "import shutil\n",
    "import matplotlib_venn\n",
    "import directlfq.utils as lfqutils\n",
    "\n",
    "print(os.path.abspath(\".\"))\n",
    "input_file = \"../test_data/unit_tests/input_table_formats/spectronaut.frgions.large.tsv\"\n",
    "outdir = \"../test_data/unit_tests/input_table_formats/loading_comparisons\"\n",
    "\n",
    "file_default = \"default_out.tsv\"\n",
    "file_dask_proc = \"dask_proc_out.tsv\"\n",
    "\n",
    "def test_table_loadings(input_file, outdir, file_default, file_dask_proc):\n",
    "    if not os.path.exists(outdir):\n",
    "        os.mkdir(outdir)\n",
    "        #os.chdir(outdir)\n",
    "\n",
    "    input_type, config_dict_for_type, sep = lfqutils.get_input_type_and_config_dict(input_file)\n",
    "\n",
    "    lfqutils.reformat_and_write_longtable_according_to_config(input_file,outfile_name=file_dask_proc,config_dict_for_type=config_dict_for_type, enforce_largefile_processing=True, chunksize=10_000)\n",
    "    lfqutils.reformat_and_write_longtable_according_to_config(input_file,outfile_name=file_default,config_dict_for_type=config_dict_for_type, chunksize=10_000)\n",
    "\n",
    "    df_default = pd.read_csv(file_default, sep = \"\\t\")\n",
    "\n",
    "    df_dask_proc = pd.read_csv(file_dask_proc, sep = \"\\t\")\n",
    "\n",
    "\n",
    "    assert df_default.equals(df_dask_proc)\n",
    "\n",
    "    matplotlib_venn.venn2([set(df_default[\"ion\"]), set(df_dask_proc[\"ion\"])])\n",
    "\n",
    "    os.remove(file_default)\n",
    "    os.remove(file_dask_proc)\n",
    "    shutil.rmtree(outdir)\n",
    "\n"
   ]
  },
  {
   "cell_type": "code",
   "execution_count": null,
   "metadata": {},
   "outputs": [
    {
     "data": {
      "image/png": "[encoded data removed]",
      "text/plain": [
       "<Figure size 640x480 with 1 Axes>"
      ]
     },
     "metadata": {},
     "output_type": "display_data"
    }
   ],
   "source": [
    "\n",
    "test_table_loadings(input_file, outdir, file_default, file_dask_proc)"
   ]
  },
  {
   "cell_type": "code",
   "execution_count": null,
   "metadata": {},
   "outputs": [
    {
     "name": "stdout",
     "output_type": "stream",
     "text": [
      "loading ran through\n",
      "loading ran through\n",
      "loading ran through\n",
      "loading ran through\n"
     ]
    }
   ],
   "source": [
    "#| include: false\n",
    "\n",
    "import directlfq.utils as lfqutils\n",
    "import os\n",
    "import shutil\n",
    "outdir = \"../test_data/unit_tests/input_table_formats/\"\n",
    "\n",
    "tabledir =\"../test_data/unit_tests/input_table_formats/\"\n",
    "results_dir = \"../test_data/unit_tests/results/\"\n",
    "\n",
    "\n",
    "input_files = [os.path.join(tabledir, x ) for x in [\"diann.tsv\", \"spectronaut.tsv\", \"spectronaut_frgion.tsv\", \"mq_peptides.txt\"]]\n",
    "samplemap_files = [os.path.join(tabledir, x ) for x in [\"samplemap.diann.tsv\", \"samplemap.spectronaut.tsv\", \"samplemap.spectronaut.frgions.tsv\", \"samplemap.mq.tsv\"]]\n",
    "\n",
    "\n",
    "\n",
    "\n",
    "\n",
    "def perform_table_loading(input_file, samplemap_file):\n",
    "    \"\"\"only makes sure that the commands run without error\"\"\"\n",
    "    \n",
    "    #import the input table once the input and the results folder are specified. \n",
    "    # The function automatically recognizes the format (Currently MQ, Spectronaut, DIA-NN configured)\n",
    "    input_data = lfqutils.import_data(input_file)\n",
    "    #display(input_data)\n",
    "    \n",
    "    #get sample names from the imported table\n",
    "    samplenames = lfqutils.get_samplenames_from_input_df(input_data)\n",
    "    #display(samplenames)\n",
    "\n",
    "    #load the samplemap dataframe (in case the user uploads a file. Basically a pandas import + separator check)\n",
    "    samplemap_df = lfqutils.load_samplemap(samplemap_file)\n",
    "    #display(samplemap_df)\n",
    "\n",
    "    #compare samplemap and actual table, merge & logtransform intensities\n",
    "    input_processed, samplemap_df_processed = lfqutils.prepare_loaded_tables(input_data, samplemap_df)\n",
    "    #display(input_processed)\n",
    "    #display(samplemap_df_processed)\n",
    "\n",
    "for idx in range(len(input_files)):\n",
    "    perform_table_loading(input_files[idx], samplemap_files[idx])\n",
    "    print('loading ran through')"
   ]
  },
  {
   "cell_type": "code",
   "execution_count": null,
   "metadata": {},
   "outputs": [],
   "source": [
    "#| include: false\n",
    "import yaml\n",
    "import pandas as pd\n",
    "import numpy as np\n",
    "from matplotlib_venn import venn2\n",
    "import matplotlib.pyplot as plt\n",
    "\n",
    "def compare_generic_table_with_original(preprocessed_input_df, original_input_file, config_yaml,input_typename_config, sep = \"\\t\"):\n",
    "    id2quant_orig, id2quant_preproc = get_processed_original_id2quant_maps(preprocessed_input_df, original_input_file, config_yaml,input_typename_config)\n",
    "    keys_orig = set(id2quant_orig.keys())\n",
    "    keys_preproc = set(id2quant_preproc.keys())\n",
    "    keydiff = keys_preproc.difference(keys_orig)\n",
    "    keys_orig = sorted(keys_orig)\n",
    "    keys_preproc = sorted(keys_preproc)\n",
    "    print(list(keys_orig)[:10])\n",
    "    print(list(keys_preproc)[:10])\n",
    "    \n",
    "    \n",
    "    assert(len(keydiff)==0) #check that all keys in the preprocessed set are part of the original set\n",
    "\n",
    "    venn2([set(id2quant_orig.keys()), set(id2quant_preproc.keys())], [\"original\", \"preprocessed\"])\n",
    "    \n",
    "    quantvec_orig = np.array([id2quant_orig.get(x)for x in id2quant_preproc.keys()])\n",
    "    quantvec_preproc = np.array([id2quant_preproc.get(x)for x in id2quant_preproc.keys()])\n",
    "    unequal_quant = [id2quant_orig.get(x)!=id2quant_preproc.get(x) for x in id2quant_preproc.keys()]\n",
    "    unequal_quant_scaled = [id2quant_orig.get(x)*10000!=id2quant_preproc.get(x) for x in id2quant_preproc.keys()]\n",
    "    print(sum(unequal_quant))\n",
    "    print(sum(unequal_quant_scaled))\n",
    "    plt.show()\n",
    "    plt.scatter(quantvec_orig, quantvec_preproc)\n",
    "    plt.show()\n",
    "    corrcoeff = np.corrcoef(quantvec_orig,quantvec_preproc)[0][1]\n",
    "    print(f\"correlation between both processings: {corrcoeff}\")\n",
    "    assert(corrcoeff>0.999)\n",
    "\n",
    "\n",
    "\n",
    "def get_processed_original_id2quant_maps(preprocessed_input_df, original_input_file, config_yaml,input_typename_config, sep = \"\\t\"):\n",
    "    config_all = yaml.safe_load(open(config_yaml, 'r'))\n",
    "    config_dict = config_all.get(input_typename_config)\n",
    "    id_cols = config_dict.get(\"ion_cols\") + [config_dict.get(\"sample_ID\")]\n",
    "    quant_col = list(config_dict.get(\"quant_ID\").values())\n",
    "    id2quant_orig = get_id2quant_original(original_input_file, id_cols, quant_col, sep)\n",
    "    id2quant_preproc = get_id2quant_processed(preprocessed_input_df, id_cols, quant_col)\n",
    "    return id2quant_orig, id2quant_preproc\n",
    "\n",
    "\n",
    "def get_id2quant_original(original_input_file, id_cols, quant_col, sep):\n",
    "    print(id_cols)\n",
    "    print(id_cols+quant_col)\n",
    "    orig_df = pd.read_csv(original_input_file, sep=sep, usecols= id_cols+quant_col)\n",
    "    orig_df[\"compareID\"] = orig_df[id_cols].apply(lambda x: ''.join(x.values.astype(str)), axis=1)\n",
    "    #orig_df[\"compareID\"] = orig_df[id_cols].astype('string').sum(axis = 1)\n",
    "    display(orig_df)\n",
    "    id2quant = dict(zip(orig_df[\"compareID\"], orig_df[quant_col[0]]))\n",
    "    id2quant = {k: round(v,3) for k, v in id2quant.items()}\n",
    "    return id2quant\n",
    "\n",
    "\n",
    "def get_id2quant_processed(preprocessed_input_df, id_cols, quant_col):\n",
    "    compare_IDs = []\n",
    "    quantvals = []\n",
    "    for column in preprocessed_input_df.columns:\n",
    "        if(column == \"protein\"):\n",
    "            continue\n",
    "        id = pd.Series([column for x in range(len(preprocessed_input_df.index))]).to_numpy()[0]\n",
    "        reformated_pep_id = [x.split(\"_MOD_\")[1].replace(\"_CHARGE_\", \"\")[:-1]+id for x in preprocessed_input_df.index]\n",
    "        compare_IDs.extend(reformated_pep_id)\n",
    "\n",
    "        quantvals.extend(list(preprocessed_input_df[column]))\n",
    "    \n",
    "    id2quant = dict(zip(compare_IDs, quantvals))\n",
    "    id2quant = {k: round(2**v,3) for k, v in id2quant.items() if ~np.isnan(v)}\n",
    "    return id2quant\n",
    "\n",
    "\n",
    "\n",
    "\n"
   ]
  },
  {
   "cell_type": "code",
   "execution_count": null,
   "metadata": {},
   "outputs": [
    {
     "name": "stdout",
     "output_type": "stream",
     "text": [
      "['EG.ModifiedPeptide', 'FG.Charge', 'R.Label']\n",
      "['EG.ModifiedPeptide', 'FG.Charge', 'R.Label', 'FG.Quantity']\n"
     ]
    },
    {
     "data": {
      "text/html": [
       "<div>\n",
       "<style scoped>\n",
       "    .dataframe tbody tr th:only-of-type {\n",
       "        vertical-align: middle;\n",
       "    }\n",
       "\n",
       "    .dataframe tbody tr th {\n",
       "        vertical-align: top;\n",
       "    }\n",
       "\n",
       "    .dataframe thead th {\n",
       "        text-align: right;\n",
       "    }\n",
       "</style>\n",
       "<table border=\"1\" class=\"dataframe\">\n",
       "  <thead>\n",
       "    <tr style=\"text-align: right;\">\n",
       "      <th></th>\n",
       "      <th>R.Label</th>\n",
       "      <th>EG.ModifiedPeptide</th>\n",
       "      <th>FG.Charge</th>\n",
       "      <th>FG.Quantity</th>\n",
       "      <th>compareID</th>\n",
       "    </tr>\n",
       "  </thead>\n",
       "  <tbody>\n",
       "    <tr>\n",
       "      <th>0</th>\n",
       "      <td>E_D170331_S209-S-1-240min_MHRM_R01_T0.htrms</td>\n",
       "      <td>_LNVLPVDVLTR_</td>\n",
       "      <td>2</td>\n",
       "      <td>95427.601562</td>\n",
       "      <td>_LNVLPVDVLTR_2E_D170331_S209-S-1-240min_MHRM_R...</td>\n",
       "    </tr>\n",
       "    <tr>\n",
       "      <th>1</th>\n",
       "      <td>E_D170331_S209-S-1-240min_MHRM_R01_T0.htrms</td>\n",
       "      <td>_LNVLPVDVLTR_</td>\n",
       "      <td>2</td>\n",
       "      <td>95427.601562</td>\n",
       "      <td>_LNVLPVDVLTR_2E_D170331_S209-S-1-240min_MHRM_R...</td>\n",
       "    </tr>\n",
       "    <tr>\n",
       "      <th>2</th>\n",
       "      <td>E_D170331_S209-S-1-240min_MHRM_R01_T0.htrms</td>\n",
       "      <td>_LNVLPVDVLTR_</td>\n",
       "      <td>2</td>\n",
       "      <td>95427.601562</td>\n",
       "      <td>_LNVLPVDVLTR_2E_D170331_S209-S-1-240min_MHRM_R...</td>\n",
       "    </tr>\n",
       "    <tr>\n",
       "      <th>3</th>\n",
       "      <td>E_D170331_S209-S-1-240min_MHRM_R01_T0.htrms</td>\n",
       "      <td>_LNVLPVDVLTR_</td>\n",
       "      <td>2</td>\n",
       "      <td>95427.601562</td>\n",
       "      <td>_LNVLPVDVLTR_2E_D170331_S209-S-1-240min_MHRM_R...</td>\n",
       "    </tr>\n",
       "    <tr>\n",
       "      <th>4</th>\n",
       "      <td>E_D170331_S209-S-1-240min_MHRM_R01_T0.htrms</td>\n",
       "      <td>_LNVLPVDVLTR_</td>\n",
       "      <td>2</td>\n",
       "      <td>95427.601562</td>\n",
       "      <td>_LNVLPVDVLTR_2E_D170331_S209-S-1-240min_MHRM_R...</td>\n",
       "    </tr>\n",
       "    <tr>\n",
       "      <th>...</th>\n",
       "      <td>...</td>\n",
       "      <td>...</td>\n",
       "      <td>...</td>\n",
       "      <td>...</td>\n",
       "      <td>...</td>\n",
       "    </tr>\n",
       "    <tr>\n",
       "      <th>9994</th>\n",
       "      <td>E_D170331_S209-S-1-240min_MHRM_R01_T0.htrms</td>\n",
       "      <td>_GC[Carbamidomethyl (C)]VITISGR_</td>\n",
       "      <td>2</td>\n",
       "      <td>110807.851562</td>\n",
       "      <td>_GC[Carbamidomethyl (C)]VITISGR_2E_D170331_S20...</td>\n",
       "    </tr>\n",
       "    <tr>\n",
       "      <th>9995</th>\n",
       "      <td>E_D170331_S209-S-1-240min_MHRM_R01_T0.htrms</td>\n",
       "      <td>_GC[Carbamidomethyl (C)]VITISGR_</td>\n",
       "      <td>2</td>\n",
       "      <td>110807.851562</td>\n",
       "      <td>_GC[Carbamidomethyl (C)]VITISGR_2E_D170331_S20...</td>\n",
       "    </tr>\n",
       "    <tr>\n",
       "      <th>9996</th>\n",
       "      <td>E_D170331_S209-S-1-240min_MHRM_R01_T0.htrms</td>\n",
       "      <td>_GC[Carbamidomethyl (C)]VITISGR_</td>\n",
       "      <td>2</td>\n",
       "      <td>110807.851562</td>\n",
       "      <td>_GC[Carbamidomethyl (C)]VITISGR_2E_D170331_S20...</td>\n",
       "    </tr>\n",
       "    <tr>\n",
       "      <th>9997</th>\n",
       "      <td>E_D170331_S209-S-1-240min_MHRM_R01_T0.htrms</td>\n",
       "      <td>_GC[Carbamidomethyl (C)]VITISGR_</td>\n",
       "      <td>2</td>\n",
       "      <td>110807.851562</td>\n",
       "      <td>_GC[Carbamidomethyl (C)]VITISGR_2E_D170331_S20...</td>\n",
       "    </tr>\n",
       "    <tr>\n",
       "      <th>9998</th>\n",
       "      <td>E_D170331_S209-S-1-240min_MHRM_R01_T0.htrms</td>\n",
       "      <td>_GC[Carbamidomethyl (C)]VITISGR_</td>\n",
       "      <td>2</td>\n",
       "      <td>110807.851562</td>\n",
       "      <td>_GC[Carbamidomethyl (C)]VITISGR_2E_D170331_S20...</td>\n",
       "    </tr>\n",
       "  </tbody>\n",
       "</table>\n",
       "<p>9999 rows × 5 columns</p>\n",
       "</div>"
      ],
      "text/plain": [
       "                                          R.Label  \\\n",
       "0     E_D170331_S209-S-1-240min_MHRM_R01_T0.htrms   \n",
       "1     E_D170331_S209-S-1-240min_MHRM_R01_T0.htrms   \n",
       "2     E_D170331_S209-S-1-240min_MHRM_R01_T0.htrms   \n",
       "3     E_D170331_S209-S-1-240min_MHRM_R01_T0.htrms   \n",
       "4     E_D170331_S209-S-1-240min_MHRM_R01_T0.htrms   \n",
       "...                                           ...   \n",
       "9994  E_D170331_S209-S-1-240min_MHRM_R01_T0.htrms   \n",
       "9995  E_D170331_S209-S-1-240min_MHRM_R01_T0.htrms   \n",
       "9996  E_D170331_S209-S-1-240min_MHRM_R01_T0.htrms   \n",
       "9997  E_D170331_S209-S-1-240min_MHRM_R01_T0.htrms   \n",
       "9998  E_D170331_S209-S-1-240min_MHRM_R01_T0.htrms   \n",
       "\n",
       "                    EG.ModifiedPeptide  FG.Charge    FG.Quantity  \\\n",
       "0                        _LNVLPVDVLTR_          2   95427.601562   \n",
       "1                        _LNVLPVDVLTR_          2   95427.601562   \n",
       "2                        _LNVLPVDVLTR_          2   95427.601562   \n",
       "3                        _LNVLPVDVLTR_          2   95427.601562   \n",
       "4                        _LNVLPVDVLTR_          2   95427.601562   \n",
       "...                                ...        ...            ...   \n",
       "9994  _GC[Carbamidomethyl (C)]VITISGR_          2  110807.851562   \n",
       "9995  _GC[Carbamidomethyl (C)]VITISGR_          2  110807.851562   \n",
       "9996  _GC[Carbamidomethyl (C)]VITISGR_          2  110807.851562   \n",
       "9997  _GC[Carbamidomethyl (C)]VITISGR_          2  110807.851562   \n",
       "9998  _GC[Carbamidomethyl (C)]VITISGR_          2  110807.851562   \n",
       "\n",
       "                                              compareID  \n",
       "0     _LNVLPVDVLTR_2E_D170331_S209-S-1-240min_MHRM_R...  \n",
       "1     _LNVLPVDVLTR_2E_D170331_S209-S-1-240min_MHRM_R...  \n",
       "2     _LNVLPVDVLTR_2E_D170331_S209-S-1-240min_MHRM_R...  \n",
       "3     _LNVLPVDVLTR_2E_D170331_S209-S-1-240min_MHRM_R...  \n",
       "4     _LNVLPVDVLTR_2E_D170331_S209-S-1-240min_MHRM_R...  \n",
       "...                                                 ...  \n",
       "9994  _GC[Carbamidomethyl (C)]VITISGR_2E_D170331_S20...  \n",
       "9995  _GC[Carbamidomethyl (C)]VITISGR_2E_D170331_S20...  \n",
       "9996  _GC[Carbamidomethyl (C)]VITISGR_2E_D170331_S20...  \n",
       "9997  _GC[Carbamidomethyl (C)]VITISGR_2E_D170331_S20...  \n",
       "9998  _GC[Carbamidomethyl (C)]VITISGR_2E_D170331_S20...  \n",
       "\n",
       "[9999 rows x 5 columns]"
      ]
     },
     "metadata": {},
     "output_type": "display_data"
    },
    {
     "name": "stdout",
     "output_type": "stream",
     "text": [
      "['_AAAAASAAGPGGLVAGKEEK_2E_D170331_S209-S-1-240min_MHRM_R01_T0.htrms', '_AAAAASAAGPGGLVAGKEEK_3E_D170331_S209-S-1-240min_MHRM_R01_T0.htrms', '_AAAAASAAGPGGLVAGK_2E_D170331_S209-S-1-240min_MHRM_R01_T0.htrms', '_AAANFSDR_2E_D170331_S209-S-1-240min_MHRM_R01_T0.htrms', '_AAAPEKPDAEHDAPQFIEPLDSIDR_4E_D170331_S209-S-1-240min_MHRM_R01_T0.htrms', '_AAFDVIVR_2E_D170331_S209-S-1-240min_MHRM_R01_T0.htrms', '_AAGAILK_1E_D170331_S209-S-1-240min_MHRM_R01_T0.htrms', '_AAGEHIASSGK_2E_D170331_S209-S-1-240min_MHRM_R01_T0.htrms', '_AAGIWYEHR_3E_D170331_S209-S-1-240min_MHRM_R01_T0.htrms', '_AALAATGAASGGGGGGGGAGSR_2E_D170331_S209-S-1-240min_MHRM_R01_T0.htrms']\n",
      "['_AAAAASAAGPGGLVAGKEEK_2E_D170331_S209-S-1-240min_MHRM_R01_T0.htrms', '_AAAAASAAGPGGLVAGKEEK_3E_D170331_S209-S-1-240min_MHRM_R01_T0.htrms', '_AAAAASAAGPGGLVAGK_2E_D170331_S209-S-1-240min_MHRM_R01_T0.htrms', '_AAANFSDR_2E_D170331_S209-S-1-240min_MHRM_R01_T0.htrms', '_AAAPEKPDAEHDAPQFIEPLDSIDR_4E_D170331_S209-S-1-240min_MHRM_R01_T0.htrms', '_AAFDVIVR_2E_D170331_S209-S-1-240min_MHRM_R01_T0.htrms', '_AAGAILK_1E_D170331_S209-S-1-240min_MHRM_R01_T0.htrms', '_AAGEHIASSGK_2E_D170331_S209-S-1-240min_MHRM_R01_T0.htrms', '_AAGIWYEHR_3E_D170331_S209-S-1-240min_MHRM_R01_T0.htrms', '_AALAATGAASGGGGGGGGAGSR_2E_D170331_S209-S-1-240min_MHRM_R01_T0.htrms']\n",
      "49\n",
      "1716\n"
     ]
    },
    {
     "data": {
      "image/png": "[encoded data removed]",
      "text/plain": [
       "<Figure size 640x480 with 1 Axes>"
      ]
     },
     "metadata": {},
     "output_type": "display_data"
    },
    {
     "data": {
      "image/png": "[encoded data removed]",
      "text/plain": [
       "<Figure size 640x480 with 1 Axes>"
      ]
     },
     "metadata": {},
     "output_type": "display_data"
    },
    {
     "name": "stdout",
     "output_type": "stream",
     "text": [
      "correlation between both processings: 1.0\n"
     ]
    }
   ],
   "source": [
    "\n",
    "input_file = os.path.join(tabledir, \"spectronaut.tsv\")\n",
    "samplemap_file = os.path.join(tabledir, \"samplemap.spectronaut.tsv\")\n",
    "\n",
    "\n",
    "input_data = lfqutils.import_data(input_file)\n",
    "samplemap_df = lfqutils.load_samplemap(samplemap_file)\n",
    "input_processed, samplemap_df_processed = lfqutils.prepare_loaded_tables(input_data, samplemap_df)\n",
    "compare_generic_table_with_original(input_processed, input_file, \"../directlfq/configs/intable_config.yaml\", \"spectronaut_precursor_v2\")"
   ]
  },
  {
   "cell_type": "code",
   "execution_count": null,
   "metadata": {},
   "outputs": [],
   "source": []
  }
 ],
 "metadata": {
  "kernelspec": {
   "display_name": "alphatemplate",
   "language": "python",
   "name": "python3"
  }
 },
 "nbformat": 4,
 "nbformat_minor": 2
}
