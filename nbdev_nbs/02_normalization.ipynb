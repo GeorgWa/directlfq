{
 "cells": [
  {
   "cell_type": "raw",
   "metadata": {},
   "source": [
    "---\n",
    "output-file: normalization.html\n",
    "title: Normalization\n",
    "\n",
    "---\n",
    "\n"
   ]
  },
  {
   "cell_type": "code",
   "execution_count": 1,
   "metadata": {},
   "outputs": [],
   "source": [
    "#| default_exp normalization"
   ]
  },
  {
   "cell_type": "markdown",
   "metadata": {},
   "source": []
  },
  {
   "cell_type": "markdown",
   "metadata": {},
   "source": [
    "## Within-condition normalization\n",
    "It is common practice and highly recommended to measure multiple samples of a given condition. This ensures that observed changes between conditions are not just due to random variation. Examples of samples within the same condition could be biological replicates, but also patients with the same clinical condition. \n",
    "We want to ensure that systematic changes between within-condition samples are corrected for as follows:\n",
    "\n",
    "* Our assumed input values are log2 transformed peptide ion intensities, which are stored in a 2d numpy array called \"samples\". Each row in samples represents a peptide and each column represents a sample\n",
    "\n",
    "* In a first step, we determine the all pairwise distances between the samples (details explained below)\n",
    "* We then choose the pair of samples with the closest distance between each other\n",
    "* We randomly choose one \"anchor\" sample and one \"shift\" sample and we subtract the distance between the samples from each peptide intensity measured in the \"shift\" sample. This is equivalent to rescaling the intensities of the original sample by a constant factor such that the distributions are aligned\n",
    "* We then construct a virtual \"merged\" sample by computing the average intensities of anchor and shift sample\n",
    "* We repeat the steps above until all samples are merged. Keeping track of the shift factors allows us then to determine an ideal shift for each sample\n",
    "\n"
   ]
  },
  {
   "cell_type": "code",
   "execution_count": 2,
   "metadata": {},
   "outputs": [],
   "source": [
    "#| export\n",
    "import numpy as np\n",
    "import pandas as pd\n",
    "import time\n",
    "\n",
    "def get_normfacts(samples):##row is the sample column is the features\n",
    "\n",
    "    \"finds optimal scaling factors for samples measured in the same condition and corrects the samples by these scaling factors. Takes a 2d numpy array as input  \"\n",
    "    set_samples_with_only_single_intensity_to_nan(samples)\n",
    "    num_samples = samples.shape[0]\n",
    "    mergedsamples = np.copy(samples) #the virtual \"merged\" samples will be stored in this array\n",
    "    sampleidx2shift = dict(zip(range(num_samples), np.zeros(num_samples))) #the scaling factors applied to the samples are stored here\n",
    "    sampleidx2counts = dict(zip(range(num_samples), np.ones(num_samples)))#keeps track of how many distributions are merged\n",
    "    sampleidx2anchoridx = {} #keeps track of the shifted samples\n",
    "    exclusion_set = set() #already clustered samples are stored here\n",
    "    distance_matrix = create_distance_matrix(samples)\n",
    "    variance_matrix = create_distance_matrix(samples, metric = 'variance')\n",
    "    #print(f\"distance matrix start\\n{distance_matrix}\")\n",
    "\n",
    "    for rep in range(num_samples-1):\n",
    "        #anchor_idx, shift_idx, min_distance = get_bestmatch_pair(mergedsamples, exclusion_set, sampleidx2counts)\n",
    "        anchor_idx, shift_idx, min_distance = get_bestmatch_pair(distance_matrix,variance_matrix, sampleidx2counts)\n",
    "        \n",
    "        # #determine the closest pair of samples (one \"shift\" sample to be shifted and one \"anchor sample which stays the same\") and the distance between this pair\n",
    "        #update the sets\n",
    "\n",
    "        if(anchor_idx == None):\n",
    "            break\n",
    "        sampleidx2anchoridx.update({shift_idx : anchor_idx})\n",
    "        sampleidx2shift.update({shift_idx : min_distance })\n",
    "        exclusion_set.add(shift_idx)\n",
    "\n",
    "        anchor_sample = mergedsamples[anchor_idx]\n",
    "        shift_sample = samples[shift_idx]\n",
    "        shifted_sample = shift_sample + min_distance\n",
    "        \n",
    "        merged_sample = merge_distribs(anchor_sample, shifted_sample, sampleidx2counts[anchor_idx], sampleidx2counts[shift_idx])\n",
    "        mergedsamples[anchor_idx] = merged_sample\n",
    "\n",
    "\n",
    "        update_distance_matrix(variance_matrix, mergedsamples, anchor_idx, shift_idx, metric='variance')\n",
    "        update_distance_matrix(distance_matrix, mergedsamples, anchor_idx, shift_idx)\n",
    "\n",
    "        #print(f\"distance matrix after\\n{distance_matrix}\")\n",
    "        sampleidx2counts[anchor_idx]+=1\n",
    "\n",
    "    sampleidx2totalshift = {}\n",
    "    for i in exclusion_set:\n",
    "        shift = get_total_shift(sampleidx2anchoridx, sampleidx2shift, i)\n",
    "        sampleidx2totalshift[i] = shift\n",
    "        #samples[i] = samples[i]+shift\n",
    "    return sampleidx2totalshift\n",
    "    #return samples\n",
    "\n",
    "def set_samples_with_only_single_intensity_to_nan(samples):\n",
    "    for idx in range(len(samples)):\n",
    "        sample = samples[idx]\n",
    "        if sum(~np.isnan(sample)) <2:\n",
    "            sample[:] = np.nan\n",
    "            \n",
    "\n",
    "def apply_sampleshifts(samples, sampleidx2shift):\n",
    "    for idx in sampleidx2shift.keys():\n",
    "        samples[idx] = samples[idx] + sampleidx2shift.get(idx)\n",
    "    return samples"
   ]
  },
  {
   "cell_type": "markdown",
   "metadata": {},
   "source": [
    "### Find the best matching pair\n",
    "Take all pairs of the columns in the \"samples\" array that have not been already merged and compute the distance between the pairs as follows:\n",
    "* Subtract sample1 from sample2 (or sample2 from sample1, the order does not matter)\n",
    "* This results in a distribution of differences. As the samples array contains log2 intensities, this corresponds to taking log2 fold changes\n",
    "* Take the median of the distribution, this is a good approximation for the change between the two distributions\n",
    "* Select the two samples with the lowest absolute change"
   ]
  },
  {
   "cell_type": "code",
   "execution_count": 3,
   "metadata": {},
   "outputs": [],
   "source": [
    "#| export\n",
    "def get_bestmatch_pair(distance_matrix, variance_matrix, sample2counts):\n",
    "    \n",
    "    i,j = np.unravel_index(np.argmin(variance_matrix, axis=None), variance_matrix.shape)\n",
    "    min_distance = distance_matrix[i,j]\n",
    "    #print(f\"idxs are {i}, {j} median is {distance_matrix[i][j]} variance is {variance_matrix[i][j]}\")\n",
    "    if(min_distance == np.inf):\n",
    "        return None, None, None\n",
    "    anchor_idx, shift_idx, min_distance = determine_anchor_and_shift_sample(sample2counts,i, j, min_distance) #direction flip of distance if necessary\n",
    "    return anchor_idx, shift_idx, min_distance"
   ]
  },
  {
   "cell_type": "code",
   "execution_count": 4,
   "metadata": {},
   "outputs": [],
   "source": [
    "#| export\n",
    "def create_distance_matrix(samples, metric = 'median'):\n",
    "    num_samples = samples.shape[0]\n",
    "    distance_matrix = np.full((num_samples, num_samples), np.inf)\n",
    "    for i in range(num_samples):\n",
    "        for j in range(i+1, num_samples):#do every comparison once\n",
    "            distance_matrix[i,j] = calc_distance(metric, samples[i], samples[j]) #the median of the shifted distribution is taken as the distance measure\n",
    "            \n",
    "    return distance_matrix"
   ]
  },
  {
   "cell_type": "code",
   "execution_count": 5,
   "metadata": {},
   "outputs": [],
   "source": [
    "#| export\n",
    "from numba import njit\n",
    "\n",
    "def calc_distance(metric, samples_1, samples_2):\n",
    "    res = None\n",
    "\n",
    "    if metric == 'median':\n",
    "        res = calc_nanmedian(get_fcdistrib(samples_1, samples_2))#the median of the shifted distribution is taken as the distance measure\n",
    "    if(metric == 'variance'):\n",
    "        fcdist = get_fcdistrib(samples_1, samples_2)\n",
    "        #if sum(~np.isnan(fcdist))<3:\n",
    "         #   return 1000.0\n",
    "        res = calc_nanvar(fcdist)\n",
    "    if metric == 'overlap':\n",
    "        fcdist = get_fcdistrib(samples_1, samples_2)\n",
    "        res = sum(~np.isnan(fcdist))\n",
    "    if res == None:\n",
    "        raise Exception(f\"distance metric {metric} not implemented\")\n",
    "    if(np.isnan(res)):\n",
    "        return np.inf\n",
    "    else:\n",
    "        return res\n",
    "\n",
    "@njit\n",
    "def calc_nanvar(fcdist):\n",
    "    return np.nanvar(fcdist)\n",
    "\n",
    "@njit\n",
    "def calc_nanmedian(fcdist):\n",
    "    return np.nanmedian(fcdist)"
   ]
  },
  {
   "cell_type": "code",
   "execution_count": 6,
   "metadata": {},
   "outputs": [],
   "source": [
    "#| export\n",
    "def update_distance_matrix(distance_matrix, merged_samples, merged_sample_idx, shift_idx,metric ='median'):\n",
    "    \"determine the distances to the newly merged sample\"\n",
    "    for i in range(0, merged_sample_idx):#update rows of distance matrix\n",
    "        if distance_matrix[i, merged_sample_idx]==np.inf:#do not compare already merged samples\n",
    "            continue\n",
    "        distance = calc_distance(metric,merged_samples[i], merged_samples[merged_sample_idx])\n",
    "        distance_matrix[i, merged_sample_idx] = distance\n",
    "    \n",
    "    for j in range(merged_sample_idx+1, merged_samples.shape[0]):#update columns of distance matrix\n",
    "        if distance_matrix[merged_sample_idx, j] == np.inf:\n",
    "            continue\n",
    "        distance = calc_distance(metric,merged_samples[merged_sample_idx], merged_samples[j])\n",
    "        distance_matrix[merged_sample_idx, j] = distance\n",
    "    \n",
    "    distance_matrix[shift_idx] = np.inf #shifted samples are excluded by setting distance to infinity\n",
    "    distance_matrix[:, shift_idx] = np.inf\n",
    "        "
   ]
  },
  {
   "cell_type": "code",
   "execution_count": 7,
   "metadata": {},
   "outputs": [],
   "source": [
    "#| export\n",
    "def get_fcdistrib(logvals_rep1, logvals_rep2):\n",
    "    \"generates difference distribution between two samples\"\n",
    "    dist = np.subtract(logvals_rep1, logvals_rep2)\n",
    "    return dist"
   ]
  },
  {
   "cell_type": "code",
   "execution_count": 8,
   "metadata": {},
   "outputs": [],
   "source": [
    "#| export\n",
    "def determine_anchor_and_shift_sample(sample2counts, i_min, j_min, min_distance):\n",
    "    \"given two samples, declare the sample with fewer merges as the shift\"\n",
    "    counts_i = sample2counts[i_min]\n",
    "    counts_j = sample2counts[j_min]\n",
    "    anchor_idx = i_min if counts_i>=counts_j else j_min\n",
    "    shift_idx = j_min if anchor_idx == i_min else i_min\n",
    "    flip = 1 if anchor_idx == i_min else -1\n",
    "    return anchor_idx, shift_idx, flip*min_distance"
   ]
  },
  {
   "cell_type": "markdown",
   "metadata": {},
   "source": [
    "### Shifting samples\n",
    "When we have computed the distance between two samples, we want to correct one of the samples by this distance. This results in two distributions with the same median value. We always shift the sample which has been merged from fewer distributions (see below for details). The sample to which the shift is applied is call \"shift\" sample and the sample which is not shifted is called \"anchor\" sample.\n",
    "A \"total shift\" is calculated after all samples are merged, just by following up how many shifts have been applied to a sample in total"
   ]
  },
  {
   "cell_type": "code",
   "execution_count": 9,
   "metadata": {},
   "outputs": [],
   "source": [
    "#| export\n",
    "def shift_samples(samples, sampleidx2anchoridx, sample2shift):\n",
    "    for sample_idx in range(samples.shape[0]):\n",
    "        samples[sample_idx] = samples[sample_idx]+get_total_shift(sampleidx2anchoridx, sample2shift, sample_idx)"
   ]
  },
  {
   "cell_type": "code",
   "execution_count": 10,
   "metadata": {},
   "outputs": [],
   "source": [
    "#| export\n",
    "def get_total_shift(sampleidx2anchoridx, sample2shift,sample_idx):\n",
    "\n",
    "    total_shift = 0.0\n",
    "\n",
    "    while(True):\n",
    "        total_shift +=sample2shift[sample_idx]\n",
    "        if sample_idx not in sampleidx2anchoridx: #every shifted sample has an anchor\n",
    "            break\n",
    "        sample_idx = sampleidx2anchoridx[sample_idx]\n",
    "\n",
    "    return total_shift"
   ]
  },
  {
   "cell_type": "markdown",
   "metadata": {},
   "source": [
    "### Merging distributions\n",
    "After we shift two distributions on top of each other, we calculate a \"merged\" distribution. Each intensity in the merged distribution is the average of the intensity in both distributions. For the merging we have to take into account the following: If for example the anchor sample has already been merged from 10 samples, and the shift distribution has not been merged at all, we want to weigh the distribution coming from many samples higher. We hence multiply each sample by the number of merges."
   ]
  },
  {
   "cell_type": "code",
   "execution_count": 11,
   "metadata": {},
   "outputs": [],
   "source": [
    "#| export\n",
    "import time\n",
    "import numpy as np\n",
    "\n",
    "def merge_distribs(anchor_distrib, shifted_distrib,counts_anchor_distrib, counts_shifted_distrib):\n",
    "    \"Calculate the average peptide intensities to merge two peptide distributions\"\n",
    "\n",
    "    t_alt = time.time()\n",
    "    res = np.zeros(len(anchor_distrib))\n",
    "\n",
    "    nans_anchor = np.isnan(anchor_distrib)\n",
    "    nans_shifted = np.isnan(shifted_distrib)\n",
    "    nans_anchor_and_shifted = nans_anchor & nans_shifted\n",
    "    nans_only_anchor = nans_anchor & ~nans_shifted\n",
    "    nans_only_shifted = nans_shifted &~nans_anchor\n",
    "    no_nans = ~nans_anchor & ~nans_shifted\n",
    "\n",
    "    idx_anchor_and_shifted = np.where(nans_anchor_and_shifted)\n",
    "    idx_only_anchor = np.where(nans_only_anchor)\n",
    "    idx_only_shifted = np.where(nans_only_shifted)\n",
    "    idx_no_nans = np.where(no_nans)\n",
    "\n",
    "    res[idx_anchor_and_shifted] = np.nan\n",
    "    res[idx_only_anchor] = shifted_distrib[idx_only_anchor]\n",
    "    res[idx_only_shifted] = anchor_distrib[idx_only_shifted]\n",
    "    res[idx_no_nans] = (anchor_distrib[idx_no_nans] *counts_anchor_distrib + shifted_distrib[idx_no_nans]*counts_shifted_distrib)/(counts_anchor_distrib+counts_shifted_distrib)\n",
    "    return res"
   ]
  },
  {
   "cell_type": "markdown",
   "metadata": {},
   "source": [
    "## Wrapper functions"
   ]
  },
  {
   "cell_type": "code",
   "execution_count": 12,
   "metadata": {},
   "outputs": [],
   "source": [
    "#| export\n",
    "import pandas as pd\n",
    "\n",
    "def normalize_dataframe_between_samples(ion_dataframe):\n",
    "    sample2shift = get_normfacts(drop_nas_if_possible(ion_dataframe).to_numpy())\n",
    "    df_c_normed = pd.DataFrame(apply_sampleshifts(ion_dataframe.to_numpy(), sample2shift), index = ion_dataframe.index, columns = ion_dataframe.columns)\n",
    "    return df_c_normed\n",
    "\n",
    "def normalize_ion_profiles(protein_profile_df):\n",
    "    protein_profile_numpy = protein_profile_df.to_numpy()\n",
    "    sample2shift = get_normfacts(protein_profile_numpy)\n",
    "    df_normed = pd.DataFrame(apply_sampleshifts(protein_profile_numpy, sample2shift), index = protein_profile_df.index, columns = protein_profile_df.columns)\n",
    "    return df_normed\n",
    "\n",
    "\n",
    "def drop_nas_if_possible(df):\n",
    "    df_nonans = df.dropna(axis=1)\n",
    "    fraction_nonans = calculate_fraction_with_no_NAs(df, df_nonans)\n",
    "    num_nonans = len(df_nonans.columns)\n",
    "    if num_nonans<1000 or fraction_nonans<0.001:\n",
    "        print('to few values for normalization without missing values. Including missing values')\n",
    "        return df\n",
    "    else:\n",
    "        return df_nonans\n",
    "\n",
    "def calculate_fraction_with_no_NAs(df, df_nonnans):\n",
    "    return len(df_nonnans.columns)/len(df.columns)\n"
   ]
  },
  {
   "cell_type": "code",
   "execution_count": 13,
   "metadata": {},
   "outputs": [],
   "source": [
    "#| export\n",
    "import logging\n",
    "\n",
    "class NormalizationManager():\n",
    "    def __init__(self, complete_dataframe, num_samples_quadratic = 100):\n",
    "        self.complete_dataframe = complete_dataframe\n",
    "        self._num_samples_quadratic = num_samples_quadratic\n",
    "        self._rows_sorted_by_number_valid_values = None\n",
    "        self._quadratic_subset_rows = None\n",
    "        self._linear_subset_rows = None\n",
    "        self._merged_reference_sample = None #pd.Series with mean intensity\n",
    "        self.normalization_function = None\n",
    "\n",
    "    def _run_normalization(self):\n",
    "        if len(self.complete_dataframe.index) <= self._num_samples_quadratic:\n",
    "            self._normalize_complete_input_quadratic()\n",
    "        else:\n",
    "            self._normalize_quadratic_and_linear()\n",
    "    \n",
    "    def _normalize_complete_input_quadratic(self):\n",
    "        self.complete_dataframe =  self.normalization_function(self.complete_dataframe)\n",
    "    \n",
    "    def _normalize_quadratic_and_linear(self):\n",
    "        self._determine_subset_rows()\n",
    "        self._normalize_quadratic_selection()\n",
    "        self._create_reference_sample()\n",
    "        self._shift_remaining_dataframe_to_reference_sample()\n",
    "\n",
    "    def _determine_subset_rows(self):\n",
    "        self._determine_sorted_rows()\n",
    "        self._quadratic_subset_rows = self._rows_sorted_by_number_valid_values[:self._num_samples_quadratic]\n",
    "        self._linear_subset_rows = [x for x in self.complete_dataframe.index if x not in self._quadratic_subset_rows]\n",
    "\n",
    "    def _determine_sorted_rows(self):\n",
    "        rows = self.complete_dataframe.index\n",
    "        self._rows_sorted_by_number_valid_values =  sorted(rows, key= lambda idx : self._get_num_nas_in_row(self.complete_dataframe.loc[idx,:].to_numpy()))\n",
    "\n",
    "    def _normalize_quadratic_selection(self):\n",
    "        quadratic_subset_dataframe = self.complete_dataframe.loc[self._quadratic_subset_rows]\n",
    "        self.complete_dataframe.loc[self._quadratic_subset_rows,:] = self.normalization_function(quadratic_subset_dataframe)\n",
    "    \n",
    "    def _create_reference_sample(self):\n",
    "        quadratic_subset_dataframe = self.complete_dataframe.loc[self._quadratic_subset_rows]\n",
    "        self._merged_reference_sample = quadratic_subset_dataframe.median(axis=0)\n",
    "    \n",
    "    def _shift_remaining_dataframe_to_reference_sample(self):\n",
    "        linear_subset_dataframe = self.complete_dataframe.loc[self._linear_subset_rows]\n",
    "        linear_shifted_dataframe = SampleShifterLinear(linear_subset_dataframe, self._merged_reference_sample).ion_dataframe\n",
    "        self.complete_dataframe.loc[ self._linear_subset_rows, :] = linear_shifted_dataframe\n",
    "    \n",
    "    @staticmethod\n",
    "    @njit\n",
    "    def _get_num_nas_in_row(row):\n",
    "        return sum(np.isnan(row))\n",
    "\n",
    "class NormalizationManagerSamples(NormalizationManager):\n",
    "    def __init__(self, complete_dataframe, num_samples_quadratic):\n",
    "        complete_dataframe = complete_dataframe.T #the samples to shift are in each row, therefore the df needs to be transposed\n",
    "        super().__init__(complete_dataframe, num_samples_quadratic)\n",
    "        self.normalization_function = normalize_dataframe_between_samples\n",
    "        self._run_normalization()\n",
    "        self.complete_dataframe = complete_dataframe.T\n",
    "\n",
    "class NormalizationManagerSamplesOnSelectedProteins(NormalizationManager):\n",
    "    def __init__(self, complete_dataframe, num_samples_quadratic, selected_proteins_file = None):\n",
    "        complete_dataframe = complete_dataframe.T #the samples to shift are in each row, therefore the df needs to be transposed\n",
    "        super().__init__(complete_dataframe, num_samples_quadratic)\n",
    "        self.normalization_function = self._normalization_function\n",
    "        self._selected_proteins_file = selected_proteins_file\n",
    "        self._selected_protein_groups = None\n",
    "        self._adapt_selected_proteins_to_protein_groups()\n",
    "        self._run_normalization()\n",
    "        self.complete_dataframe = complete_dataframe.T\n",
    "    \n",
    "    def _adapt_selected_proteins_to_protein_groups(self):\n",
    "        if self._selected_proteins_file is not None:\n",
    "            logging.info('Normalizing only selected proteins')\n",
    "            selected_proteins = pd.read_csv(self._selected_proteins_file, header=None, sep='\\t')[0].to_list()\n",
    "            protein2proteingroup_mapping = self._get_protein2proteingroup_mapping()\n",
    "            existing_selected_proteins = [protein for protein in selected_proteins if protein in protein2proteingroup_mapping.keys()]\n",
    "            self._selected_protein_groups = [protein2proteingroup_mapping[protein] for protein in existing_selected_proteins]\n",
    "    \n",
    "    def _get_protein2proteingroup_mapping(self):\n",
    "        protein_groups = self.complete_dataframe.columns.get_level_values(0).to_list()\n",
    "        protein2proteingroup_mapping = {protein : protein_group for protein_group in protein_groups for protein in protein_group.split(';')}\n",
    "        return protein2proteingroup_mapping\n",
    "   \n",
    "    def _normalization_function(self, ion_dataframe):\n",
    "        if self._selected_protein_groups is not None:\n",
    "            ion_dataframe_selected = ion_dataframe.loc[:,self._selected_protein_groups]\n",
    "            sample2shift = get_normfacts(ion_dataframe_selected.to_numpy())\n",
    "        else:\n",
    "            ion_dataframe_selected = ion_dataframe\n",
    "            sample2shift = get_normfacts(drop_nas_if_possible(ion_dataframe_selected).to_numpy())\n",
    "\n",
    "        df_c_normed = pd.DataFrame(apply_sampleshifts(ion_dataframe.to_numpy(), sample2shift), index = ion_dataframe.index, columns = ion_dataframe.columns)\n",
    "        return df_c_normed\n",
    "    \n",
    "    def _create_reference_sample(self):\n",
    "        quadratic_subset_dataframe = self.complete_dataframe.loc[self._quadratic_subset_rows, self._selected_protein_groups]\n",
    "        self._merged_reference_sample = quadratic_subset_dataframe.median(axis=0)\n",
    "    \n",
    "    def _shift_remaining_dataframe_to_reference_sample(self):\n",
    "        linear_subset_dataframe = self.complete_dataframe.loc[self._linear_subset_rows]\n",
    "        linear_shifted_dataframe = SampleShifterLinear(linear_subset_dataframe, self._merged_reference_sample, protein_subset = self._selected_protein_groups).ion_dataframe\n",
    "        self.complete_dataframe.loc[ self._linear_subset_rows, :] = linear_shifted_dataframe\n",
    "    \n",
    "\n",
    "class NormalizationManagerProtein(NormalizationManager):\n",
    "    def __init__(self, complete_dataframe, num_samples_quadratic):\n",
    "        super().__init__(complete_dataframe, num_samples_quadratic)\n",
    "        self.normalization_function = normalize_ion_profiles\n",
    "        self._rows_sorted_by_number_valid_values = None\n",
    "        self._run_normalization()"
   ]
  },
  {
   "cell_type": "markdown",
   "metadata": {},
   "source": [
    "## Shift linear to reference"
   ]
  },
  {
   "cell_type": "code",
   "execution_count": 14,
   "metadata": {},
   "outputs": [],
   "source": [
    "#| export\n",
    "\n",
    "class SampleShifterLinearToMedian():\n",
    "    def __init__(self, ion_dataframe):\n",
    "        self.ion_dataframe = ion_dataframe\n",
    "        self._merged_reference_sample = ion_dataframe.median(axis=0)\n",
    "        self._shift_to_median()\n",
    "    \n",
    "    def _shift_to_median(self):\n",
    "        self.ion_dataframe = SampleShifterLinear(self.ion_dataframe, self._merged_reference_sample).ion_dataframe\n"
   ]
  },
  {
   "cell_type": "code",
   "execution_count": 15,
   "metadata": {},
   "outputs": [],
   "source": [
    "#| export\n",
    "class SampleShifterLinear():\n",
    "    def __init__(self, ion_dataframe, reference_intensities, protein_subset = None):\n",
    "        self.ion_dataframe = ion_dataframe\n",
    "        self._protein_subset = protein_subset\n",
    "        self._ion_dataframe_values = None\n",
    "        self._reference_intensities = reference_intensities.to_numpy()\n",
    "        self._define_ion_dataframe_values()\n",
    "        self._shift_columns_to_reference_sample()\n",
    "        #self._update_ion_dataframe()\n",
    "\n",
    "    def _define_ion_dataframe_values(self):\n",
    "        if self._protein_subset is not None:\n",
    "            self._ion_dataframe_values = self.ion_dataframe.loc[: , self._protein_subset].to_numpy()\n",
    "        else:\n",
    "            self._ion_dataframe_values = self.ion_dataframe.to_numpy()\n",
    "\n",
    "    def _shift_columns_to_reference_sample(self):\n",
    "        num_rows = self._ion_dataframe_values.shape[0]\n",
    "        for row_idx in range(num_rows):\n",
    "            self._shift_to_reference_sample(row_idx)\n",
    "    \n",
    "    def _shift_to_reference_sample(self, row_idx):\n",
    "        distance_to_reference = calc_distance(metric='median', samples_1=self._reference_intensities, samples_2=self._ion_dataframe_values[row_idx,:]) #reference-sample = distance\n",
    "        self.ion_dataframe.iloc[row_idx, :] += distance_to_reference\n",
    "        #self._ion_dataframe_values[row_idx, :] += distance_to_reference\n",
    "    \n",
    "    def _update_ion_dataframe(self):\n",
    "        self.ion_dataframe.loc[:,:] = self._ion_dataframe_values"
   ]
  },
  {
   "cell_type": "markdown",
   "metadata": {},
   "source": [
    "## Unit tests"
   ]
  },
  {
   "cell_type": "code",
   "execution_count": 16,
   "metadata": {},
   "outputs": [],
   "source": [
    "#| include: false\n",
    "def test_merged_distribs():\n",
    "    anchor_distrib = np.array([1, 1, 1, 1, 1])\n",
    "    shift_distrib = np.array([2, 2, 2, 2, 2])\n",
    "    counts_anchor_distrib = 4\n",
    "    counts_shifted_distib = 1\n",
    "    assert (merge_distribs(anchor_distrib, shift_distrib, counts_anchor_distrib, counts_shifted_distib)== np.array([1.2, 1.2, 1.2, 1.2, 1.2])).any()\n"
   ]
  },
  {
   "cell_type": "code",
   "execution_count": 17,
   "metadata": {},
   "outputs": [],
   "source": [
    "\n",
    "test_merged_distribs() "
   ]
  },
  {
   "cell_type": "code",
   "execution_count": 18,
   "metadata": {},
   "outputs": [],
   "source": [
    "#| include: false\n",
    "import numpy as np\n",
    "import pandas as pd\n",
    "\n",
    "\n",
    "def test_order_of_shifts():\n",
    "    vals1 = [1, np.nan, 1.5]\n",
    "    vals2 = [1, 1, np.nan]\n",
    "    vals3 = [3.2, 1, 2.8]\n",
    "    vals4 = [4.2, 2, 3.8]\n",
    "    list_of_vals = [vals1, vals2, vals3, vals4]\n",
    "    protein_profile_df = create_input_df_from_input_vals(list_of_vals)\n",
    "    display(protein_profile_df)\n",
    "    protein_profile_numpy = protein_profile_df.to_numpy()\n",
    "    sample2shift = get_normfacts(protein_profile_numpy)\n",
    "    print(sample2shift)\n",
    "    print(create_distance_matrix(protein_profile_numpy, metric = 'variance'))\n",
    "    \n",
    "    df_normed = pd.DataFrame(apply_sampleshifts(protein_profile_numpy, sample2shift), index = protein_profile_df.index, columns = protein_profile_df.columns)\n",
    "    display(df_normed)\n",
    "\n",
    "def create_input_df_from_input_vals(list_of_vals):\n",
    "    index_vals = [(\"A\", f\"ion{x}\") for x in range(len(list_of_vals))]\n",
    "    index = pd.Index(index_vals, name=('protein', 'ion'))\n",
    "    return pd.DataFrame(list_of_vals, index=index)\n"
   ]
  },
  {
   "cell_type": "code",
   "execution_count": 19,
   "metadata": {},
   "outputs": [
    {
     "data": {
      "text/html": [
       "<div>\n",
       "<style scoped>\n",
       "    .dataframe tbody tr th:only-of-type {\n",
       "        vertical-align: middle;\n",
       "    }\n",
       "\n",
       "    .dataframe tbody tr th {\n",
       "        vertical-align: top;\n",
       "    }\n",
       "\n",
       "    .dataframe thead th {\n",
       "        text-align: right;\n",
       "    }\n",
       "</style>\n",
       "<table border=\"1\" class=\"dataframe\">\n",
       "  <thead>\n",
       "    <tr style=\"text-align: right;\">\n",
       "      <th></th>\n",
       "      <th></th>\n",
       "      <th>0</th>\n",
       "      <th>1</th>\n",
       "      <th>2</th>\n",
       "    </tr>\n",
       "    <tr>\n",
       "      <th>protein</th>\n",
       "      <th>ion</th>\n",
       "      <th></th>\n",
       "      <th></th>\n",
       "      <th></th>\n",
       "    </tr>\n",
       "  </thead>\n",
       "  <tbody>\n",
       "    <tr>\n",
       "      <th rowspan=\"4\" valign=\"top\">A</th>\n",
       "      <th>ion0</th>\n",
       "      <td>1.0</td>\n",
       "      <td>NaN</td>\n",
       "      <td>1.5</td>\n",
       "    </tr>\n",
       "    <tr>\n",
       "      <th>ion1</th>\n",
       "      <td>1.0</td>\n",
       "      <td>1.0</td>\n",
       "      <td>NaN</td>\n",
       "    </tr>\n",
       "    <tr>\n",
       "      <th>ion2</th>\n",
       "      <td>3.2</td>\n",
       "      <td>1.0</td>\n",
       "      <td>2.8</td>\n",
       "    </tr>\n",
       "    <tr>\n",
       "      <th>ion3</th>\n",
       "      <td>4.2</td>\n",
       "      <td>2.0</td>\n",
       "      <td>3.8</td>\n",
       "    </tr>\n",
       "  </tbody>\n",
       "</table>\n",
       "</div>"
      ],
      "text/plain": [
       "                0    1    2\n",
       "protein ion                \n",
       "A       ion0  1.0  NaN  1.5\n",
       "        ion1  1.0  1.0  NaN\n",
       "        ion2  3.2  1.0  2.8\n",
       "        ion3  4.2  2.0  3.8"
      ]
     },
     "metadata": {},
     "output_type": "display_data"
    },
    {
     "name": "stdout",
     "output_type": "stream",
     "text": [
      "{1: 0.0, 2: -1.2999999999999998, 3: -2.3}\n",
      "[[   inf 0.     0.2025 0.2025]\n",
      " [   inf    inf 1.21   1.21  ]\n",
      " [   inf    inf    inf 0.    ]\n",
      " [   inf    inf    inf    inf]]\n"
     ]
    },
    {
     "data": {
      "text/html": [
       "<div>\n",
       "<style scoped>\n",
       "    .dataframe tbody tr th:only-of-type {\n",
       "        vertical-align: middle;\n",
       "    }\n",
       "\n",
       "    .dataframe tbody tr th {\n",
       "        vertical-align: top;\n",
       "    }\n",
       "\n",
       "    .dataframe thead th {\n",
       "        text-align: right;\n",
       "    }\n",
       "</style>\n",
       "<table border=\"1\" class=\"dataframe\">\n",
       "  <thead>\n",
       "    <tr style=\"text-align: right;\">\n",
       "      <th></th>\n",
       "      <th></th>\n",
       "      <th>0</th>\n",
       "      <th>1</th>\n",
       "      <th>2</th>\n",
       "    </tr>\n",
       "    <tr>\n",
       "      <th>protein</th>\n",
       "      <th>ion</th>\n",
       "      <th></th>\n",
       "      <th></th>\n",
       "      <th></th>\n",
       "    </tr>\n",
       "  </thead>\n",
       "  <tbody>\n",
       "    <tr>\n",
       "      <th rowspan=\"4\" valign=\"top\">A</th>\n",
       "      <th>ion0</th>\n",
       "      <td>1.0</td>\n",
       "      <td>NaN</td>\n",
       "      <td>1.5</td>\n",
       "    </tr>\n",
       "    <tr>\n",
       "      <th>ion1</th>\n",
       "      <td>1.0</td>\n",
       "      <td>1.0</td>\n",
       "      <td>NaN</td>\n",
       "    </tr>\n",
       "    <tr>\n",
       "      <th>ion2</th>\n",
       "      <td>1.9</td>\n",
       "      <td>-0.3</td>\n",
       "      <td>1.5</td>\n",
       "    </tr>\n",
       "    <tr>\n",
       "      <th>ion3</th>\n",
       "      <td>1.9</td>\n",
       "      <td>-0.3</td>\n",
       "      <td>1.5</td>\n",
       "    </tr>\n",
       "  </tbody>\n",
       "</table>\n",
       "</div>"
      ],
      "text/plain": [
       "                0    1    2\n",
       "protein ion                \n",
       "A       ion0  1.0  NaN  1.5\n",
       "        ion1  1.0  1.0  NaN\n",
       "        ion2  1.9 -0.3  1.5\n",
       "        ion3  1.9 -0.3  1.5"
      ]
     },
     "metadata": {},
     "output_type": "display_data"
    }
   ],
   "source": [
    "\n",
    "test_order_of_shifts()"
   ]
  },
  {
   "cell_type": "code",
   "execution_count": null,
   "metadata": {},
   "outputs": [],
   "source": []
  },
  {
   "cell_type": "code",
   "execution_count": null,
   "metadata": {},
   "outputs": [],
   "source": []
  },
  {
   "cell_type": "code",
   "execution_count": 20,
   "metadata": {},
   "outputs": [],
   "source": [
    "#| include: false\n",
    "def generate_randarrays(number_arrays,size_of_array):\n",
    "    randarray = []\n",
    "    for i in range(number_arrays):\n",
    "        shift = np.random.uniform(low=-10, high=+10)\n",
    "        randarray.append(np.random.normal(loc=shift, size=size_of_array))\n",
    "    return np.array(randarray)"
   ]
  },
  {
   "cell_type": "code",
   "execution_count": 21,
   "metadata": {},
   "outputs": [],
   "source": [
    "#| include: false\n",
    "import numpy as np\n",
    "import matplotlib.pyplot as plt\n",
    "\n",
    "def test_sampleshift(samples):\n",
    "    num_samples = samples.shape[0]\n",
    "    merged_sample = []\n",
    "    for i in range(num_samples):\n",
    "        plt.hist(samples[i])\n",
    "        merged_sample.extend(samples[i])\n",
    "    stdev = np.std(merged_sample)\n",
    "    print(f\"STDev {stdev}\")\n",
    "    assert (stdev <=1.2) \n",
    "    \n",
    "    plt.show()\n"
   ]
  },
  {
   "cell_type": "code",
   "execution_count": 22,
   "metadata": {},
   "outputs": [
    {
     "name": "stdout",
     "output_type": "stream",
     "text": [
      "STDev 1.002632203122283\n"
     ]
    },
    {
     "data": {
      "image/png": "[encoded data removed]",
      "text/plain": [
       "<Figure size 432x288 with 1 Axes>"
      ]
     },
     "metadata": {
      "needs_background": "light"
     },
     "output_type": "display_data"
    }
   ],
   "source": [
    "\n",
    "randarray = generate_randarrays(5, 1000)\n",
    "sample2shift = get_normfacts(randarray)\n",
    "normalized_randarray = apply_sampleshifts(randarray, sample2shift)\n",
    "test_sampleshift(normalized_randarray)"
   ]
  },
  {
   "cell_type": "code",
   "execution_count": 23,
   "metadata": {},
   "outputs": [],
   "source": [
    "#| include: false\n",
    "import directlfq.utils as lfq_utils\n",
    "def test_normalizing_between_samples(num_samples_quadratic):\n",
    "    #input_file = \"../test_data/unit_tests/protein_normalization/example_proteins.tsv\"\n",
    "    input_file = \"../test_data/system_tests/MaxQuant_boxcar/peptides.txt.maxquant_peptides_benchmarking.aq_reformat.tsv\"\n",
    "    input_df = pd.read_csv(input_file, sep = '\\t')\n",
    "    input_df = lfq_utils.index_and_log_transform_input_df(input_df)\n",
    "    input_df = input_df[[x for x in input_df.columns if \"Shotgun\" in x]]\n",
    "    lfq_utils.plot_withincond_fcs(input_df)\n",
    "    input_df_normalized = NormalizationManagerSamples(input_df, num_samples_quadratic=num_samples_quadratic).complete_dataframe\n",
    "    lfq_utils.plot_withincond_fcs(input_df_normalized)\n"
   ]
  },
  {
   "cell_type": "code",
   "execution_count": 24,
   "metadata": {},
   "outputs": [
    {
     "data": {
      "image/png": "[encoded data removed]",
      "text/plain": [
       "<Figure size 432x288 with 1 Axes>"
      ]
     },
     "metadata": {
      "needs_background": "light"
     },
     "output_type": "display_data"
    },
    {
     "data": {
      "image/png": "[encoded data removed]",
      "text/plain": [
       "<Figure size 432x288 with 1 Axes>"
      ]
     },
     "metadata": {
      "needs_background": "light"
     },
     "output_type": "display_data"
    },
    {
     "data": {
      "image/png": "[encoded data removed]",
      "text/plain": [
       "<Figure size 432x288 with 1 Axes>"
      ]
     },
     "metadata": {
      "needs_background": "light"
     },
     "output_type": "display_data"
    },
    {
     "data": {
      "image/png": "[encoded data removed]",
      "text/plain": [
       "<Figure size 432x288 with 1 Axes>"
      ]
     },
     "metadata": {
      "needs_background": "light"
     },
     "output_type": "display_data"
    },
    {
     "data": {
      "image/png": "[encoded data removed]",
      "text/plain": [
       "<Figure size 432x288 with 1 Axes>"
      ]
     },
     "metadata": {
      "needs_background": "light"
     },
     "output_type": "display_data"
    },
    {
     "data": {
      "image/png": "[encoded data removed]",
      "text/plain": [
       "<Figure size 432x288 with 1 Axes>"
      ]
     },
     "metadata": {
      "needs_background": "light"
     },
     "output_type": "display_data"
    }
   ],
   "source": [
    "\n",
    "test_normalizing_between_samples(100)\n",
    "test_normalizing_between_samples(3)\n",
    "test_normalizing_between_samples(1)"
   ]
  },
  {
   "cell_type": "code",
   "execution_count": null,
   "metadata": {},
   "outputs": [],
   "source": []
  },
  {
   "cell_type": "markdown",
   "metadata": {},
   "source": [
    "## Learning Tests"
   ]
  },
  {
   "cell_type": "code",
   "execution_count": 25,
   "metadata": {},
   "outputs": [],
   "source": [
    "import numpy as np\n",
    "import seaborn as sns\n",
    "\n",
    "def test_taking_the_mean_along_an_axis():\n",
    "\n",
    "    example_set = sns.load_dataset(\"iris\").set_index(\"species\")\n",
    "\n",
    "    example_mean = example_set.mean(axis=1)\n",
    "\n",
    "    assert example_mean.to_numpy()[3] == np.mean([4.6, 3.1, 1.5, 0.2])\n"
   ]
  },
  {
   "cell_type": "code",
   "execution_count": 26,
   "metadata": {},
   "outputs": [],
   "source": [
    "\n",
    "test_taking_the_mean_along_an_axis()"
   ]
  },
  {
   "cell_type": "code",
   "execution_count": null,
   "metadata": {},
   "outputs": [],
   "source": []
  },
  {
   "cell_type": "code",
   "execution_count": null,
   "metadata": {},
   "outputs": [],
   "source": []
  },
  {
   "cell_type": "code",
   "execution_count": null,
   "metadata": {},
   "outputs": [],
   "source": []
  }
 ],
 "metadata": {
  "kernelspec": {
   "display_name": "directlfq",
   "language": "python",
   "name": "python3"
  },
  "language_info": {
   "codemirror_mode": {
    "name": "ipython",
    "version": 3
   },
   "file_extension": ".py",
   "mimetype": "text/x-python",
   "name": "python",
   "nbconvert_exporter": "python",
   "pygments_lexer": "ipython3",
   "version": "3.8.13 (default, Mar 28 2022, 06:16:26) \n[Clang 12.0.0 ]"
  },
  "vscode": {
   "interpreter": {
    "hash": "9de3b9232e447c280dd70250498a698134997f78cce557ab922912f202e5081f"
   }
  }
 },
 "nbformat": 4,
 "nbformat_minor": 2
}
