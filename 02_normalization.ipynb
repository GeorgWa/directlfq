{
 "cells": [
  {
   "cell_type": "code",
   "execution_count": 1,
   "metadata": {},
   "outputs": [],
   "source": [
    "# default_exp normalization"
   ]
  },
  {
   "cell_type": "markdown",
   "metadata": {},
   "source": [
    "# Normalization\n",
    "The normalization step of directlfq is adapted from the [MS-EmpiRe algorithm](https://doi.org/10.1074/mcp.RA119.001509). It aims at reducing systematic biases between samples. Such biases can for example occur when more material is pipetted in one of the samples. In principle, two steps are performed:\n",
    "\n",
    "1. Normalize between samples of the same condition (i.e. replicates)\n",
    "\n",
    "2. Normalize between different conditions\n",
    "\n",
    "\n"
   ]
  },
  {
   "cell_type": "markdown",
   "metadata": {},
   "source": [
    "## Within-condition normalization\n",
    "It is common practice and highly recommended to measure multiple samples of a given condition. This ensures that observed changes between conditions are not just due to random variation. Examples of samples within the same condition could be biological replicates, but also patients with the same clinical condition. \n",
    "We want to ensure that systematic changes between within-condition samples are corrected for as follows:\n",
    "\n",
    "* Our assumed input values are log2 transformed peptide ion intensities, which are stored in a 2d numpy array called \"samples\". Each row in samples represents a peptide and each column represents a sample\n",
    "\n",
    "* In a first step, we determine the all pairwise distances between the samples (details explained below)\n",
    "* We then choose the pair of samples with the closest distance between each other\n",
    "* We randomly choose one \"anchor\" sample and one \"shift\" sample and we subtract the distance between the samples from each peptide intensity measured in the \"shift\" sample. This is equivalent to rescaling the intensities of the original sample by a constant factor such that the distributions are aligned\n",
    "* We then construct a virtual \"merged\" sample by computing the average intensities of anchor and shift sample\n",
    "* We repeat the steps above until all samples are merged. Keeping track of the shift factors allows us then to determine an ideal shift for each sample\n",
    "\n"
   ]
  },
  {
   "cell_type": "code",
   "execution_count": 2,
   "metadata": {},
   "outputs": [],
   "source": [
    "#export\n",
    "import numpy as np\n",
    "import pandas as pd\n",
    "import time\n",
    "\n",
    "def get_normfacts(samples):##row is the sample column is the features\n",
    "\n",
    "    \"finds optimal scaling factors for samples measured in the same condition and corrects the samples by these scaling factors. Takes a 2d numpy array as input  \"\n",
    "    num_samples = samples.shape[0]\n",
    "    mergedsamples = np.copy(samples) #the virtual \"merged\" samples will be stored in this array\n",
    "    sampleidx2shift = dict(zip(range(num_samples), np.zeros(num_samples))) #the scaling factors applied to the samples are stored here\n",
    "    sampleidx2counts = dict(zip(range(num_samples), np.ones(num_samples)))#keeps track of how many distributions are merged\n",
    "    sampleidx2anchoridx = {} #keeps track of the shifted samples\n",
    "    exclusion_set = set() #already clustered samples are stored here\n",
    "    distance_matrix = create_distance_matrix(samples)\n",
    "    variance_matrix = create_distance_matrix(samples, metric = 'variance')\n",
    "    #print(f\"distance matrix start\\n{distance_matrix}\")\n",
    "\n",
    "    for rep in range(num_samples-1):\n",
    "        #anchor_idx, shift_idx, min_distance = get_bestmatch_pair(mergedsamples, exclusion_set, sampleidx2counts)\n",
    "        anchor_idx, shift_idx, min_distance = get_bestmatch_pair(distance_matrix,variance_matrix, sampleidx2counts)\n",
    "        \n",
    "        # #determine the closest pair of samples (one \"shift\" sample to be shifted and one \"anchor sample which stays the same\") and the distance between this pair\n",
    "        #update the sets\n",
    "\n",
    "        if(anchor_idx == None):\n",
    "            break\n",
    "        sampleidx2anchoridx.update({shift_idx : anchor_idx})\n",
    "        sampleidx2shift.update({shift_idx : min_distance })\n",
    "        exclusion_set.add(shift_idx)\n",
    "\n",
    "        anchor_sample = mergedsamples[anchor_idx]\n",
    "        shift_sample = samples[shift_idx]\n",
    "        shifted_sample = shift_sample + min_distance\n",
    "        \n",
    "        merged_sample = merge_distribs(anchor_sample, shifted_sample, sampleidx2counts[anchor_idx], sampleidx2counts[shift_idx])\n",
    "        mergedsamples[anchor_idx] = merged_sample\n",
    "\n",
    "\n",
    "        update_distance_matrix(variance_matrix, mergedsamples, anchor_idx, shift_idx, metric='variance')\n",
    "        update_distance_matrix(distance_matrix, mergedsamples, anchor_idx, shift_idx)\n",
    "\n",
    "        #print(f\"distance matrix after\\n{distance_matrix}\")\n",
    "        sampleidx2counts[anchor_idx]+=1\n",
    "\n",
    "    sampleidx2totalshift = {}\n",
    "    for i in exclusion_set:\n",
    "        shift = get_total_shift(sampleidx2anchoridx, sampleidx2shift, i)\n",
    "        sampleidx2totalshift[i] = shift\n",
    "        #samples[i] = samples[i]+shift\n",
    "    return sampleidx2totalshift\n",
    "    #return samples\n",
    "\n",
    "def apply_sampleshifts(samples, sampleidx2shift):\n",
    "    for idx in sampleidx2shift.keys():\n",
    "        samples[idx] = samples[idx] + sampleidx2shift.get(idx)\n",
    "    return samples"
   ]
  },
  {
   "cell_type": "markdown",
   "metadata": {},
   "source": [
    "### Find the best matching pair\n",
    "Take all pairs of the columns in the \"samples\" array that have not been already merged and compute the distance between the pairs as follows:\n",
    "* Subtract sample1 from sample2 (or sample2 from sample1, the order does not matter)\n",
    "* This results in a distribution of differences. As the samples array contains log2 intensities, this corresponds to taking log2 fold changes\n",
    "* Take the median of the distribution, this is a good approximation for the change between the two distributions\n",
    "* Select the two samples with the lowest absolute change"
   ]
  },
  {
   "cell_type": "code",
   "execution_count": 3,
   "metadata": {},
   "outputs": [],
   "source": [
    "#export\n",
    "def get_bestmatch_pair(distance_matrix, variance_matrix, sample2counts):\n",
    "    \n",
    "    i,j = np.unravel_index(np.argmin(variance_matrix, axis=None), variance_matrix.shape)\n",
    "    min_distance = distance_matrix[i,j]\n",
    "    #print(f\"idxs are {i}, {j} median is {distance_matrix[i][j]} variance is {variance_matrix[i][j]}\")\n",
    "    if(min_distance == np.inf):\n",
    "        return None, None, None\n",
    "    anchor_idx, shift_idx, min_distance = determine_anchor_and_shift_sample(sample2counts,i, j, min_distance) #direction flip of distance if necessary\n",
    "    return anchor_idx, shift_idx, min_distance\n"
   ]
  },
  {
   "cell_type": "code",
   "execution_count": 4,
   "metadata": {},
   "outputs": [],
   "source": [
    "#export\n",
    "def create_distance_matrix(samples, metric = 'median'):\n",
    "    num_samples = samples.shape[0]\n",
    "    distance_matrix = np.full((num_samples, num_samples), np.inf)\n",
    "    for i in range(num_samples):\n",
    "        for j in range(i+1, num_samples):#do every comparison once\n",
    "            distance_matrix[i,j] = calc_distance(metric, samples[i], samples[j]) #the median of the shifted distribution is taken as the distance measure\n",
    "            \n",
    "    return distance_matrix\n"
   ]
  },
  {
   "cell_type": "code",
   "execution_count": 5,
   "metadata": {},
   "outputs": [],
   "source": [
    "#export\n",
    "from numba import njit\n",
    "\n",
    "def calc_distance(metric, samples_1, samples_2):\n",
    "    res = None\n",
    "\n",
    "    if metric == 'median':\n",
    "        res = calc_nanmedian(get_fcdistrib(samples_1, samples_2))#the median of the shifted distribution is taken as the distance measure\n",
    "    if(metric == 'variance'):\n",
    "        fcdist = get_fcdistrib(samples_1, samples_2)\n",
    "        #if sum(~np.isnan(fcdist))<2:\n",
    "         #   return np.nan\n",
    "        res = calc_nanvar(fcdist)\n",
    "    if res == None:\n",
    "        raise Exception(f\"distance metric {metric} not implemented\")\n",
    "    if(np.isnan(res)):\n",
    "        return np.inf\n",
    "    else:\n",
    "        return res\n",
    "\n",
    "@njit\n",
    "def calc_nanvar(fcdist):\n",
    "    return np.nanvar(fcdist)\n",
    "\n",
    "@njit\n",
    "def calc_nanmedian(fcdist):\n",
    "    return np.nanmedian(fcdist)\n"
   ]
  },
  {
   "cell_type": "code",
   "execution_count": 6,
   "metadata": {},
   "outputs": [],
   "source": [
    "#export\n",
    "def update_distance_matrix(distance_matrix, merged_samples, merged_sample_idx, shift_idx,metric ='median'):\n",
    "    \"determine the distances to the newly merged sample\"\n",
    "    for i in range(0, merged_sample_idx):#update rows of distance matrix\n",
    "        if distance_matrix[i, merged_sample_idx]==np.inf:#do not compare already merged samples\n",
    "            continue\n",
    "        distance = calc_distance(metric,merged_samples[i], merged_samples[merged_sample_idx])\n",
    "        distance_matrix[i, merged_sample_idx] = distance\n",
    "    \n",
    "    for j in range(merged_sample_idx+1, merged_samples.shape[0]):#update columns of distance matrix\n",
    "        if distance_matrix[merged_sample_idx, j] == np.inf:\n",
    "            continue\n",
    "        distance = calc_distance(metric,merged_samples[merged_sample_idx], merged_samples[j])\n",
    "        distance_matrix[merged_sample_idx, j] = distance\n",
    "    \n",
    "    distance_matrix[shift_idx] = np.inf #shifted samples are excluded by setting distance to infinity\n",
    "    distance_matrix[:, shift_idx] = np.inf\n",
    "        "
   ]
  },
  {
   "cell_type": "code",
   "execution_count": 7,
   "metadata": {},
   "outputs": [],
   "source": [
    "#export\n",
    "def get_fcdistrib(logvals_rep1, logvals_rep2):\n",
    "    \"generates difference distribution between two samples\"\n",
    "    dist = np.subtract(logvals_rep1, logvals_rep2)\n",
    "    return dist"
   ]
  },
  {
   "cell_type": "code",
   "execution_count": 8,
   "metadata": {},
   "outputs": [],
   "source": [
    "#export\n",
    "def determine_anchor_and_shift_sample(sample2counts, i_min, j_min, min_distance):\n",
    "    \"given two samples, declare the sample with fewer merges as the shift\"\n",
    "    counts_i = sample2counts[i_min]\n",
    "    counts_j = sample2counts[j_min]\n",
    "    anchor_idx = i_min if counts_i>=counts_j else j_min\n",
    "    shift_idx = j_min if anchor_idx == i_min else i_min\n",
    "    flip = 1 if anchor_idx == i_min else -1\n",
    "    return anchor_idx, shift_idx, flip*min_distance"
   ]
  },
  {
   "cell_type": "markdown",
   "metadata": {},
   "source": [
    "### Shifting samples\n",
    "When we have computed the distance between two samples, we want to correct one of the samples by this distance. This results in two distributions with the same median value. We always shift the sample which has been merged from fewer distributions (see below for details). The sample to which the shift is applied is call \"shift\" sample and the sample which is not shifted is called \"anchor\" sample.\n",
    "A \"total shift\" is calculated after all samples are merged, just by following up how many shifts have been applied to a sample in total"
   ]
  },
  {
   "cell_type": "code",
   "execution_count": 9,
   "metadata": {},
   "outputs": [],
   "source": [
    "#export\n",
    "def shift_samples(samples, sampleidx2anchoridx, sample2shift):\n",
    "    for sample_idx in range(samples.shape[0]):\n",
    "        samples[sample_idx] = samples[sample_idx]+get_total_shift(sampleidx2anchoridx, sample2shift, sample_idx)"
   ]
  },
  {
   "cell_type": "code",
   "execution_count": 10,
   "metadata": {},
   "outputs": [],
   "source": [
    "#export\n",
    "def get_total_shift(sampleidx2anchoridx, sample2shift,sample_idx):\n",
    "\n",
    "    total_shift = 0.0\n",
    "\n",
    "    while(True):\n",
    "        total_shift +=sample2shift[sample_idx]\n",
    "        if sample_idx not in sampleidx2anchoridx: #every shifted sample has an anchor\n",
    "            break\n",
    "        sample_idx = sampleidx2anchoridx[sample_idx]\n",
    "\n",
    "    return total_shift"
   ]
  },
  {
   "cell_type": "markdown",
   "metadata": {},
   "source": [
    "### Merging distributions\n",
    "After we shift two distributions on top of each other, we calculate a \"merged\" distribution. Each intensity in the merged distribution is the average of the intensity in both distributions. For the merging we have to take into account the following: If for example the anchor sample has already been merged from 10 samples, and the shift distribution has not been merged at all, we want to weigh the distribution coming from many samples higher. We hence multiply each sample by the number of merges."
   ]
  },
  {
   "cell_type": "code",
   "execution_count": 11,
   "metadata": {},
   "outputs": [],
   "source": [
    "#export\n",
    "import time\n",
    "import numpy as np\n",
    "\n",
    "def merge_distribs(anchor_distrib, shifted_distrib,counts_anchor_distrib, counts_shifted_distrib):\n",
    "    \"Calculate the average peptide intensities to merge two peptide distributions\"\n",
    "\n",
    "    t_alt = time.time()\n",
    "    res = np.zeros(len(anchor_distrib))\n",
    "\n",
    "    nans_anchor = np.isnan(anchor_distrib)\n",
    "    nans_shifted = np.isnan(shifted_distrib)\n",
    "    nans_anchor_and_shifted = nans_anchor & nans_shifted\n",
    "    nans_only_anchor = nans_anchor & ~nans_shifted\n",
    "    nans_only_shifted = nans_shifted &~nans_anchor\n",
    "    no_nans = ~nans_anchor & ~nans_shifted\n",
    "\n",
    "    idx_anchor_and_shifted = np.where(nans_anchor_and_shifted)\n",
    "    idx_only_anchor = np.where(nans_only_anchor)\n",
    "    idx_only_shifted = np.where(nans_only_shifted)\n",
    "    idx_no_nans = np.where(no_nans)\n",
    "\n",
    "    res[idx_anchor_and_shifted] = np.nan\n",
    "    res[idx_only_anchor] = shifted_distrib[idx_only_anchor]\n",
    "    res[idx_only_shifted] = anchor_distrib[idx_only_shifted]\n",
    "    res[idx_no_nans] = (anchor_distrib[idx_no_nans] *counts_anchor_distrib + shifted_distrib[idx_no_nans]*counts_shifted_distrib)/(counts_anchor_distrib+counts_shifted_distrib)\n",
    "    return res"
   ]
  },
  {
   "cell_type": "markdown",
   "metadata": {},
   "source": [
    "## Compare Distributions"
   ]
  },
  {
   "cell_type": "markdown",
   "metadata": {},
   "source": [
    "## Wrapper functions"
   ]
  },
  {
   "cell_type": "code",
   "execution_count": 12,
   "metadata": {},
   "outputs": [],
   "source": [
    "#export\n",
    "import pandas as pd\n",
    "\n",
    "\n",
    "def normalize_dataframe_between_samples(ion_dataframe):\n",
    "    sample2shift = get_normfacts(drop_nas_if_possible(ion_dataframe).to_numpy().T)\n",
    "    df_c_normed = pd.DataFrame(apply_sampleshifts(ion_dataframe.to_numpy().T, sample2shift).T, index = ion_dataframe.index, columns = ion_dataframe.columns)\n",
    "    return df_c_normed\n",
    "\n",
    "def normalize_ion_profiles(protein_profile_df):\n",
    "    protein_profile_numpy = protein_profile_df.to_numpy()\n",
    "    sample2shift = get_normfacts(protein_profile_numpy)\n",
    "    df_normed = pd.DataFrame(apply_sampleshifts(protein_profile_numpy, sample2shift), index = protein_profile_df.index, columns = protein_profile_df.columns)\n",
    "    return df_normed\n",
    "\n",
    "\n",
    "def drop_nas_if_possible(df):\n",
    "    df_nonans = df.dropna(axis=0)\n",
    "    fraction_nonans = calculate_fraction_with_no_NAs(df, df_nonans)\n",
    "    if fraction_nonans<0.05:\n",
    "        print('to few values for normalization without missing values. Including missing values')\n",
    "        return df\n",
    "    else:\n",
    "        return df_nonans\n",
    "\n",
    "def calculate_fraction_with_no_NAs(df, df_nonnans):\n",
    "    return len(df_nonnans.index)/len(df.index)\n",
    "\n"
   ]
  },
  {
   "cell_type": "markdown",
   "metadata": {},
   "source": [
    "## Unit tests"
   ]
  },
  {
   "cell_type": "code",
   "execution_count": 13,
   "metadata": {},
   "outputs": [],
   "source": [
    "#hide\n",
    "def test_merged_distribs():\n",
    "    anchor_distrib = np.array([1, 1, 1, 1, 1])\n",
    "    shift_distrib = np.array([2, 2, 2, 2, 2])\n",
    "    counts_anchor_distrib = 4\n",
    "    counts_shifted_distib = 1\n",
    "    assert (merge_distribs(anchor_distrib, shift_distrib, counts_anchor_distrib, counts_shifted_distib)== np.array([1.2, 1.2, 1.2, 1.2, 1.2])).any()\n",
    "\n",
    "test_merged_distribs() "
   ]
  },
  {
   "cell_type": "code",
   "execution_count": 14,
   "metadata": {},
   "outputs": [],
   "source": [
    "#hide\n",
    "def generate_randarrays(number_arrays,size_of_array):\n",
    "    randarray = []\n",
    "    for i in range(number_arrays):\n",
    "        shift = np.random.uniform(low=-10, high=+10)\n",
    "        randarray.append(np.random.normal(loc=shift, size=size_of_array))\n",
    "    return np.array(randarray)\n"
   ]
  },
  {
   "cell_type": "code",
   "execution_count": 15,
   "metadata": {},
   "outputs": [
    {
     "name": "stdout",
     "output_type": "stream",
     "text": [
      "STDev 1.0121049402562512\n"
     ]
    },
    {
     "data": {
      "image/png": "[encoded data removed]",
      "text/plain": [
       "<Figure size 432x288 with 1 Axes>"
      ]
     },
     "metadata": {
      "needs_background": "light"
     },
     "output_type": "display_data"
    }
   ],
   "source": [
    "#hide\n",
    "import numpy as np\n",
    "import matplotlib.pyplot as plt\n",
    "\n",
    "def test_sampleshift(samples):\n",
    "    num_samples = samples.shape[0]\n",
    "    merged_sample = []\n",
    "    for i in range(num_samples):\n",
    "        plt.hist(samples[i])\n",
    "        merged_sample.extend(samples[i])\n",
    "    stdev = np.std(merged_sample)\n",
    "    print(f\"STDev {stdev}\")\n",
    "    assert (stdev <=1.2) \n",
    "    \n",
    "    plt.show()\n",
    "\n",
    "randarray = generate_randarrays(5, 1000)\n",
    "sample2shift = get_normfacts(randarray)\n",
    "normalized_randarray = apply_sampleshifts(randarray, sample2shift)\n",
    "test_sampleshift(normalized_randarray)"
   ]
  }
 ],
 "metadata": {
  "kernelspec": {
   "display_name": "Python 3.8.5 64-bit ('base': conda)",
   "name": "python3"
  },
  "language_info": {
   "codemirror_mode": {
    "name": "ipython",
    "version": 3
   },
   "file_extension": ".py",
   "mimetype": "text/x-python",
   "name": "python",
   "nbconvert_exporter": "python",
   "pygments_lexer": "ipython3",
   "version": "3.8.13"
  }
 },
 "nbformat": 4,
 "nbformat_minor": 2
}
