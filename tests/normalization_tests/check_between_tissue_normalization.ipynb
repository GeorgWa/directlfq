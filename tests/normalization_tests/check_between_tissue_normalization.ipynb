{
 "cells": [
  {
   "cell_type": "code",
   "execution_count": null,
   "metadata": {},
   "outputs": [],
   "source": [
    "import numpy as np\n",
    "import directlfq.benchmarking as lfq_benchmark\n",
    "\n",
    "class NormalizationVisualization():\n",
    "    def __init__(self, ion_dataframe, ax, cumulative = False, histtype = 'step', density = True, bins = 150):\n",
    "        self._prepared_dataframe = DataframePreparerNormalizationPlot(ion_dataframe)\n",
    "        self._ax = ax\n",
    "        self._histconfig = lfq_benchmark.HistPlotConfig(cumulative, histtype, density, bins)\n",
    "    \n",
    "    def plot_shift_histogram(self):\n",
    "        for column in self._prepared_dataframe.reference_normalized_dataframe.columns:\n",
    "            column_intensities = self._prepared_dataframe.reference_normalized_dataframe[column]\n",
    "            reference_intensities = self._prepared_dataframe.reference_normalized_dataframe[self._prepared_dataframe.reference_column]\n",
    "            fcs_to_reference = column_intensities - reference_intensities\n",
    "            self._ax.hist(fcs_to_reference, cumulative = self._histconfig.cumulative, histtype = self._histconfig.histtype, density = self._histconfig.density, bins = self._histconfig.bins)\n",
    "\n",
    "\n",
    "class HistPlotConfig():\n",
    "    def __init__(self,  cumulative, histtype, density, bins):\n",
    "        self.cumulative = cumulative\n",
    "        self.histtype = histtype\n",
    "        self.density = density\n",
    "        self.bins = bins\n",
    "\n",
    "class DataframePreparerNormalizationPlot():\n",
    "    def __init__(self, ion_dataframe):\n",
    "        self._ion_dataframe = ion_dataframe\n",
    "        self.reference_column = None\n",
    "        self.reference_normalized_dataframe = None\n",
    "\n",
    "    def _define_reference_normalized_dataframe(self):\n",
    "        self._select_column_with_most_valid_values_as_reference()\n",
    "    \n",
    "    def _select_column_with_most_valid_values_as_reference(self):\n",
    "        sorted_columnnames = sorted(self._ion_dataframe.columns, lambda x : self._get_num_valid_values(x), reverse=True)\n",
    "        self.reference_column = sorted_columnnames[0]\n",
    "    \n",
    "    def _get_num_valid_values(self, column_name):\n",
    "        values = self._ion_dataframe[column_name].to_numpy()\n",
    "        return sum(~np.isnan(values))\n",
    "\n",
    "    def _subtract_reference_from_ion_dataframe(self):\n",
    "        self.reference_normalized_dataframe = self._ion_dataframe - self._ion_dataframe[self.reference_column]\n",
    "        self.reference_normalized_dataframe.drop(labels = self.reference_column, axis = 1)\n",
    "\n",
    "\n"
   ]
  },
  {
   "cell_type": "code",
   "execution_count": null,
   "metadata": {},
   "outputs": [],
   "source": []
  }
 ],
 "metadata": {
  "language_info": {
   "name": "python"
  },
  "orig_nbformat": 4
 },
 "nbformat": 4,
 "nbformat_minor": 2
}
