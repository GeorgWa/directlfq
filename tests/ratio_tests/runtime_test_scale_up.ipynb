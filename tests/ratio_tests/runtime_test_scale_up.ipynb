{
 "cells": [
  {
   "cell_type": "code",
   "execution_count": 1,
   "metadata": {},
   "outputs": [],
   "source": [
    "%reload_ext autoreload\n",
    "\n",
    "%autoreload 2"
   ]
  },
  {
   "cell_type": "code",
   "execution_count": 6,
   "metadata": {},
   "outputs": [
    {
     "name": "stderr",
     "output_type": "stream",
     "text": [
      "/Users/constantin/workspace/directlfq/directlfq/utils.py:583: DeprecationWarning: invalid escape sequence \\(\n",
      "  pattern = \"(.*)(\\(mTRAQ-n-.\\))(.*)\"\n",
      "/Users/constantin/workspace/directlfq/directlfq/utils.py:729: DeprecationWarning: invalid escape sequence \\.\n",
      "  matched = re.match(\"(.*)(\\..*\\.)(aq_reformat\\.tsv)\",input_file)\n"
     ]
    }
   ],
   "source": [
    "#template_file = \"../../test_data/unit_tests/protein_normalization/example_proteins.tsv\"\n",
    "\n",
    "template_dda = \"../../test_data/system_tests/maxquant_yeast_interactome/1_Final_run_5x_1800_files/#1/evidence.txt.maxquant_evidence_benchmark.aq_reformat.tsv\"\n",
    "template_dia = \"../../test_data/system_tests/iq_spectronaut_example_file/DIA-report-long-format.txt.spectronaut_fragion_isotopes_filtered_iq.aq_reformat.tsv\"\n",
    "\n",
    "\n",
    "samplenumbers_to_check = [10, 100, 1000]"
   ]
  },
  {
   "cell_type": "markdown",
   "metadata": {},
   "source": [
    "### Learning tests"
   ]
  },
  {
   "cell_type": "code",
   "execution_count": 7,
   "metadata": {},
   "outputs": [
    {
     "name": "stdout",
     "output_type": "stream",
     "text": [
      "to few values for normalization without missing values. Including missing values\n",
      "prot 100 of 4363\n",
      "prot 200 of 4363\n",
      "prot 300 of 4363\n",
      "prot 400 of 4363\n",
      "prot 500 of 4363\n",
      "prot 600 of 4363\n",
      "prot 700 of 4363\n",
      "prot 800 of 4363\n",
      "prot 900 of 4363\n",
      "prot 1000 of 4363\n",
      "prot 1100 of 4363\n",
      "prot 1200 of 4363\n",
      "prot 1300 of 4363\n",
      "prot 1400 of 4363\n",
      "prot 1500 of 4363\n",
      "prot 1600 of 4363\n",
      "prot 1700 of 4363\n",
      "prot 1800 of 4363\n",
      "prot 1900 of 4363\n",
      "prot 2000 of 4363\n",
      "prot 2100 of 4363\n",
      "prot 2200 of 4363\n",
      "prot 2300 of 4363\n",
      "prot 2400 of 4363\n",
      "prot 2500 of 4363\n",
      "prot 2600 of 4363\n",
      "prot 2700 of 4363\n",
      "prot 2800 of 4363\n",
      "prot 2900 of 4363\n",
      "prot 3000 of 4363\n",
      "prot 3100 of 4363\n",
      "prot 3200 of 4363\n",
      "prot 3300 of 4363\n",
      "prot 3400 of 4363\n",
      "prot 3500 of 4363\n",
      "prot 3600 of 4363\n",
      "prot 3700 of 4363\n",
      "prot 3800 of 4363\n",
      "prot 3900 of 4363\n",
      "prot 4000 of 4363\n",
      "prot 4100 of 4363\n",
      "prot 4200 of 4363\n",
      "prot 4300 of 4363\n"
     ]
    }
   ],
   "source": [
    "import directlfq.benchmarking as lfq_benchmark\n",
    "\n",
    "timed_dda = lfq_benchmark.LFQTimer(template_dda, list_of_samplenumbers_to_check=samplenumbers_to_check, name=\"DDA\")\n",
    "timed_dia = lfq_benchmark.LFQTimer(template_dia, list_of_samplenumbers_to_check=samplenumbers_to_check, name=\"DIA\")\n"
   ]
  },
  {
   "cell_type": "code",
   "execution_count": 8,
   "metadata": {},
   "outputs": [
    {
     "name": "stdout",
     "output_type": "stream",
     "text": [
      "Unexpected exception formatting exception. Falling back to standard exception\n"
     ]
    },
    {
     "name": "stderr",
     "output_type": "stream",
     "text": [
      "Traceback (most recent call last):\n",
      "  File \"/Users/constantin/opt/anaconda3/envs/directLFQ/lib/python3.8/site-packages/IPython/core/interactiveshell.py\", line 3397, in run_code\n",
      "    exec(code_obj, self.user_global_ns, self.user_ns)\n",
      "  File \"/var/folders/wb/j08kzzbd2hd8838tn3ll0jfm0000gn/T/ipykernel_44296/580820803.py\", line 5, in <cell line: 5>\n",
      "    timedrun_6samples = lfq_benchmark.TimedLFQRun(pd.DataFrame(),\"maxLFQ\")\n",
      "  File \"/Users/constantin/workspace/directlfq/directlfq/benchmarking.py\", line 471, in __init__\n",
      "    self._run_from_formatted_df()\n",
      "  File \"/Users/constantin/workspace/directlfq/directlfq/benchmarking.py\", line 475, in _run_from_formatted_df\n",
      "    input_df_normed = lfqnorm.NormalizationManagerSamples(self._formatted_df, num_samples_quadratic=100).complete_dataframe\n",
      "  File \"/Users/constantin/workspace/directlfq/directlfq/normalization.py\", line 300, in __init__\n",
      "    self._run_normalization()\n",
      "  File \"/Users/constantin/workspace/directlfq/directlfq/normalization.py\", line 256, in _run_normalization\n",
      "    self._normalize_complete_input_quadratic()\n",
      "  File \"/Users/constantin/workspace/directlfq/directlfq/normalization.py\", line 261, in _normalize_complete_input_quadratic\n",
      "    self.complete_dataframe =  self.normalization_function(self.complete_dataframe)\n",
      "  File \"/Users/constantin/workspace/directlfq/directlfq/normalization.py\", line 217, in normalize_dataframe_between_samples\n",
      "    sample2shift = get_normfacts(drop_nas_if_possible(ion_dataframe).to_numpy())\n",
      "  File \"/Users/constantin/workspace/directlfq/directlfq/normalization.py\", line 230, in drop_nas_if_possible\n",
      "    fraction_nonans = calculate_fraction_with_no_NAs(df, df_nonans)\n",
      "  File \"/Users/constantin/workspace/directlfq/directlfq/normalization.py\", line 238, in calculate_fraction_with_no_NAs\n",
      "    return len(df_nonnans.index)/len(df.index)\n",
      "ZeroDivisionError: division by zero\n",
      "\n",
      "During handling of the above exception, another exception occurred:\n",
      "\n",
      "Traceback (most recent call last):\n",
      "  File \"/Users/constantin/opt/anaconda3/envs/directLFQ/lib/python3.8/site-packages/IPython/core/interactiveshell.py\", line 1992, in showtraceback\n",
      "    stb = self.InteractiveTB.structured_traceback(\n",
      "  File \"/Users/constantin/opt/anaconda3/envs/directLFQ/lib/python3.8/site-packages/IPython/core/ultratb.py\", line 1118, in structured_traceback\n",
      "    return FormattedTB.structured_traceback(\n",
      "  File \"/Users/constantin/opt/anaconda3/envs/directLFQ/lib/python3.8/site-packages/IPython/core/ultratb.py\", line 1012, in structured_traceback\n",
      "    return VerboseTB.structured_traceback(\n",
      "  File \"/Users/constantin/opt/anaconda3/envs/directLFQ/lib/python3.8/site-packages/IPython/core/ultratb.py\", line 865, in structured_traceback\n",
      "    formatted_exception = self.format_exception_as_a_whole(etype, evalue, etb, number_of_lines_of_context,\n",
      "  File \"/Users/constantin/opt/anaconda3/envs/directLFQ/lib/python3.8/site-packages/IPython/core/ultratb.py\", line 818, in format_exception_as_a_whole\n",
      "    frames.append(self.format_record(r))\n",
      "  File \"/Users/constantin/opt/anaconda3/envs/directLFQ/lib/python3.8/site-packages/IPython/core/ultratb.py\", line 736, in format_record\n",
      "    result += ''.join(_format_traceback_lines(frame_info.lines, Colors, self.has_colors, lvals))\n",
      "  File \"/Users/constantin/opt/anaconda3/envs/directLFQ/lib/python3.8/site-packages/stack_data/utils.py\", line 145, in cached_property_wrapper\n",
      "    value = obj.__dict__[self.func.__name__] = self.func(obj)\n",
      "  File \"/Users/constantin/opt/anaconda3/envs/directLFQ/lib/python3.8/site-packages/stack_data/core.py\", line 698, in lines\n",
      "    pieces = self.included_pieces\n",
      "  File \"/Users/constantin/opt/anaconda3/envs/directLFQ/lib/python3.8/site-packages/stack_data/utils.py\", line 145, in cached_property_wrapper\n",
      "    value = obj.__dict__[self.func.__name__] = self.func(obj)\n",
      "  File \"/Users/constantin/opt/anaconda3/envs/directLFQ/lib/python3.8/site-packages/stack_data/core.py\", line 649, in included_pieces\n",
      "    pos = scope_pieces.index(self.executing_piece)\n",
      "  File \"/Users/constantin/opt/anaconda3/envs/directLFQ/lib/python3.8/site-packages/stack_data/utils.py\", line 145, in cached_property_wrapper\n",
      "    value = obj.__dict__[self.func.__name__] = self.func(obj)\n",
      "  File \"/Users/constantin/opt/anaconda3/envs/directLFQ/lib/python3.8/site-packages/stack_data/core.py\", line 628, in executing_piece\n",
      "    return only(\n",
      "  File \"/Users/constantin/opt/anaconda3/envs/directLFQ/lib/python3.8/site-packages/executing/executing.py\", line 164, in only\n",
      "    raise NotOneValueFound('Expected one value, found 0')\n",
      "executing.executing.NotOneValueFound: Expected one value, found 0\n"
     ]
    }
   ],
   "source": [
    "#MaxQuant Runtimes\n",
    "import pandas as pd\n",
    "\n",
    "\n",
    "timedrun_6samples = lfq_benchmark.TimedLFQRun(pd.DataFrame(),\"maxLFQ\")\n",
    "timedrun_6samples.num_samples =10\n",
    "timedrun_6samples.runtime_info.overall_runtime = 1\n",
    "\n",
    "timedrun_1000samples = lfq_benchmark.TimedLFQRun(pd.DataFrame(), \"maxLFQ\")\n",
    "timedrun_1000samples.num_samples = 1000\n",
    "timedrun_1000samples.runtime_info.overall_runtime = 13112+1320\n",
    "\n",
    "timed_mq_runs = [timedrun_6samples, timedrun_1000samples]"
   ]
  },
  {
   "cell_type": "code",
   "execution_count": 9,
   "metadata": {},
   "outputs": [],
   "source": [
    "import seaborn as sns\n",
    "import matplotlib.pyplot as plt\n",
    "\n",
    "class RuntimePlotter():\n",
    "    def __init__(self, list_of_timed_runs , ax):\n",
    "        self._ax = ax\n",
    "        self._list_of_timed_runs = list_of_timed_runs\n",
    "        self._plot_runtimes()\n",
    "    \n",
    "    def _plot_runtimes(self):\n",
    "        x_values = [x.num_samples for x in self._list_of_timed_runs]\n",
    "        y_values = [x.runtime_info.overall_runtime for x in self._list_of_timed_runs]\n",
    "        hue = [x.name for x in self._list_of_timed_runs]\n",
    "        sns.barplot(x = x_values, y = y_values, hue = hue, ax=self._ax)\n",
    "        #self._ax.set_yscale(\"log\")\n",
    "        self._ax.set(xlabel=\"Number Proteomes\", ylabel=\"Runtime\")\n"
   ]
  },
  {
   "cell_type": "code",
   "execution_count": 11,
   "metadata": {},
   "outputs": [
    {
     "name": "stdout",
     "output_type": "stream",
     "text": [
      "[<directlfq.benchmarking.TimedLFQRun object at 0x7ff491912f40>]\n"
     ]
    },
    {
     "data": {
      "text/plain": [
       "<__main__.RuntimePlotter at 0x7ff410e95d90>"
      ]
     },
     "execution_count": 11,
     "metadata": {},
     "output_type": "execute_result"
    },
    {
     "data": {
      "image/png": "[encoded data removed]",
      "text/plain": [
       "<Figure size 432x288 with 1 Axes>"
      ]
     },
     "metadata": {
      "needs_background": "light"
     },
     "output_type": "display_data"
    }
   ],
   "source": [
    "import matplotlib.pyplot as plt\n",
    "\n",
    "ax = plt.subplot()\n",
    "all_runs = timed_dda.timed_lfq_runs + timed_dia.timed_lfq_runs #timed_mq_runs\n",
    "print(all_runs)\n",
    "RuntimePlotter(all_runs, ax)"
   ]
  },
  {
   "cell_type": "code",
   "execution_count": null,
   "metadata": {},
   "outputs": [],
   "source": []
  }
 ],
 "metadata": {
  "interpreter": {
   "hash": "d0aa3a8ce824291cb24d4d363ff4edbd7def750864ecae1a67d8681c187123bb"
  },
  "kernelspec": {
   "display_name": "Python 3.8.13 ('directLFQ')",
   "language": "python",
   "name": "python3"
  },
  "language_info": {
   "codemirror_mode": {
    "name": "ipython",
    "version": 3
   },
   "file_extension": ".py",
   "mimetype": "text/x-python",
   "name": "python",
   "nbconvert_exporter": "python",
   "pygments_lexer": "ipython3",
   "version": "3.8.13"
  },
  "orig_nbformat": 4
 },
 "nbformat": 4,
 "nbformat_minor": 2
}
