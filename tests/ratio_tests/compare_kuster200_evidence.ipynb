{
 "cells": [
  {
   "cell_type": "code",
   "execution_count": 66,
   "metadata": {},
   "outputs": [],
   "source": [
    "%reload_ext autoreload\n",
    "\n",
    "%autoreload 2"
   ]
  },
  {
   "cell_type": "code",
   "execution_count": 67,
   "metadata": {},
   "outputs": [],
   "source": [
    "input_file = \"../../test_data/system_tests/MaxQuant_Kuster200/evidence.txt\"\n",
    "maxquant_file = \"../../test_data/system_tests/MaxQuant_Kuster200/proteinGroups.txt\"\n",
    "directlfq_file = \"../../test_data/system_tests/MaxQuant_Kuster200/evidence.txt.maxquant_evidence_benchmark.aq_reformat.tsv.protein_intensities.tsv\"\n",
    "\n",
    "samplemap_directlfq = \"../../test_data/system_tests/MaxQuant_Kuster200/samplemap.directLFQ.tsv\"\n",
    "\n",
    "samplemap_maxquant = \"../../test_data/system_tests/MaxQuant_Kuster200/samplemap.maxLFQ.tsv\"\n",
    "\n",
    "run_directlfq = True"
   ]
  },
  {
   "cell_type": "code",
   "execution_count": 68,
   "metadata": {},
   "outputs": [
    {
     "name": "stdout",
     "output_type": "stream",
     "text": [
      "using input type maxquant_evidence_benchmark\n"
     ]
    },
    {
     "name": "stderr",
     "output_type": "stream",
     "text": [
      "/Users/constantin/workspace/directlfq/directlfq/utils.py:452: DtypeWarning: Columns (56) have mixed types. Specify dtype option on import or set low_memory=False.\n",
      "  for input_df_subset in input_df_it:\n",
      "/Users/constantin/workspace/directlfq/directlfq/utils.py:452: DtypeWarning: Columns (56) have mixed types. Specify dtype option on import or set low_memory=False.\n",
      "  for input_df_subset in input_df_it:\n",
      "/Users/constantin/workspace/directlfq/directlfq/utils.py:452: DtypeWarning: Columns (56) have mixed types. Specify dtype option on import or set low_memory=False.\n",
      "  for input_df_subset in input_df_it:\n",
      "/Users/constantin/workspace/directlfq/directlfq/utils.py:452: DtypeWarning: Columns (56) have mixed types. Specify dtype option on import or set low_memory=False.\n",
      "  for input_df_subset in input_df_it:\n",
      "/Users/constantin/workspace/directlfq/directlfq/utils.py:452: DtypeWarning: Columns (56) have mixed types. Specify dtype option on import or set low_memory=False.\n",
      "  for input_df_subset in input_df_it:\n",
      "/Users/constantin/workspace/directlfq/directlfq/utils.py:452: DtypeWarning: Columns (56) have mixed types. Specify dtype option on import or set low_memory=False.\n",
      "  for input_df_subset in input_df_it:\n",
      "/Users/constantin/workspace/directlfq/directlfq/utils.py:452: DtypeWarning: Columns (56) have mixed types. Specify dtype option on import or set low_memory=False.\n",
      "  for input_df_subset in input_df_it:\n",
      "/Users/constantin/opt/anaconda3/envs/directLFQ/lib/python3.8/site-packages/numpy/lib/nanfunctions.py:1218: RuntimeWarning: All-NaN slice encountered\n",
      "  r, k = function_base._ureduce(a, func=_nanmedian, axis=axis, out=out,\n",
      "/Users/constantin/workspace/directlfq/directlfq/normalization.py:99: RuntimeWarning: Degrees of freedom <= 0 for slice.\n",
      "  res = np.nanvar(fcdist)\n",
      "/Users/constantin/workspace/directlfq/directlfq/protein_intensity_estimation.py:55: RuntimeWarning: divide by zero encountered in double_scalars\n",
      "  intens_conversion_factor = summed_pepints/np.nansum(2**intens_vec)\n"
     ]
    },
    {
     "name": "stdout",
     "output_type": "stream",
     "text": [
      "prot 100 of 4675\n",
      "prot 200 of 4675\n",
      "prot 300 of 4675\n",
      "prot 400 of 4675\n",
      "prot 500 of 4675\n",
      "prot 600 of 4675\n",
      "prot 700 of 4675\n",
      "prot 800 of 4675\n",
      "prot 900 of 4675\n",
      "prot 1000 of 4675\n",
      "prot 1100 of 4675\n",
      "prot 1200 of 4675\n",
      "prot 1300 of 4675\n",
      "prot 1400 of 4675\n",
      "prot 1500 of 4675\n",
      "prot 1600 of 4675\n",
      "prot 1700 of 4675\n",
      "prot 1800 of 4675\n",
      "prot 1900 of 4675\n",
      "prot 2000 of 4675\n",
      "prot 2100 of 4675\n",
      "prot 2200 of 4675\n",
      "prot 2300 of 4675\n",
      "prot 2400 of 4675\n",
      "prot 2500 of 4675\n",
      "prot 2600 of 4675\n",
      "prot 2700 of 4675\n",
      "prot 2800 of 4675\n",
      "prot 2900 of 4675\n",
      "prot 3000 of 4675\n",
      "prot 3100 of 4675\n",
      "prot 3200 of 4675\n",
      "prot 3300 of 4675\n",
      "prot 3400 of 4675\n",
      "prot 3500 of 4675\n",
      "prot 3600 of 4675\n",
      "prot 3700 of 4675\n",
      "prot 3800 of 4675\n",
      "prot 3900 of 4675\n",
      "prot 4000 of 4675\n",
      "prot 4100 of 4675\n",
      "prot 4200 of 4675\n",
      "prot 4300 of 4675\n",
      "prot 4400 of 4675\n",
      "prot 4500 of 4675\n",
      "prot 4600 of 4675\n"
     ]
    }
   ],
   "source": [
    "if run_directlfq:\n",
    "    import directlfq.lfq_manager as lfqmgr\n",
    "\n",
    "    lfqmgr.run_lfq(input_file=input_file, input_type_to_use=\"maxquant_evidence_benchmark\", min_nonan=2)\n",
    "\n"
   ]
  },
  {
   "cell_type": "code",
   "execution_count": 73,
   "metadata": {},
   "outputs": [],
   "source": [
    "import numpy as np\n",
    "\n",
    "class VariationOverview():\n",
    "    def __init__(self, name, quantified_data, protein_intensity_columns):\n",
    "        self._protein_intensity_df = quantified_data[protein_intensity_columns]\n",
    "\n",
    "        self.name = name\n",
    "        self.quantified_proteins = None\n",
    "        self._define_quantified_proteins()\n",
    "    \n",
    "    def _define_quantified_proteins(self):\n",
    "        self.quantified_proteins = [QuantifiedProtein(x) for x in self._protein_intensity_df.to_numpy()]\n",
    "\n",
    "\n",
    "class QuantifiedProtein():\n",
    "    def __init__(self, intensities):\n",
    "        intensities = np.where(intensities==0, np.nan, intensities) \n",
    "        self.intensities = intensities[np.isfinite(intensities)]\n",
    "        self.cv = self._calc_cv()\n",
    "    \n",
    "    def _calc_cv(self):\n",
    "        if len(self.intensities)==1:\n",
    "            return np.nan\n",
    "        return np.nanstd(self.intensities) / np.nanmean(self.intensities)\n",
    "\n",
    "\n",
    "\n"
   ]
  },
  {
   "cell_type": "code",
   "execution_count": 105,
   "metadata": {},
   "outputs": [],
   "source": [
    "import matplotlib.pyplot as plt\n",
    "\n",
    "\n",
    "class ProteinCVhistogram():\n",
    "    def __init__(self, list_of_variation_overviews, ax: plt.Axes ):\n",
    "        self._list_of_variation_overviews = list_of_variation_overviews\n",
    "        self._ax = ax\n",
    "        self._plot_histograms()\n",
    "\n",
    "    def _plot_histograms(self):\n",
    "        for variation_overview in self._list_of_variation_overviews:\n",
    "            self._add_cv_histogram(variation_overview)\n",
    "        \n",
    "    def _add_cv_histogram(self, variation_overview):\n",
    "        cvs = sorted([x.cv for x in variation_overview.quantified_proteins])\n",
    "        all_cvs = len(cvs)\n",
    "        cvs = [x for x in cvs if x<0.75]\n",
    "        print(f\"{all_cvs - len(cvs)} are very large for {variation_overview.name}\")\n",
    "        print(len(cvs))\n",
    "        print(np.nanmean(cvs))\n",
    "        print(np.nanmedian(cvs))\n",
    "        self._ax.hist(cvs, label=variation_overview.name, cumulative=False, histtype='step', density=False, bins=150, linewidth = 1.5)\n",
    "        \n"
   ]
  },
  {
   "cell_type": "code",
   "execution_count": 106,
   "metadata": {},
   "outputs": [
    {
     "name": "stderr",
     "output_type": "stream",
     "text": [
      "/Users/constantin/opt/anaconda3/envs/directLFQ/lib/python3.8/site-packages/numpy/lib/nanfunctions.py:1879: RuntimeWarning: Degrees of freedom <= 0 for slice.\n",
      "  var = nanvar(a, axis=axis, dtype=dtype, out=out, ddof=ddof,\n",
      "/var/folders/wb/j08kzzbd2hd8838tn3ll0jfm0000gn/T/ipykernel_30105/3059856498.py:24: RuntimeWarning: Mean of empty slice\n",
      "  return np.nanstd(self.intensities) / np.nanmean(self.intensities)\n",
      "/var/folders/wb/j08kzzbd2hd8838tn3ll0jfm0000gn/T/ipykernel_30105/712899038.py:10: DtypeWarning: Columns (5,6,1624,1625,1626,1634,1635) have mixed types. Specify dtype option on import or set low_memory=False.\n",
      "  results_df_maxquant = pd.read_csv(maxquant_file, sep = \"\\t\")\n",
      "/Users/constantin/opt/anaconda3/envs/directLFQ/lib/python3.8/site-packages/numpy/lib/nanfunctions.py:1879: RuntimeWarning: Degrees of freedom <= 0 for slice.\n",
      "  var = nanvar(a, axis=axis, dtype=dtype, out=out, ddof=ddof,\n",
      "/var/folders/wb/j08kzzbd2hd8838tn3ll0jfm0000gn/T/ipykernel_30105/3059856498.py:24: RuntimeWarning: Mean of empty slice\n",
      "  return np.nanstd(self.intensities) / np.nanmean(self.intensities)\n"
     ]
    },
    {
     "name": "stdout",
     "output_type": "stream",
     "text": [
      "263 are very large for directLFQ\n",
      "3862\n",
      "0.07534692777629683\n",
      "0.06615379736284717\n",
      "245 are very large for maxLFQ\n",
      "3893\n",
      "0.06699552777687856\n",
      "0.05628455568334554\n"
     ]
    },
    {
     "data": {
      "text/plain": [
       "(0.0, 0.5)"
      ]
     },
     "execution_count": 106,
     "metadata": {},
     "output_type": "execute_result"
    },
    {
     "data": {
      "image/png": "[encoded data removed]",
      "text/plain": [
       "<Figure size 432x288 with 1 Axes>"
      ]
     },
     "metadata": {
      "needs_background": "light"
     },
     "output_type": "display_data"
    }
   ],
   "source": [
    "import directlfq.benchmarking as lfqbenchmark\n",
    "import directlfq.utils as lfqutils\n",
    "import pandas as pd\n",
    "\n",
    "results_df_directlfq = pd.read_csv(directlfq_file, sep=\"\\t\")\n",
    "relevant_columns_directlfq = [x for x in results_df_directlfq.columns if \"Cycle\" in x]\n",
    "results_df_directlfq = results_df_directlfq[[\";\" not in x for x in results_df_directlfq['protein'].astype('str')]]\n",
    "var_overview_directlfq = VariationOverview(\"directLFQ\", quantified_data=results_df_directlfq, protein_intensity_columns=relevant_columns_directlfq)\n",
    "\n",
    "results_df_maxquant = pd.read_csv(maxquant_file, sep = \"\\t\")\n",
    "results_df_maxquant = results_df_maxquant[[\";\" not in x for x in results_df_maxquant['id'].astype('str')]]\n",
    "relevant_columns_maxquant = [x for x in results_df_maxquant.columns if \"LFQ intensity \" in x]\n",
    "var_overview_maxquant = VariationOverview(\"maxLFQ\", quantified_data=results_df_maxquant, protein_intensity_columns=relevant_columns_maxquant)\n",
    "\n",
    "ax = plt.subplot()\n",
    "ProteinCVhistogram([var_overview_directlfq, var_overview_maxquant], ax=ax)\n",
    "ax.legend()\n",
    "ax.set_xlim(0, 0.5)\n"
   ]
  },
  {
   "cell_type": "code",
   "execution_count": null,
   "metadata": {},
   "outputs": [],
   "source": []
  },
  {
   "cell_type": "code",
   "execution_count": null,
   "metadata": {},
   "outputs": [],
   "source": []
  }
 ],
 "metadata": {
  "interpreter": {
   "hash": "d0aa3a8ce824291cb24d4d363ff4edbd7def750864ecae1a67d8681c187123bb"
  },
  "kernelspec": {
   "display_name": "Python 3.8.13 ('directLFQ')",
   "language": "python",
   "name": "python3"
  },
  "language_info": {
   "codemirror_mode": {
    "name": "ipython",
    "version": 3
   },
   "file_extension": ".py",
   "mimetype": "text/x-python",
   "name": "python",
   "nbconvert_exporter": "python",
   "pygments_lexer": "ipython3",
   "version": "3.8.13"
  },
  "orig_nbformat": 4
 },
 "nbformat": 4,
 "nbformat_minor": 2
}
