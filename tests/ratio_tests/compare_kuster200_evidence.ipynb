{
 "cells": [
  {
   "cell_type": "code",
   "execution_count": 1,
   "metadata": {},
   "outputs": [],
   "source": [
    "%reload_ext autoreload\n",
    "\n",
    "%autoreload 2"
   ]
  },
  {
   "cell_type": "code",
   "execution_count": 2,
   "metadata": {},
   "outputs": [],
   "source": [
    "input_file = \"../../test_data/system_tests/MaxQuant_Kuster200/evidence.txt\"\n",
    "maxquant_file = \"../../test_data/system_tests/MaxQuant_Kuster200/proteinGroups.txt\"\n",
    "directlfq_file = \"../../test_data/system_tests/MaxQuant_Kuster200/evidence.txt.protein_intensities.tsv\"\n",
    "\n",
    "samplemap_directlfq = \"../../test_data/system_tests/MaxQuant_Kuster200/samplemap.directLFQ.tsv\"\n",
    "\n",
    "samplemap_maxquant = \"../../test_data/system_tests/MaxQuant_Kuster200/samplemap.maxLFQ.tsv\"\n",
    "\n",
    "run_directlfq = False"
   ]
  },
  {
   "cell_type": "code",
   "execution_count": null,
   "metadata": {},
   "outputs": [],
   "source": []
  },
  {
   "cell_type": "code",
   "execution_count": 3,
   "metadata": {},
   "outputs": [],
   "source": [
    "if run_directlfq:\n",
    "    import directlfq.lfq_manager as lfqmgr\n",
    "\n",
    "    lfqmgr.run_lfq(input_file=input_file, input_type_to_use=\"maxquant_evidence_benchmark\", min_nonan=2)\n",
    "\n"
   ]
  },
  {
   "cell_type": "code",
   "execution_count": 4,
   "metadata": {},
   "outputs": [],
   "source": [
    "import numpy as np\n",
    "\n",
    "class VariationOverview():\n",
    "    def __init__(self, name, quantified_data, protein_intensity_columns):\n",
    "        self._protein_intensity_df = quantified_data[protein_intensity_columns]\n",
    "\n",
    "        self.name = name\n",
    "        self.quantified_proteins = None\n",
    "        self._define_quantified_proteins()\n",
    "    \n",
    "    def _define_quantified_proteins(self):\n",
    "        self.quantified_proteins = [QuantifiedProtein(x) for x in self._protein_intensity_df.to_numpy()]\n",
    "\n",
    "\n",
    "class QuantifiedProtein():\n",
    "    def __init__(self, intensities):\n",
    "        intensities = np.where(intensities==0, np.nan, intensities) \n",
    "        self.intensities = intensities[np.isfinite(intensities)]\n",
    "        self.cv = self._calc_cv()\n",
    "    \n",
    "    def _calc_cv(self):\n",
    "        if len(self.intensities)<5:\n",
    "            return np.nan\n",
    "        return np.nanstd(self.intensities, ddof=1) / np.nanmean(self.intensities)\n",
    "\n",
    "\n",
    "\n"
   ]
  },
  {
   "cell_type": "code",
   "execution_count": 5,
   "metadata": {},
   "outputs": [],
   "source": [
    "import matplotlib.pyplot as plt\n",
    "\n",
    "\n",
    "class ProteinCVhistogram():\n",
    "    def __init__(self, list_of_variation_overviews, ax: plt.Axes ):\n",
    "        self._list_of_variation_overviews = list_of_variation_overviews\n",
    "        self._ax = ax\n",
    "        self._plot_histograms()\n",
    "\n",
    "    def _plot_histograms(self):\n",
    "        for variation_overview in self._list_of_variation_overviews:\n",
    "            self._add_cv_histogram(variation_overview)\n",
    "        \n",
    "    def _add_cv_histogram(self, variation_overview):\n",
    "        cvs = sorted([x.cv for x in variation_overview.quantified_proteins])\n",
    "        all_cvs = len(cvs)\n",
    "        cvs = [x for x in cvs if x<0.75]\n",
    "        print(f\"{all_cvs - len(cvs)} are very large for {variation_overview.name}\")\n",
    "        print(len(cvs))\n",
    "        print(np.nanmean(cvs))\n",
    "        print(np.nanmedian(cvs))\n",
    "        self._ax.hist(cvs, label=variation_overview.name, cumulative=False, histtype='step', density=False, bins=150, linewidth = 1.5)\n",
    "        \n"
   ]
  },
  {
   "cell_type": "code",
   "execution_count": 6,
   "metadata": {},
   "outputs": [
    {
     "name": "stderr",
     "output_type": "stream",
     "text": [
      "/var/folders/wb/j08kzzbd2hd8838tn3ll0jfm0000gn/T/ipykernel_91958/1564291491.py:10: DtypeWarning: Columns (5,6,1624,1625,1626,1634,1635) have mixed types. Specify dtype option on import or set low_memory=False.\n",
      "  results_df_maxquant = pd.read_csv(maxquant_file, sep = \"\\t\")\n"
     ]
    },
    {
     "name": "stdout",
     "output_type": "stream",
     "text": [
      "22 are very large for directLFQ\n",
      "3851\n",
      "0.07624915732675706\n",
      "0.06631551798133041\n",
      "255 are very large for maxLFQ\n",
      "3883\n",
      "0.06711990925682737\n",
      "0.05642579694854132\n"
     ]
    },
    {
     "data": {
      "text/plain": [
       "<matplotlib.legend.Legend at 0x7fe0423c61f0>"
      ]
     },
     "execution_count": 6,
     "metadata": {},
     "output_type": "execute_result"
    },
    {
     "data": {
      "image/png": "[encoded data removed]",
      "text/plain": [
       "<Figure size 432x288 with 1 Axes>"
      ]
     },
     "metadata": {
      "needs_background": "light"
     },
     "output_type": "display_data"
    }
   ],
   "source": [
    "import directlfq.benchmarking as lfqbenchmark\n",
    "import directlfq.utils as lfqutils\n",
    "import pandas as pd\n",
    "\n",
    "results_df_directlfq = pd.read_csv(directlfq_file, sep=\"\\t\")\n",
    "relevant_columns_directlfq = [x for x in results_df_directlfq.columns if \"Cycle\" in x]\n",
    "results_df_directlfq = results_df_directlfq[[\";\" not in x for x in results_df_directlfq['protein'].astype('str')]]\n",
    "var_overview_directlfq = VariationOverview(\"directLFQ\", quantified_data=results_df_directlfq, protein_intensity_columns=relevant_columns_directlfq)\n",
    "\n",
    "results_df_maxquant = pd.read_csv(maxquant_file, sep = \"\\t\")\n",
    "results_df_maxquant = results_df_maxquant[[\";\" not in x for x in results_df_maxquant['id'].astype('str')]]\n",
    "relevant_columns_maxquant = [x for x in results_df_maxquant.columns if \"LFQ intensity \" in x]\n",
    "var_overview_maxquant = VariationOverview(\"maxLFQ\", quantified_data=results_df_maxquant, protein_intensity_columns=relevant_columns_maxquant)\n",
    "\n",
    "ax = plt.subplot()\n",
    "ProteinCVhistogram([var_overview_directlfq, var_overview_maxquant], ax=ax)\n",
    "ax.legend()\n",
    "#\n",
    "# ax.set_xlim(0, 0.5)\n"
   ]
  }
 ],
 "metadata": {
  "interpreter": {
   "hash": "d0aa3a8ce824291cb24d4d363ff4edbd7def750864ecae1a67d8681c187123bb"
  },
  "kernelspec": {
   "display_name": "Python 3.8.13 ('directLFQ')",
   "language": "python",
   "name": "python3"
  },
  "language_info": {
   "codemirror_mode": {
    "name": "ipython",
    "version": 3
   },
   "file_extension": ".py",
   "mimetype": "text/x-python",
   "name": "python",
   "nbconvert_exporter": "python",
   "pygments_lexer": "ipython3",
   "version": "3.8.13"
  },
  "orig_nbformat": 4
 },
 "nbformat": 4,
 "nbformat_minor": 2
}
