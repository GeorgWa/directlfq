{
 "cells": [
  {
   "cell_type": "code",
   "execution_count": 1,
   "metadata": {},
   "outputs": [],
   "source": [
    "%reload_ext autoreload\n",
    "\n",
    "%autoreload 2"
   ]
  },
  {
   "cell_type": "code",
   "execution_count": 2,
   "metadata": {},
   "outputs": [],
   "source": [
    "input_file = \"../../test_data/system_tests/MaxQuant_Kuster200/evidence.txt\"\n",
    "maxquant_file = \"../../test_data/system_tests/MaxQuant_Kuster200/proteinGroups.txt\"\n",
    "directlfq_file = \"../../test_data/system_tests/MaxQuant_Kuster200/evidence.txt.protgroup_annotated.tsv.protein_intensities.tsv\"\n",
    "\n",
    "samplemap_directlfq = \"../../test_data/system_tests/MaxQuant_Kuster200/samplemap_directlfq.tsv\"\n",
    "\n",
    "samplemap_maxquant = \"../../test_data/system_tests/MaxQuant_Kuster200/samplemap_maxquant.tsv\"\n",
    "outfile = \"../../test_data/system_tests/MaxQuant_Kuster200/cv_distribution_kuster200.pdf\"\n",
    "run_directlfq = True"
   ]
  },
  {
   "cell_type": "code",
   "execution_count": 3,
   "metadata": {},
   "outputs": [
    {
     "name": "stderr",
     "output_type": "stream",
     "text": [
      "/Users/constantin/workspace/directlfq/directlfq/utils.py:205: DtypeWarning: Columns (4,5,53,54,56,62) have mixed types. Specify dtype option on import or set low_memory=False.\n",
      "  input_df = pd.read_csv(input_file, sep = \"\\t\")\n"
     ]
    },
    {
     "name": "stdout",
     "output_type": "stream",
     "text": [
      "using input type maxquant_evidence\n",
      "4132 prots total\n",
      "using 10 processes\n",
      "prot 0\n",
      "prot 700\n",
      "prot 800prot 600\n",
      "\n",
      "prot 900\n",
      "prot 500\n",
      "prot 1000\n",
      "prot 200\n",
      "prot 100\n",
      "prot 400\n",
      "prot 300\n",
      "prot 2000\n",
      "prot 1900\n",
      "prot 1500\n",
      "prot 1800\n",
      "prot 1200\n",
      "prot 1100\n",
      "prot 1700\n",
      "prot 1300prot 1600\n",
      "\n",
      "prot 1400\n",
      "prot 2100\n",
      "prot 2200\n",
      "prot 2600prot 2500\n",
      "\n",
      "prot 2400\n",
      "prot 2300\n",
      "prot 3000\n",
      "prot 3100prot 2700\n",
      "\n",
      "prot 2900\n",
      "prot 2800\n",
      "prot 4100\n",
      "prot 3900\n",
      "prot 4000\n",
      "prot 3600\n",
      "prot 3200\n",
      "prot 3400\n",
      "prot 3700prot 3800\n",
      "\n",
      "prot 3300\n",
      "prot 3500\n"
     ]
    }
   ],
   "source": [
    "if run_directlfq:\n",
    "    import directlfq.lfq_manager as lfqmgr\n",
    "\n",
    "    lfqmgr.run_lfq(input_file=input_file, input_type_to_use=\"maxquant_evidence\", min_nonan=2, mq_protein_groups_txt=maxquant_file)\n",
    "\n"
   ]
  },
  {
   "cell_type": "code",
   "execution_count": 7,
   "metadata": {},
   "outputs": [],
   "source": [
    "import directlfq.benchmarking as lfqbenchmark\n",
    "import pandas as pd\n",
    "\n",
    "restable_directlfq = lfqbenchmark.ResultsTableBiological(results_file=directlfq_file, samplemap=samplemap_directlfq, name=\"directLFQ\\n\", protein_id=\"protein\")\n",
    "cvinfo_directlfq = lfqbenchmark.CVInfoDataset(restable_directlfq)"
   ]
  },
  {
   "cell_type": "code",
   "execution_count": 8,
   "metadata": {},
   "outputs": [
    {
     "name": "stderr",
     "output_type": "stream",
     "text": [
      "/Users/constantin/workspace/directlfq/directlfq/benchmarking.py:434: DtypeWarning: Columns (5,6,1624,1625,1626,1634,1635) have mixed types. Specify dtype option on import or set low_memory=False.\n",
      "  self.results_df = pd.read_csv(self._results_file, sep = \"\\t\")\n"
     ]
    }
   ],
   "source": [
    "\n",
    "restable_maxlfq = lfqbenchmark.ResultsTableBiological(results_file=maxquant_file, samplemap=samplemap_maxquant, name = \"MaxLFQ\\n\", protein_id=\"Protein IDs\")\n",
    "cvinfo_maxlfq = lfqbenchmark.CVInfoDataset(restable_maxlfq)"
   ]
  },
  {
   "cell_type": "code",
   "execution_count": 9,
   "metadata": {},
   "outputs": [
    {
     "name": "stderr",
     "output_type": "stream",
     "text": [
      "/Users/constantin/workspace/directlfq/directlfq/visualizations.py:52: UserWarning: Trying to register the cmap 'alphapept_linear' which already exists.\n",
      "  matplotlib.cm.register_cmap(name, linmap)\n",
      "/Users/constantin/workspace/directlfq/directlfq/visualizations.py:52: UserWarning: Trying to register the cmap 'alphapept_linear_cut' which already exists.\n",
      "  matplotlib.cm.register_cmap(name, linmap)\n"
     ]
    },
    {
     "name": "stdout",
     "output_type": "stream",
     "text": [
      "5 are very large for directLFQ\n",
      "\n",
      "3851\n",
      "0.07184244470843683\n",
      "0.06227412566319881\n",
      "4 are very large for MaxLFQ\n",
      "\n",
      "3809\n",
      "0.06699086150939179\n",
      "0.056207851082950865\n"
     ]
    },
    {
     "data": {
      "image/png": "[encoded data removed]",
      "text/plain": [
       "<Figure size 212.67x170.136 with 1 Axes>"
      ]
     },
     "metadata": {
      "needs_background": "light"
     },
     "output_type": "display_data"
    }
   ],
   "source": [
    "import matplotlib.pyplot as plt\n",
    "ax = plt.subplot()\n",
    "ax.figure.set_size_inches(1.25*2.363,2.363)\n",
    "#initialize ax object with specified size\n",
    "\n",
    "lfqbenchmark.CVDistributionPlotter(list_of_dataset_cv_infos=[cvinfo_directlfq, cvinfo_maxlfq], ax = ax,cumulative=False, density=False, bins=150)\n",
    "ax.legend()\n",
    "\n",
    "\n",
    "ax.set_title(\"DDA data\\ndistribution of replicate CVs\")\n",
    "ax.set_xlabel(\"CV\")\n",
    "ax.set_ylabel('frequency (a.u.)')\n",
    "plt.savefig(outfile, bbox_inches='tight', dpi=300)\n",
    "plt.savefig(outfile.replace(\".pdf\", \".png\"), bbox_inches='tight', dpi=300)\n"
   ]
  },
  {
   "cell_type": "code",
   "execution_count": null,
   "metadata": {},
   "outputs": [],
   "source": []
  }
 ],
 "metadata": {
  "kernelspec": {
   "display_name": "Python 3.8.13 ('directlfq')",
   "language": "python",
   "name": "python3"
  },
  "language_info": {
   "codemirror_mode": {
    "name": "ipython",
    "version": 3
   },
   "file_extension": ".py",
   "mimetype": "text/x-python",
   "name": "python",
   "nbconvert_exporter": "python",
   "pygments_lexer": "ipython3",
   "version": "3.8.13"
  },
  "orig_nbformat": 4,
  "vscode": {
   "interpreter": {
    "hash": "9de3b9232e447c280dd70250498a698134997f78cce557ab922912f202e5081f"
   }
  }
 },
 "nbformat": 4,
 "nbformat_minor": 2
}
