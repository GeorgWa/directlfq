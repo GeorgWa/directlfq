{
 "cells": [
  {
   "cell_type": "code",
   "execution_count": 1,
   "metadata": {},
   "outputs": [],
   "source": [
    "%reload_ext autoreload\n",
    "\n",
    "%autoreload 2\n"
   ]
  },
  {
   "cell_type": "code",
   "execution_count": 2,
   "metadata": {},
   "outputs": [],
   "source": [
    "input_file = \"../../test_data/system_tests/maxquant_yeast_interactome/1_Final_run_5x_1800_files/#1/evidence.txt.maxquant_evidence_andre_benchmark.aq_reformat.tsv\"\n",
    "maxquant_file = \"../../test_data/system_tests/maxquant_yeast_interactome/1_Final_run_5x_1800_files/#1/proteinGroups.txt\"\n",
    "directlfq_file = \"../../test_data/system_tests/maxquant_yeast_interactome/1_Final_run_5x_1800_files/#1/evidence.txt.maxquant_evidence_andre_benchmark.aq_reformat.tsv.protein_intensities.tsv\"\n",
    "iq_file = \"../../test_data/system_tests/maxquant_yeast_interactome/1_Final_run_5x_1800_files/#1/iq-MaxLFQ-fast.txt\"\n",
    "\n",
    "samplemap_lfq = \"../../test_data/system_tests/maxquant_yeast_interactome/1_Final_run_5x_1800_files/#1/samplemap_lfq.tsv\"\n",
    "samplemap_directlfq = \"../../test_data/system_tests/maxquant_yeast_interactome/1_Final_run_5x_1800_files/#1/samplemap_directlfq.tsv\"\n",
    "\n",
    "protein_group_file = \"../../test_data/system_tests/maxquant_yeast_interactome/1_Final_run_5x_1800_files/#1/proteinGroups.txt\"\n",
    "\n",
    "run_directlfq = False"
   ]
  },
  {
   "cell_type": "code",
   "execution_count": 3,
   "metadata": {},
   "outputs": [],
   "source": [
    "import warnings\n",
    "warnings.filterwarnings('ignore')\n",
    "\n",
    "if run_directlfq:\n",
    "    import directlfq.lfq_manager as lfqmgr\n",
    "\n",
    "    lfqmgr.run_lfq(input_file=input_file, input_type_to_use=\"maxquant_evidence_andre_benchmark\", min_nonan=2)\n",
    "\n"
   ]
  },
  {
   "cell_type": "code",
   "execution_count": 7,
   "metadata": {},
   "outputs": [],
   "source": [
    "import directlfq.benchmarking as lfqbenchmark\n",
    "\n",
    "restable_iq = lfqbenchmark.ResultsTableBiological(results_file=iq_file, samplemap=samplemap_directlfq, name=\"iQ\")\n",
    "restable_iq.results_df = 2**restable_iq.results_df.set_index([\"protein\", \"MaxLFQ_annotation\"])\n",
    "restable_iq.results_df = restable_iq.results_df.reset_index()\n",
    "cvinfo_iq = lfqbenchmark.CVInfoDataset(restable_iq)"
   ]
  },
  {
   "cell_type": "code",
   "execution_count": 8,
   "metadata": {},
   "outputs": [],
   "source": [
    "\n",
    "restable_directlfq = lfqbenchmark.ResultsTableBiological(results_file=directlfq_file, samplemap=samplemap_directlfq, name=\"directLFQ\")\n",
    "cvinfo_directlfq = lfqbenchmark.CVInfoDataset(restable_directlfq)"
   ]
  },
  {
   "cell_type": "code",
   "execution_count": 9,
   "metadata": {},
   "outputs": [],
   "source": [
    "cvinfo_directlfq = lfqbenchmark.CVInfoDataset(restable_directlfq)\n"
   ]
  },
  {
   "cell_type": "code",
   "execution_count": 10,
   "metadata": {},
   "outputs": [
    {
     "name": "stderr",
     "output_type": "stream",
     "text": [
      "/Users/constantin/workspace/directlfq/directlfq/benchmarking.py:430: DtypeWarning: Columns (2,3,4,4883,5406,5407,6116,6117,6246,6247,6262,6263,6438,6439,12950,12951,12952,12962) have mixed types. Specify dtype option on import or set low_memory=False.\n",
      "  self.results_df = pd.read_csv(self._results_file, sep = \"\\t\")\n"
     ]
    }
   ],
   "source": [
    "import directlfq.benchmarking as lfqbenchmark\n",
    "restable_maxlfq = lfqbenchmark.ResultsTableBiological(results_file=maxquant_file, samplemap=samplemap_lfq, name = \"MaxLFQ\")\n",
    "cvinfo_maxlfq = lfqbenchmark.CVInfoDataset(restable_maxlfq)"
   ]
  },
  {
   "cell_type": "code",
   "execution_count": 12,
   "metadata": {},
   "outputs": [
    {
     "name": "stdout",
     "output_type": "stream",
     "text": [
      "8700 are very large for directLFQ\n",
      "835097\n",
      "0.16709069150839873\n",
      "0.12840632561531465\n",
      "19823 are very large for MaxLFQ\n",
      "817715\n",
      "0.16741437459027145\n",
      "0.12276442573061332\n"
     ]
    },
    {
     "data": {
      "image/png": "[encoded data removed]",
      "text/plain": [
       "<Figure size 432x288 with 1 Axes>"
      ]
     },
     "metadata": {
      "needs_background": "light"
     },
     "output_type": "display_data"
    }
   ],
   "source": [
    "import matplotlib.pyplot as plt\n",
    "ax = plt.subplot()\n",
    "lfqbenchmark.CVDistributionPlotter(list_of_dataset_cv_infos=[cvinfo_directlfq, cvinfo_maxlfq], ax = ax,cumulative=False, density=True, bins=150)\n",
    "ax.legend()\n",
    "outfile = f\"../../test_data/system_tests/maxquant_yeast_interactome/1_Final_run_5x_1800_files/#1/twofilt_density_false_maxlfq_directlfq.pdf\"\n",
    "\n",
    "ax.set_title(\"distribution of replicate CVs\")\n",
    "ax.set_xlabel(\"CV\")\n",
    "ax.set_ylabel('frequency (a.u.)')\n",
    "plt.savefig(outfile)\n"
   ]
  },
  {
   "cell_type": "code",
   "execution_count": null,
   "metadata": {},
   "outputs": [],
   "source": []
  },
  {
   "cell_type": "code",
   "execution_count": null,
   "metadata": {},
   "outputs": [],
   "source": []
  },
  {
   "cell_type": "code",
   "execution_count": null,
   "metadata": {},
   "outputs": [],
   "source": []
  },
  {
   "cell_type": "code",
   "execution_count": null,
   "metadata": {},
   "outputs": [],
   "source": []
  }
 ],
 "metadata": {
  "kernelspec": {
   "display_name": "Python 3.8.13 ('directlfq')",
   "language": "python",
   "name": "python3"
  },
  "language_info": {
   "codemirror_mode": {
    "name": "ipython",
    "version": 3
   },
   "file_extension": ".py",
   "mimetype": "text/x-python",
   "name": "python",
   "nbconvert_exporter": "python",
   "pygments_lexer": "ipython3",
   "version": "3.8.13"
  },
  "orig_nbformat": 4,
  "vscode": {
   "interpreter": {
    "hash": "9de3b9232e447c280dd70250498a698134997f78cce557ab922912f202e5081f"
   }
  }
 },
 "nbformat": 4,
 "nbformat_minor": 2
}
