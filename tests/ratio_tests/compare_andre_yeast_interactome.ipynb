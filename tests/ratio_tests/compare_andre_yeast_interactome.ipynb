{
 "cells": [
  {
   "cell_type": "code",
   "execution_count": 21,
   "metadata": {},
   "outputs": [],
   "source": [
    "%reload_ext autoreload\n",
    "\n",
    "%autoreload 2\n"
   ]
  },
  {
   "cell_type": "code",
   "execution_count": 22,
   "metadata": {},
   "outputs": [],
   "source": [
    "input_file = \"../../test_data/system_tests/maxquant_yeast_interactome/1_Final_run_5x_1800_files/#1/evidence.txt.maxquant_evidence_andre_benchmark.aq_reformat.tsv\"\n",
    "maxquant_file = \"../../test_data/system_tests/maxquant_yeast_interactome/1_Final_run_5x_1800_files/#1/proteinGroups.txt\"\n",
    "directlfq_file = \"../../test_data/system_tests/maxquant_yeast_interactome/1_Final_run_5x_1800_files/#1/evidence.txt.maxquant_evidence_andre_benchmark.aq_reformat.tsv.protein_intensities.tsv\"\n",
    "iq_file = \"../../test_data/system_tests/maxquant_yeast_interactome/1_Final_run_5x_1800_files/#1/iq-MaxLFQ-fast.txt\"\n",
    "\n",
    "samplemap_lfq = \"../../test_data/system_tests/maxquant_yeast_interactome/1_Final_run_5x_1800_files/#1/samplemap_lfq.tsv\"\n",
    "samplemap_directlfq = \"../../test_data/system_tests/maxquant_yeast_interactome/1_Final_run_5x_1800_files/#1/samplemap_directlfq.tsv\"\n",
    "\n",
    "protein_group_file = \"../../test_data/system_tests/maxquant_yeast_interactome/1_Final_run_5x_1800_files/#1/proteinGroups.txt\"\n",
    "\n",
    "run_directlfq = True"
   ]
  },
  {
   "cell_type": "code",
   "execution_count": 23,
   "metadata": {},
   "outputs": [
    {
     "name": "stdout",
     "output_type": "stream",
     "text": [
      "to few values for normalization without missing values. Including missing values\n",
      "prot 100 of 4406\n",
      "prot 200 of 4406\n",
      "prot 300 of 4406\n",
      "prot 400 of 4406\n",
      "prot 500 of 4406\n",
      "prot 600 of 4406\n",
      "prot 700 of 4406\n",
      "prot 800 of 4406\n",
      "prot 900 of 4406\n",
      "prot 1000 of 4406\n",
      "prot 1100 of 4406\n",
      "prot 1200 of 4406\n",
      "prot 1300 of 4406\n",
      "prot 1400 of 4406\n",
      "prot 1500 of 4406\n",
      "prot 1600 of 4406\n",
      "prot 1700 of 4406\n",
      "prot 1800 of 4406\n",
      "prot 1900 of 4406\n",
      "prot 2000 of 4406\n",
      "prot 2100 of 4406\n",
      "prot 2200 of 4406\n",
      "prot 2300 of 4406\n",
      "prot 2400 of 4406\n",
      "prot 2500 of 4406\n",
      "prot 2600 of 4406\n",
      "prot 2700 of 4406\n",
      "prot 2800 of 4406\n",
      "prot 2900 of 4406\n",
      "prot 3000 of 4406\n",
      "prot 3100 of 4406\n",
      "prot 3200 of 4406\n",
      "prot 3300 of 4406\n",
      "prot 3400 of 4406\n",
      "prot 3500 of 4406\n",
      "prot 3600 of 4406\n",
      "prot 3700 of 4406\n",
      "prot 3800 of 4406\n",
      "prot 3900 of 4406\n",
      "prot 4000 of 4406\n",
      "prot 4100 of 4406\n",
      "prot 4200 of 4406\n",
      "prot 4300 of 4406\n",
      "prot 4400 of 4406\n"
     ]
    }
   ],
   "source": [
    "import warnings\n",
    "warnings.filterwarnings('ignore')\n",
    "\n",
    "if run_directlfq:\n",
    "    import directlfq.lfq_manager as lfqmgr\n",
    "\n",
    "    lfqmgr.run_lfq(input_file=input_file, input_type_to_use=\"maxquant_evidence_andre_benchmark\", min_nonan=2)\n",
    "\n"
   ]
  },
  {
   "cell_type": "code",
   "execution_count": 24,
   "metadata": {},
   "outputs": [],
   "source": [
    "import directlfq.benchmarking as lfqbenchmark\n",
    "\n",
    "restable_iq = lfqbenchmark.ResultsTableBiological(results_file=iq_file, samplemap=samplemap_directlfq, name=\"iQ\")\n",
    "restable_iq.results_df = 2**restable_iq.results_df.set_index([\"protein\", \"MaxLFQ_annotation\"])\n",
    "restable_iq.results_df = restable_iq.results_df.reset_index()\n",
    "cvinfo_iq = lfqbenchmark.CVInfoDataset(restable_iq)"
   ]
  },
  {
   "cell_type": "code",
   "execution_count": 25,
   "metadata": {},
   "outputs": [],
   "source": [
    "\n",
    "restable_directlfq = lfqbenchmark.ResultsTableBiological(results_file=directlfq_file, samplemap=samplemap_directlfq, name=\"directLFQ\")\n",
    "cvinfo_directlfq = lfqbenchmark.CVInfoDataset(restable_directlfq)"
   ]
  },
  {
   "cell_type": "code",
   "execution_count": 26,
   "metadata": {},
   "outputs": [],
   "source": [
    "import directlfq.benchmarking as lfqbenchmark\n",
    "restable_maxlfq = lfqbenchmark.ResultsTableBiological(results_file=maxquant_file, samplemap=samplemap_lfq, name = \"maxLFQ\")\n",
    "cvinfo_maxlfq = lfqbenchmark.CVInfoDataset(restable_maxlfq)"
   ]
  },
  {
   "cell_type": "code",
   "execution_count": 30,
   "metadata": {},
   "outputs": [
    {
     "name": "stdout",
     "output_type": "stream",
     "text": [
      "8662 are very large for directLFQ\n",
      "834886\n",
      "0.16673271855268582\n",
      "0.1280552384352872\n",
      "19823 are very large for maxLFQ\n",
      "817715\n",
      "0.16741437459027145\n",
      "0.12276442573061332\n",
      "64144 are very large for iQ\n",
      "1217695\n",
      "0.21772544611116212\n",
      "0.17608546819891868\n"
     ]
    },
    {
     "data": {
      "image/png": "[encoded data removed]",
      "text/plain": [
       "<Figure size 432x288 with 1 Axes>"
      ]
     },
     "metadata": {
      "needs_background": "light"
     },
     "output_type": "display_data"
    }
   ],
   "source": [
    "import matplotlib.pyplot as plt\n",
    "ax = plt.subplot()\n",
    "lfqbenchmark.CVDistributionPlotter(list_of_dataset_cv_infos=[cvinfo_directlfq, cvinfo_maxlfq, cvinfo_iq], ax = ax,cumulative=False, density=False, bins=150)\n",
    "ax.legend()\n",
    "outfile = f\"../../test_data/system_tests/maxquant_yeast_interactome/1_Final_run_5x_1800_files/#1/twofilt_density_false.pdf\"\n",
    "plt.savefig(outfile)\n"
   ]
  },
  {
   "cell_type": "code",
   "execution_count": null,
   "metadata": {},
   "outputs": [],
   "source": []
  },
  {
   "cell_type": "code",
   "execution_count": null,
   "metadata": {},
   "outputs": [],
   "source": []
  },
  {
   "cell_type": "code",
   "execution_count": null,
   "metadata": {},
   "outputs": [],
   "source": []
  },
  {
   "cell_type": "code",
   "execution_count": null,
   "metadata": {},
   "outputs": [],
   "source": []
  }
 ],
 "metadata": {
  "interpreter": {
   "hash": "d0aa3a8ce824291cb24d4d363ff4edbd7def750864ecae1a67d8681c187123bb"
  },
  "kernelspec": {
   "display_name": "Python 3.8.13 ('directLFQ')",
   "language": "python",
   "name": "python3"
  },
  "language_info": {
   "codemirror_mode": {
    "name": "ipython",
    "version": 3
   },
   "file_extension": ".py",
   "mimetype": "text/x-python",
   "name": "python",
   "nbconvert_exporter": "python",
   "pygments_lexer": "ipython3",
   "version": "3.8.13"
  },
  "orig_nbformat": 4
 },
 "nbformat": 4,
 "nbformat_minor": 2
}
