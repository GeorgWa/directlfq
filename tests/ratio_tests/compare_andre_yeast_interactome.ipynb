{
 "cells": [
  {
   "cell_type": "code",
   "execution_count": 1,
   "metadata": {},
   "outputs": [],
   "source": [
    "%reload_ext autoreload\n",
    "\n",
    "%autoreload 2\n"
   ]
  },
  {
   "cell_type": "code",
   "execution_count": 2,
   "metadata": {},
   "outputs": [],
   "source": [
    "input_file = \"../../test_data/system_tests/maxquant_yeast_interactome/1_Final_run_5x_1800_files/#1/evidence.txt.maxquant_evidence_andre_benchmark.aq_reformat.tsv\"\n",
    "maxquant_file = \"../../test_data/system_tests/maxquant_yeast_interactome/1_Final_run_5x_1800_files/#1/proteinGroups.txt\"\n",
    "directlfq_file = \"../../test_data/system_tests/maxquant_yeast_interactome/1_Final_run_5x_1800_files/#1/evidence.txt.maxquant_evidence_andre_benchmark.aq_reformat.tsv.protein_intensities.tsv\"\n",
    "iq_file = \"../../test_data/system_tests/maxquant_yeast_interactome/1_Final_run_5x_1800_files/#1/iq-MaxLFQ-fast.txt\"\n",
    "\n",
    "samplemap_lfq = \"../../test_data/system_tests/maxquant_yeast_interactome/1_Final_run_5x_1800_files/#1/samplemap_lfq.tsv\"\n",
    "samplemap_directlfq = \"../../test_data/system_tests/maxquant_yeast_interactome/1_Final_run_5x_1800_files/#1/samplemap_directlfq.tsv\"\n",
    "\n",
    "protein_group_file = \"../../test_data/system_tests/maxquant_yeast_interactome/1_Final_run_5x_1800_files/#1/proteinGroups.txt\"\n",
    "\n",
    "run_directlfq = True"
   ]
  },
  {
   "cell_type": "code",
   "execution_count": 3,
   "metadata": {},
   "outputs": [
    {
     "name": "stderr",
     "output_type": "stream",
     "text": [
      "/Users/constantin/workspace/directlfq/directlfq/utils.py:710: DtypeWarning: Columns (0) have mixed types. Specify dtype option on import or set low_memory=False.\n",
      "  input_reshaped = pd.read_csv(file_to_read, sep = \"\\t\", encoding = 'latin1', usecols=samples_subset)\n"
     ]
    },
    {
     "name": "stdout",
     "output_type": "stream",
     "text": [
      "4406 prots total\n",
      "using 10 processes\n",
      "prot 0\n",
      "prot 1000\n"
     ]
    },
    {
     "name": "stderr",
     "output_type": "stream",
     "text": [
      "/Users/constantin/workspace/directlfq/directlfq/protein_intensity_estimation.py:131: RuntimeWarning: divide by zero encountered in log2\n",
      "  scaled_vec = intens_vec+np.log2(intens_conversion_factor)\n",
      "/Users/constantin/workspace/directlfq/directlfq/protein_intensity_estimation.py:131: RuntimeWarning: invalid value encountered in add\n",
      "  scaled_vec = intens_vec+np.log2(intens_conversion_factor)\n",
      "/Users/constantin/workspace/directlfq/directlfq/protein_intensity_estimation.py:131: RuntimeWarning: divide by zero encountered in log2\n",
      "  scaled_vec = intens_vec+np.log2(intens_conversion_factor)\n",
      "/Users/constantin/workspace/directlfq/directlfq/protein_intensity_estimation.py:131: RuntimeWarning: invalid value encountered in add\n",
      "  scaled_vec = intens_vec+np.log2(intens_conversion_factor)\n",
      "/Users/constantin/workspace/directlfq/directlfq/protein_intensity_estimation.py:131: RuntimeWarning: divide by zero encountered in log2\n",
      "  scaled_vec = intens_vec+np.log2(intens_conversion_factor)\n",
      "/Users/constantin/workspace/directlfq/directlfq/protein_intensity_estimation.py:131: RuntimeWarning: invalid value encountered in add\n",
      "  scaled_vec = intens_vec+np.log2(intens_conversion_factor)\n",
      "/Users/constantin/workspace/directlfq/directlfq/protein_intensity_estimation.py:131: RuntimeWarning: divide by zero encountered in log2\n",
      "  scaled_vec = intens_vec+np.log2(intens_conversion_factor)\n",
      "/Users/constantin/workspace/directlfq/directlfq/protein_intensity_estimation.py:131: RuntimeWarning: invalid value encountered in add\n",
      "  scaled_vec = intens_vec+np.log2(intens_conversion_factor)\n"
     ]
    },
    {
     "name": "stdout",
     "output_type": "stream",
     "text": [
      "prot 900\n"
     ]
    },
    {
     "name": "stderr",
     "output_type": "stream",
     "text": [
      "/Users/constantin/workspace/directlfq/directlfq/protein_intensity_estimation.py:131: RuntimeWarning: divide by zero encountered in log2\n",
      "  scaled_vec = intens_vec+np.log2(intens_conversion_factor)\n",
      "/Users/constantin/workspace/directlfq/directlfq/protein_intensity_estimation.py:131: RuntimeWarning: invalid value encountered in add\n",
      "  scaled_vec = intens_vec+np.log2(intens_conversion_factor)\n",
      "/Users/constantin/workspace/directlfq/directlfq/protein_intensity_estimation.py:131: RuntimeWarning: divide by zero encountered in log2\n",
      "  scaled_vec = intens_vec+np.log2(intens_conversion_factor)\n",
      "/Users/constantin/workspace/directlfq/directlfq/protein_intensity_estimation.py:131: RuntimeWarning: invalid value encountered in add\n",
      "  scaled_vec = intens_vec+np.log2(intens_conversion_factor)\n",
      "/Users/constantin/workspace/directlfq/directlfq/protein_intensity_estimation.py:131: RuntimeWarning: divide by zero encountered in log2\n",
      "  scaled_vec = intens_vec+np.log2(intens_conversion_factor)\n",
      "/Users/constantin/workspace/directlfq/directlfq/protein_intensity_estimation.py:131: RuntimeWarning: invalid value encountered in add\n",
      "  scaled_vec = intens_vec+np.log2(intens_conversion_factor)\n"
     ]
    },
    {
     "name": "stdout",
     "output_type": "stream",
     "text": [
      "prot 800\n"
     ]
    },
    {
     "name": "stderr",
     "output_type": "stream",
     "text": [
      "/Users/constantin/workspace/directlfq/directlfq/protein_intensity_estimation.py:131: RuntimeWarning: divide by zero encountered in log2\n",
      "  scaled_vec = intens_vec+np.log2(intens_conversion_factor)\n",
      "/Users/constantin/workspace/directlfq/directlfq/protein_intensity_estimation.py:131: RuntimeWarning: invalid value encountered in add\n",
      "  scaled_vec = intens_vec+np.log2(intens_conversion_factor)\n",
      "/Users/constantin/workspace/directlfq/directlfq/protein_intensity_estimation.py:131: RuntimeWarning: divide by zero encountered in log2\n",
      "  scaled_vec = intens_vec+np.log2(intens_conversion_factor)\n",
      "/Users/constantin/workspace/directlfq/directlfq/protein_intensity_estimation.py:131: RuntimeWarning: invalid value encountered in add\n",
      "  scaled_vec = intens_vec+np.log2(intens_conversion_factor)\n",
      "/Users/constantin/workspace/directlfq/directlfq/protein_intensity_estimation.py:131: RuntimeWarning: divide by zero encountered in log2\n",
      "  scaled_vec = intens_vec+np.log2(intens_conversion_factor)\n",
      "/Users/constantin/workspace/directlfq/directlfq/protein_intensity_estimation.py:131: RuntimeWarning: invalid value encountered in add\n",
      "  scaled_vec = intens_vec+np.log2(intens_conversion_factor)\n",
      "/Users/constantin/workspace/directlfq/directlfq/protein_intensity_estimation.py:131: RuntimeWarning: divide by zero encountered in log2\n",
      "  scaled_vec = intens_vec+np.log2(intens_conversion_factor)\n",
      "/Users/constantin/workspace/directlfq/directlfq/protein_intensity_estimation.py:131: RuntimeWarning: invalid value encountered in add\n",
      "  scaled_vec = intens_vec+np.log2(intens_conversion_factor)\n",
      "/Users/constantin/workspace/directlfq/directlfq/protein_intensity_estimation.py:131: RuntimeWarning: divide by zero encountered in log2\n",
      "  scaled_vec = intens_vec+np.log2(intens_conversion_factor)\n",
      "/Users/constantin/workspace/directlfq/directlfq/protein_intensity_estimation.py:131: RuntimeWarning: invalid value encountered in add\n",
      "  scaled_vec = intens_vec+np.log2(intens_conversion_factor)\n",
      "/Users/constantin/workspace/directlfq/directlfq/protein_intensity_estimation.py:131: RuntimeWarning: divide by zero encountered in log2\n",
      "  scaled_vec = intens_vec+np.log2(intens_conversion_factor)\n",
      "/Users/constantin/workspace/directlfq/directlfq/protein_intensity_estimation.py:131: RuntimeWarning: invalid value encountered in add\n",
      "  scaled_vec = intens_vec+np.log2(intens_conversion_factor)\n"
     ]
    },
    {
     "name": "stdout",
     "output_type": "stream",
     "text": [
      "prot 700\n"
     ]
    },
    {
     "name": "stderr",
     "output_type": "stream",
     "text": [
      "/Users/constantin/workspace/directlfq/directlfq/protein_intensity_estimation.py:131: RuntimeWarning: divide by zero encountered in log2\n",
      "  scaled_vec = intens_vec+np.log2(intens_conversion_factor)\n",
      "/Users/constantin/workspace/directlfq/directlfq/protein_intensity_estimation.py:131: RuntimeWarning: invalid value encountered in add\n",
      "  scaled_vec = intens_vec+np.log2(intens_conversion_factor)\n",
      "/Users/constantin/workspace/directlfq/directlfq/protein_intensity_estimation.py:131: RuntimeWarning: divide by zero encountered in log2\n",
      "  scaled_vec = intens_vec+np.log2(intens_conversion_factor)\n",
      "/Users/constantin/workspace/directlfq/directlfq/protein_intensity_estimation.py:131: RuntimeWarning: invalid value encountered in add\n",
      "  scaled_vec = intens_vec+np.log2(intens_conversion_factor)\n",
      "/Users/constantin/workspace/directlfq/directlfq/protein_intensity_estimation.py:131: RuntimeWarning: divide by zero encountered in log2\n",
      "  scaled_vec = intens_vec+np.log2(intens_conversion_factor)\n",
      "/Users/constantin/workspace/directlfq/directlfq/protein_intensity_estimation.py:131: RuntimeWarning: invalid value encountered in add\n",
      "  scaled_vec = intens_vec+np.log2(intens_conversion_factor)\n"
     ]
    },
    {
     "name": "stdout",
     "output_type": "stream",
     "text": [
      "prot 600\n"
     ]
    },
    {
     "name": "stderr",
     "output_type": "stream",
     "text": [
      "/Users/constantin/workspace/directlfq/directlfq/protein_intensity_estimation.py:131: RuntimeWarning: divide by zero encountered in log2\n",
      "  scaled_vec = intens_vec+np.log2(intens_conversion_factor)\n",
      "/Users/constantin/workspace/directlfq/directlfq/protein_intensity_estimation.py:131: RuntimeWarning: invalid value encountered in add\n",
      "  scaled_vec = intens_vec+np.log2(intens_conversion_factor)\n",
      "/Users/constantin/workspace/directlfq/directlfq/protein_intensity_estimation.py:131: RuntimeWarning: divide by zero encountered in log2\n",
      "  scaled_vec = intens_vec+np.log2(intens_conversion_factor)\n",
      "/Users/constantin/workspace/directlfq/directlfq/protein_intensity_estimation.py:131: RuntimeWarning: invalid value encountered in add\n",
      "  scaled_vec = intens_vec+np.log2(intens_conversion_factor)\n"
     ]
    },
    {
     "name": "stdout",
     "output_type": "stream",
     "text": [
      "prot 400\n",
      "prot 500\n"
     ]
    },
    {
     "name": "stderr",
     "output_type": "stream",
     "text": [
      "/Users/constantin/workspace/directlfq/directlfq/protein_intensity_estimation.py:131: RuntimeWarning: divide by zero encountered in log2\n",
      "  scaled_vec = intens_vec+np.log2(intens_conversion_factor)\n",
      "/Users/constantin/workspace/directlfq/directlfq/protein_intensity_estimation.py:131: RuntimeWarning: invalid value encountered in add\n",
      "  scaled_vec = intens_vec+np.log2(intens_conversion_factor)\n",
      "/Users/constantin/workspace/directlfq/directlfq/protein_intensity_estimation.py:131: RuntimeWarning: divide by zero encountered in log2\n",
      "  scaled_vec = intens_vec+np.log2(intens_conversion_factor)\n",
      "/Users/constantin/workspace/directlfq/directlfq/protein_intensity_estimation.py:131: RuntimeWarning: invalid value encountered in add\n",
      "  scaled_vec = intens_vec+np.log2(intens_conversion_factor)\n",
      "/Users/constantin/workspace/directlfq/directlfq/protein_intensity_estimation.py:131: RuntimeWarning: divide by zero encountered in log2\n",
      "  scaled_vec = intens_vec+np.log2(intens_conversion_factor)\n",
      "/Users/constantin/workspace/directlfq/directlfq/protein_intensity_estimation.py:131: RuntimeWarning: invalid value encountered in add\n",
      "  scaled_vec = intens_vec+np.log2(intens_conversion_factor)\n",
      "/Users/constantin/workspace/directlfq/directlfq/protein_intensity_estimation.py:131: RuntimeWarning: divide by zero encountered in log2\n",
      "  scaled_vec = intens_vec+np.log2(intens_conversion_factor)\n",
      "/Users/constantin/workspace/directlfq/directlfq/protein_intensity_estimation.py:131: RuntimeWarning: invalid value encountered in add\n",
      "  scaled_vec = intens_vec+np.log2(intens_conversion_factor)\n",
      "/Users/constantin/workspace/directlfq/directlfq/protein_intensity_estimation.py:131: RuntimeWarning: divide by zero encountered in log2\n",
      "  scaled_vec = intens_vec+np.log2(intens_conversion_factor)\n",
      "/Users/constantin/workspace/directlfq/directlfq/protein_intensity_estimation.py:131: RuntimeWarning: invalid value encountered in add\n",
      "  scaled_vec = intens_vec+np.log2(intens_conversion_factor)\n",
      "/Users/constantin/workspace/directlfq/directlfq/protein_intensity_estimation.py:131: RuntimeWarning: divide by zero encountered in log2\n",
      "  scaled_vec = intens_vec+np.log2(intens_conversion_factor)\n",
      "/Users/constantin/workspace/directlfq/directlfq/protein_intensity_estimation.py:131: RuntimeWarning: invalid value encountered in add\n",
      "  scaled_vec = intens_vec+np.log2(intens_conversion_factor)\n"
     ]
    },
    {
     "name": "stdout",
     "output_type": "stream",
     "text": [
      "prot 200\n",
      "prot 300\n"
     ]
    },
    {
     "name": "stderr",
     "output_type": "stream",
     "text": [
      "/Users/constantin/workspace/directlfq/directlfq/protein_intensity_estimation.py:131: RuntimeWarning: divide by zero encountered in log2\n",
      "  scaled_vec = intens_vec+np.log2(intens_conversion_factor)\n",
      "/Users/constantin/workspace/directlfq/directlfq/protein_intensity_estimation.py:131: RuntimeWarning: invalid value encountered in add\n",
      "  scaled_vec = intens_vec+np.log2(intens_conversion_factor)\n",
      "/Users/constantin/workspace/directlfq/directlfq/protein_intensity_estimation.py:131: RuntimeWarning: divide by zero encountered in log2\n",
      "  scaled_vec = intens_vec+np.log2(intens_conversion_factor)\n",
      "/Users/constantin/workspace/directlfq/directlfq/protein_intensity_estimation.py:131: RuntimeWarning: invalid value encountered in add\n",
      "  scaled_vec = intens_vec+np.log2(intens_conversion_factor)\n",
      "/Users/constantin/workspace/directlfq/directlfq/protein_intensity_estimation.py:131: RuntimeWarning: divide by zero encountered in log2\n",
      "  scaled_vec = intens_vec+np.log2(intens_conversion_factor)\n",
      "/Users/constantin/workspace/directlfq/directlfq/protein_intensity_estimation.py:131: RuntimeWarning: invalid value encountered in add\n",
      "  scaled_vec = intens_vec+np.log2(intens_conversion_factor)\n",
      "/Users/constantin/workspace/directlfq/directlfq/protein_intensity_estimation.py:131: RuntimeWarning: divide by zero encountered in log2\n",
      "  scaled_vec = intens_vec+np.log2(intens_conversion_factor)\n",
      "/Users/constantin/workspace/directlfq/directlfq/protein_intensity_estimation.py:131: RuntimeWarning: invalid value encountered in add\n",
      "  scaled_vec = intens_vec+np.log2(intens_conversion_factor)\n",
      "/Users/constantin/workspace/directlfq/directlfq/protein_intensity_estimation.py:131: RuntimeWarning: divide by zero encountered in log2\n",
      "  scaled_vec = intens_vec+np.log2(intens_conversion_factor)\n",
      "/Users/constantin/workspace/directlfq/directlfq/protein_intensity_estimation.py:131: RuntimeWarning: invalid value encountered in add\n",
      "  scaled_vec = intens_vec+np.log2(intens_conversion_factor)\n",
      "/Users/constantin/workspace/directlfq/directlfq/protein_intensity_estimation.py:131: RuntimeWarning: divide by zero encountered in log2\n",
      "  scaled_vec = intens_vec+np.log2(intens_conversion_factor)\n",
      "/Users/constantin/workspace/directlfq/directlfq/protein_intensity_estimation.py:131: RuntimeWarning: invalid value encountered in add\n",
      "  scaled_vec = intens_vec+np.log2(intens_conversion_factor)\n",
      "/Users/constantin/workspace/directlfq/directlfq/protein_intensity_estimation.py:131: RuntimeWarning: divide by zero encountered in log2\n",
      "  scaled_vec = intens_vec+np.log2(intens_conversion_factor)\n",
      "/Users/constantin/workspace/directlfq/directlfq/protein_intensity_estimation.py:131: RuntimeWarning: invalid value encountered in add\n",
      "  scaled_vec = intens_vec+np.log2(intens_conversion_factor)\n"
     ]
    },
    {
     "name": "stdout",
     "output_type": "stream",
     "text": [
      "prot 100\n"
     ]
    },
    {
     "name": "stderr",
     "output_type": "stream",
     "text": [
      "/Users/constantin/workspace/directlfq/directlfq/protein_intensity_estimation.py:131: RuntimeWarning: divide by zero encountered in log2\n",
      "  scaled_vec = intens_vec+np.log2(intens_conversion_factor)\n",
      "/Users/constantin/workspace/directlfq/directlfq/protein_intensity_estimation.py:131: RuntimeWarning: invalid value encountered in add\n",
      "  scaled_vec = intens_vec+np.log2(intens_conversion_factor)\n",
      "/Users/constantin/workspace/directlfq/directlfq/protein_intensity_estimation.py:131: RuntimeWarning: divide by zero encountered in log2\n",
      "  scaled_vec = intens_vec+np.log2(intens_conversion_factor)\n",
      "/Users/constantin/workspace/directlfq/directlfq/protein_intensity_estimation.py:131: RuntimeWarning: invalid value encountered in add\n",
      "  scaled_vec = intens_vec+np.log2(intens_conversion_factor)\n",
      "/Users/constantin/workspace/directlfq/directlfq/protein_intensity_estimation.py:131: RuntimeWarning: divide by zero encountered in log2\n",
      "  scaled_vec = intens_vec+np.log2(intens_conversion_factor)\n",
      "/Users/constantin/workspace/directlfq/directlfq/protein_intensity_estimation.py:131: RuntimeWarning: invalid value encountered in add\n",
      "  scaled_vec = intens_vec+np.log2(intens_conversion_factor)\n"
     ]
    },
    {
     "name": "stdout",
     "output_type": "stream",
     "text": [
      "prot 1100\n"
     ]
    },
    {
     "name": "stderr",
     "output_type": "stream",
     "text": [
      "/Users/constantin/workspace/directlfq/directlfq/protein_intensity_estimation.py:131: RuntimeWarning: divide by zero encountered in log2\n",
      "  scaled_vec = intens_vec+np.log2(intens_conversion_factor)\n",
      "/Users/constantin/workspace/directlfq/directlfq/protein_intensity_estimation.py:131: RuntimeWarning: invalid value encountered in add\n",
      "  scaled_vec = intens_vec+np.log2(intens_conversion_factor)\n",
      "/Users/constantin/workspace/directlfq/directlfq/protein_intensity_estimation.py:131: RuntimeWarning: divide by zero encountered in log2\n",
      "  scaled_vec = intens_vec+np.log2(intens_conversion_factor)\n",
      "/Users/constantin/workspace/directlfq/directlfq/protein_intensity_estimation.py:131: RuntimeWarning: invalid value encountered in add\n",
      "  scaled_vec = intens_vec+np.log2(intens_conversion_factor)\n",
      "/Users/constantin/workspace/directlfq/directlfq/protein_intensity_estimation.py:131: RuntimeWarning: divide by zero encountered in log2\n",
      "  scaled_vec = intens_vec+np.log2(intens_conversion_factor)\n",
      "/Users/constantin/workspace/directlfq/directlfq/protein_intensity_estimation.py:131: RuntimeWarning: invalid value encountered in add\n",
      "  scaled_vec = intens_vec+np.log2(intens_conversion_factor)\n",
      "/Users/constantin/workspace/directlfq/directlfq/protein_intensity_estimation.py:131: RuntimeWarning: divide by zero encountered in log2\n",
      "  scaled_vec = intens_vec+np.log2(intens_conversion_factor)\n",
      "/Users/constantin/workspace/directlfq/directlfq/protein_intensity_estimation.py:131: RuntimeWarning: invalid value encountered in add\n",
      "  scaled_vec = intens_vec+np.log2(intens_conversion_factor)\n",
      "/Users/constantin/workspace/directlfq/directlfq/protein_intensity_estimation.py:131: RuntimeWarning: divide by zero encountered in log2\n",
      "  scaled_vec = intens_vec+np.log2(intens_conversion_factor)\n",
      "/Users/constantin/workspace/directlfq/directlfq/protein_intensity_estimation.py:131: RuntimeWarning: invalid value encountered in add\n",
      "  scaled_vec = intens_vec+np.log2(intens_conversion_factor)\n"
     ]
    },
    {
     "name": "stdout",
     "output_type": "stream",
     "text": [
      "prot 2000\n"
     ]
    },
    {
     "name": "stderr",
     "output_type": "stream",
     "text": [
      "/Users/constantin/workspace/directlfq/directlfq/protein_intensity_estimation.py:131: RuntimeWarning: divide by zero encountered in log2\n",
      "  scaled_vec = intens_vec+np.log2(intens_conversion_factor)\n",
      "/Users/constantin/workspace/directlfq/directlfq/protein_intensity_estimation.py:131: RuntimeWarning: invalid value encountered in add\n",
      "  scaled_vec = intens_vec+np.log2(intens_conversion_factor)\n",
      "/Users/constantin/workspace/directlfq/directlfq/protein_intensity_estimation.py:131: RuntimeWarning: divide by zero encountered in log2\n",
      "  scaled_vec = intens_vec+np.log2(intens_conversion_factor)\n",
      "/Users/constantin/workspace/directlfq/directlfq/protein_intensity_estimation.py:131: RuntimeWarning: invalid value encountered in add\n",
      "  scaled_vec = intens_vec+np.log2(intens_conversion_factor)\n"
     ]
    },
    {
     "name": "stdout",
     "output_type": "stream",
     "text": [
      "prot 1800\n"
     ]
    },
    {
     "name": "stderr",
     "output_type": "stream",
     "text": [
      "/Users/constantin/workspace/directlfq/directlfq/protein_intensity_estimation.py:131: RuntimeWarning: divide by zero encountered in log2\n",
      "  scaled_vec = intens_vec+np.log2(intens_conversion_factor)\n",
      "/Users/constantin/workspace/directlfq/directlfq/protein_intensity_estimation.py:131: RuntimeWarning: invalid value encountered in add\n",
      "  scaled_vec = intens_vec+np.log2(intens_conversion_factor)\n"
     ]
    },
    {
     "name": "stdout",
     "output_type": "stream",
     "text": [
      "prot 1900\n"
     ]
    },
    {
     "name": "stderr",
     "output_type": "stream",
     "text": [
      "/Users/constantin/workspace/directlfq/directlfq/protein_intensity_estimation.py:131: RuntimeWarning: divide by zero encountered in log2\n",
      "  scaled_vec = intens_vec+np.log2(intens_conversion_factor)\n",
      "/Users/constantin/workspace/directlfq/directlfq/protein_intensity_estimation.py:131: RuntimeWarning: invalid value encountered in add\n",
      "  scaled_vec = intens_vec+np.log2(intens_conversion_factor)\n"
     ]
    },
    {
     "name": "stdout",
     "output_type": "stream",
     "text": [
      "prot 1700\n"
     ]
    },
    {
     "name": "stderr",
     "output_type": "stream",
     "text": [
      "/Users/constantin/workspace/directlfq/directlfq/protein_intensity_estimation.py:131: RuntimeWarning: divide by zero encountered in log2\n",
      "  scaled_vec = intens_vec+np.log2(intens_conversion_factor)\n",
      "/Users/constantin/workspace/directlfq/directlfq/protein_intensity_estimation.py:131: RuntimeWarning: invalid value encountered in add\n",
      "  scaled_vec = intens_vec+np.log2(intens_conversion_factor)\n"
     ]
    },
    {
     "name": "stdout",
     "output_type": "stream",
     "text": [
      "prot 1600\n"
     ]
    },
    {
     "name": "stderr",
     "output_type": "stream",
     "text": [
      "/Users/constantin/workspace/directlfq/directlfq/protein_intensity_estimation.py:131: RuntimeWarning: divide by zero encountered in log2\n",
      "  scaled_vec = intens_vec+np.log2(intens_conversion_factor)\n",
      "/Users/constantin/workspace/directlfq/directlfq/protein_intensity_estimation.py:131: RuntimeWarning: invalid value encountered in add\n",
      "  scaled_vec = intens_vec+np.log2(intens_conversion_factor)\n"
     ]
    },
    {
     "name": "stdout",
     "output_type": "stream",
     "text": [
      "prot 1400\n",
      "prot 1300\n"
     ]
    },
    {
     "name": "stderr",
     "output_type": "stream",
     "text": [
      "/Users/constantin/workspace/directlfq/directlfq/protein_intensity_estimation.py:131: RuntimeWarning: divide by zero encountered in log2\n",
      "  scaled_vec = intens_vec+np.log2(intens_conversion_factor)\n",
      "/Users/constantin/workspace/directlfq/directlfq/protein_intensity_estimation.py:131: RuntimeWarning: invalid value encountered in add\n",
      "  scaled_vec = intens_vec+np.log2(intens_conversion_factor)\n",
      "/Users/constantin/workspace/directlfq/directlfq/protein_intensity_estimation.py:131: RuntimeWarning: divide by zero encountered in log2\n",
      "  scaled_vec = intens_vec+np.log2(intens_conversion_factor)\n",
      "/Users/constantin/workspace/directlfq/directlfq/protein_intensity_estimation.py:131: RuntimeWarning: invalid value encountered in add\n",
      "  scaled_vec = intens_vec+np.log2(intens_conversion_factor)\n"
     ]
    },
    {
     "name": "stdout",
     "output_type": "stream",
     "text": [
      "prot 1500\n"
     ]
    },
    {
     "name": "stderr",
     "output_type": "stream",
     "text": [
      "/Users/constantin/workspace/directlfq/directlfq/protein_intensity_estimation.py:131: RuntimeWarning: divide by zero encountered in log2\n",
      "  scaled_vec = intens_vec+np.log2(intens_conversion_factor)\n",
      "/Users/constantin/workspace/directlfq/directlfq/protein_intensity_estimation.py:131: RuntimeWarning: invalid value encountered in add\n",
      "  scaled_vec = intens_vec+np.log2(intens_conversion_factor)\n",
      "/Users/constantin/workspace/directlfq/directlfq/protein_intensity_estimation.py:131: RuntimeWarning: divide by zero encountered in log2\n",
      "  scaled_vec = intens_vec+np.log2(intens_conversion_factor)\n",
      "/Users/constantin/workspace/directlfq/directlfq/protein_intensity_estimation.py:131: RuntimeWarning: invalid value encountered in add\n",
      "  scaled_vec = intens_vec+np.log2(intens_conversion_factor)\n",
      "/Users/constantin/workspace/directlfq/directlfq/protein_intensity_estimation.py:131: RuntimeWarning: divide by zero encountered in log2\n",
      "  scaled_vec = intens_vec+np.log2(intens_conversion_factor)\n",
      "/Users/constantin/workspace/directlfq/directlfq/protein_intensity_estimation.py:131: RuntimeWarning: invalid value encountered in add\n",
      "  scaled_vec = intens_vec+np.log2(intens_conversion_factor)\n"
     ]
    },
    {
     "name": "stdout",
     "output_type": "stream",
     "text": [
      "prot 1200\n"
     ]
    },
    {
     "name": "stderr",
     "output_type": "stream",
     "text": [
      "/Users/constantin/workspace/directlfq/directlfq/protein_intensity_estimation.py:131: RuntimeWarning: divide by zero encountered in log2\n",
      "  scaled_vec = intens_vec+np.log2(intens_conversion_factor)\n",
      "/Users/constantin/workspace/directlfq/directlfq/protein_intensity_estimation.py:131: RuntimeWarning: invalid value encountered in add\n",
      "  scaled_vec = intens_vec+np.log2(intens_conversion_factor)\n",
      "/Users/constantin/workspace/directlfq/directlfq/protein_intensity_estimation.py:131: RuntimeWarning: divide by zero encountered in log2\n",
      "  scaled_vec = intens_vec+np.log2(intens_conversion_factor)\n",
      "/Users/constantin/workspace/directlfq/directlfq/protein_intensity_estimation.py:131: RuntimeWarning: invalid value encountered in add\n",
      "  scaled_vec = intens_vec+np.log2(intens_conversion_factor)\n",
      "/Users/constantin/workspace/directlfq/directlfq/protein_intensity_estimation.py:131: RuntimeWarning: divide by zero encountered in log2\n",
      "  scaled_vec = intens_vec+np.log2(intens_conversion_factor)\n",
      "/Users/constantin/workspace/directlfq/directlfq/protein_intensity_estimation.py:131: RuntimeWarning: invalid value encountered in add\n",
      "  scaled_vec = intens_vec+np.log2(intens_conversion_factor)\n",
      "/Users/constantin/workspace/directlfq/directlfq/protein_intensity_estimation.py:131: RuntimeWarning: divide by zero encountered in log2\n",
      "  scaled_vec = intens_vec+np.log2(intens_conversion_factor)\n",
      "/Users/constantin/workspace/directlfq/directlfq/protein_intensity_estimation.py:131: RuntimeWarning: invalid value encountered in add\n",
      "  scaled_vec = intens_vec+np.log2(intens_conversion_factor)\n",
      "/Users/constantin/workspace/directlfq/directlfq/protein_intensity_estimation.py:131: RuntimeWarning: divide by zero encountered in log2\n",
      "  scaled_vec = intens_vec+np.log2(intens_conversion_factor)\n",
      "/Users/constantin/workspace/directlfq/directlfq/protein_intensity_estimation.py:131: RuntimeWarning: invalid value encountered in add\n",
      "  scaled_vec = intens_vec+np.log2(intens_conversion_factor)\n"
     ]
    },
    {
     "name": "stdout",
     "output_type": "stream",
     "text": [
      "prot 2100\n"
     ]
    },
    {
     "name": "stderr",
     "output_type": "stream",
     "text": [
      "/Users/constantin/workspace/directlfq/directlfq/protein_intensity_estimation.py:131: RuntimeWarning: divide by zero encountered in log2\n",
      "  scaled_vec = intens_vec+np.log2(intens_conversion_factor)\n",
      "/Users/constantin/workspace/directlfq/directlfq/protein_intensity_estimation.py:131: RuntimeWarning: invalid value encountered in add\n",
      "  scaled_vec = intens_vec+np.log2(intens_conversion_factor)\n"
     ]
    },
    {
     "name": "stdout",
     "output_type": "stream",
     "text": [
      "prot 2200\n"
     ]
    },
    {
     "name": "stderr",
     "output_type": "stream",
     "text": [
      "/Users/constantin/workspace/directlfq/directlfq/protein_intensity_estimation.py:131: RuntimeWarning: divide by zero encountered in log2\n",
      "  scaled_vec = intens_vec+np.log2(intens_conversion_factor)\n",
      "/Users/constantin/workspace/directlfq/directlfq/protein_intensity_estimation.py:131: RuntimeWarning: invalid value encountered in add\n",
      "  scaled_vec = intens_vec+np.log2(intens_conversion_factor)\n",
      "/Users/constantin/workspace/directlfq/directlfq/protein_intensity_estimation.py:131: RuntimeWarning: divide by zero encountered in log2\n",
      "  scaled_vec = intens_vec+np.log2(intens_conversion_factor)\n",
      "/Users/constantin/workspace/directlfq/directlfq/protein_intensity_estimation.py:131: RuntimeWarning: invalid value encountered in add\n",
      "  scaled_vec = intens_vec+np.log2(intens_conversion_factor)\n",
      "/Users/constantin/workspace/directlfq/directlfq/protein_intensity_estimation.py:131: RuntimeWarning: divide by zero encountered in log2\n",
      "  scaled_vec = intens_vec+np.log2(intens_conversion_factor)\n",
      "/Users/constantin/workspace/directlfq/directlfq/protein_intensity_estimation.py:131: RuntimeWarning: invalid value encountered in add\n",
      "  scaled_vec = intens_vec+np.log2(intens_conversion_factor)\n"
     ]
    },
    {
     "name": "stdout",
     "output_type": "stream",
     "text": [
      "prot 3000\n"
     ]
    },
    {
     "name": "stderr",
     "output_type": "stream",
     "text": [
      "/Users/constantin/workspace/directlfq/directlfq/protein_intensity_estimation.py:131: RuntimeWarning: divide by zero encountered in log2\n",
      "  scaled_vec = intens_vec+np.log2(intens_conversion_factor)\n",
      "/Users/constantin/workspace/directlfq/directlfq/protein_intensity_estimation.py:131: RuntimeWarning: invalid value encountered in add\n",
      "  scaled_vec = intens_vec+np.log2(intens_conversion_factor)\n",
      "/Users/constantin/workspace/directlfq/directlfq/protein_intensity_estimation.py:131: RuntimeWarning: divide by zero encountered in log2\n",
      "  scaled_vec = intens_vec+np.log2(intens_conversion_factor)\n",
      "/Users/constantin/workspace/directlfq/directlfq/protein_intensity_estimation.py:131: RuntimeWarning: invalid value encountered in add\n",
      "  scaled_vec = intens_vec+np.log2(intens_conversion_factor)\n"
     ]
    },
    {
     "name": "stdout",
     "output_type": "stream",
     "text": [
      "prot 2800\n",
      "prot 2900\n"
     ]
    },
    {
     "name": "stderr",
     "output_type": "stream",
     "text": [
      "/Users/constantin/workspace/directlfq/directlfq/protein_intensity_estimation.py:131: RuntimeWarning: divide by zero encountered in log2\n",
      "  scaled_vec = intens_vec+np.log2(intens_conversion_factor)\n",
      "/Users/constantin/workspace/directlfq/directlfq/protein_intensity_estimation.py:131: RuntimeWarning: invalid value encountered in add\n",
      "  scaled_vec = intens_vec+np.log2(intens_conversion_factor)\n"
     ]
    },
    {
     "name": "stdout",
     "output_type": "stream",
     "text": [
      "prot 2500\n"
     ]
    },
    {
     "name": "stderr",
     "output_type": "stream",
     "text": [
      "/Users/constantin/workspace/directlfq/directlfq/protein_intensity_estimation.py:131: RuntimeWarning: divide by zero encountered in log2\n",
      "  scaled_vec = intens_vec+np.log2(intens_conversion_factor)\n",
      "/Users/constantin/workspace/directlfq/directlfq/protein_intensity_estimation.py:131: RuntimeWarning: invalid value encountered in add\n",
      "  scaled_vec = intens_vec+np.log2(intens_conversion_factor)\n",
      "/Users/constantin/workspace/directlfq/directlfq/protein_intensity_estimation.py:131: RuntimeWarning: divide by zero encountered in log2\n",
      "  scaled_vec = intens_vec+np.log2(intens_conversion_factor)\n",
      "/Users/constantin/workspace/directlfq/directlfq/protein_intensity_estimation.py:131: RuntimeWarning: invalid value encountered in add\n",
      "  scaled_vec = intens_vec+np.log2(intens_conversion_factor)\n",
      "/Users/constantin/workspace/directlfq/directlfq/protein_intensity_estimation.py:131: RuntimeWarning: divide by zero encountered in log2\n",
      "  scaled_vec = intens_vec+np.log2(intens_conversion_factor)\n",
      "/Users/constantin/workspace/directlfq/directlfq/protein_intensity_estimation.py:131: RuntimeWarning: invalid value encountered in add\n",
      "  scaled_vec = intens_vec+np.log2(intens_conversion_factor)\n"
     ]
    },
    {
     "name": "stdout",
     "output_type": "stream",
     "text": [
      "prot 2600\n"
     ]
    },
    {
     "name": "stderr",
     "output_type": "stream",
     "text": [
      "/Users/constantin/workspace/directlfq/directlfq/protein_intensity_estimation.py:131: RuntimeWarning: divide by zero encountered in log2\n",
      "  scaled_vec = intens_vec+np.log2(intens_conversion_factor)\n",
      "/Users/constantin/workspace/directlfq/directlfq/protein_intensity_estimation.py:131: RuntimeWarning: invalid value encountered in add\n",
      "  scaled_vec = intens_vec+np.log2(intens_conversion_factor)\n",
      "/Users/constantin/workspace/directlfq/directlfq/protein_intensity_estimation.py:131: RuntimeWarning: divide by zero encountered in log2\n",
      "  scaled_vec = intens_vec+np.log2(intens_conversion_factor)\n",
      "/Users/constantin/workspace/directlfq/directlfq/protein_intensity_estimation.py:131: RuntimeWarning: invalid value encountered in add\n",
      "  scaled_vec = intens_vec+np.log2(intens_conversion_factor)\n",
      "/Users/constantin/workspace/directlfq/directlfq/protein_intensity_estimation.py:131: RuntimeWarning: divide by zero encountered in log2\n",
      "  scaled_vec = intens_vec+np.log2(intens_conversion_factor)\n",
      "/Users/constantin/workspace/directlfq/directlfq/protein_intensity_estimation.py:131: RuntimeWarning: invalid value encountered in add\n",
      "  scaled_vec = intens_vec+np.log2(intens_conversion_factor)\n",
      "/Users/constantin/workspace/directlfq/directlfq/protein_intensity_estimation.py:131: RuntimeWarning: divide by zero encountered in log2\n",
      "  scaled_vec = intens_vec+np.log2(intens_conversion_factor)\n",
      "/Users/constantin/workspace/directlfq/directlfq/protein_intensity_estimation.py:131: RuntimeWarning: invalid value encountered in add\n",
      "  scaled_vec = intens_vec+np.log2(intens_conversion_factor)\n",
      "/Users/constantin/workspace/directlfq/directlfq/protein_intensity_estimation.py:131: RuntimeWarning: divide by zero encountered in log2\n",
      "  scaled_vec = intens_vec+np.log2(intens_conversion_factor)\n",
      "/Users/constantin/workspace/directlfq/directlfq/protein_intensity_estimation.py:131: RuntimeWarning: invalid value encountered in add\n",
      "  scaled_vec = intens_vec+np.log2(intens_conversion_factor)\n"
     ]
    },
    {
     "name": "stdout",
     "output_type": "stream",
     "text": [
      "prot 2700\n"
     ]
    },
    {
     "name": "stderr",
     "output_type": "stream",
     "text": [
      "/Users/constantin/workspace/directlfq/directlfq/protein_intensity_estimation.py:131: RuntimeWarning: divide by zero encountered in log2\n",
      "  scaled_vec = intens_vec+np.log2(intens_conversion_factor)\n",
      "/Users/constantin/workspace/directlfq/directlfq/protein_intensity_estimation.py:131: RuntimeWarning: invalid value encountered in add\n",
      "  scaled_vec = intens_vec+np.log2(intens_conversion_factor)\n",
      "/Users/constantin/workspace/directlfq/directlfq/protein_intensity_estimation.py:131: RuntimeWarning: divide by zero encountered in log2\n",
      "  scaled_vec = intens_vec+np.log2(intens_conversion_factor)\n",
      "/Users/constantin/workspace/directlfq/directlfq/protein_intensity_estimation.py:131: RuntimeWarning: invalid value encountered in add\n",
      "  scaled_vec = intens_vec+np.log2(intens_conversion_factor)\n"
     ]
    },
    {
     "name": "stdout",
     "output_type": "stream",
     "text": [
      "prot 2300\n"
     ]
    },
    {
     "name": "stderr",
     "output_type": "stream",
     "text": [
      "/Users/constantin/workspace/directlfq/directlfq/protein_intensity_estimation.py:131: RuntimeWarning: divide by zero encountered in log2\n",
      "  scaled_vec = intens_vec+np.log2(intens_conversion_factor)\n",
      "/Users/constantin/workspace/directlfq/directlfq/protein_intensity_estimation.py:131: RuntimeWarning: invalid value encountered in add\n",
      "  scaled_vec = intens_vec+np.log2(intens_conversion_factor)\n",
      "/Users/constantin/workspace/directlfq/directlfq/protein_intensity_estimation.py:131: RuntimeWarning: divide by zero encountered in log2\n",
      "  scaled_vec = intens_vec+np.log2(intens_conversion_factor)\n",
      "/Users/constantin/workspace/directlfq/directlfq/protein_intensity_estimation.py:131: RuntimeWarning: invalid value encountered in add\n",
      "  scaled_vec = intens_vec+np.log2(intens_conversion_factor)\n",
      "/Users/constantin/workspace/directlfq/directlfq/protein_intensity_estimation.py:131: RuntimeWarning: divide by zero encountered in log2\n",
      "  scaled_vec = intens_vec+np.log2(intens_conversion_factor)\n",
      "/Users/constantin/workspace/directlfq/directlfq/protein_intensity_estimation.py:131: RuntimeWarning: invalid value encountered in add\n",
      "  scaled_vec = intens_vec+np.log2(intens_conversion_factor)\n",
      "/Users/constantin/workspace/directlfq/directlfq/protein_intensity_estimation.py:131: RuntimeWarning: divide by zero encountered in log2\n",
      "  scaled_vec = intens_vec+np.log2(intens_conversion_factor)\n",
      "/Users/constantin/workspace/directlfq/directlfq/protein_intensity_estimation.py:131: RuntimeWarning: invalid value encountered in add\n",
      "  scaled_vec = intens_vec+np.log2(intens_conversion_factor)\n"
     ]
    },
    {
     "name": "stdout",
     "output_type": "stream",
     "text": [
      "prot 2400\n"
     ]
    },
    {
     "name": "stderr",
     "output_type": "stream",
     "text": [
      "/Users/constantin/workspace/directlfq/directlfq/protein_intensity_estimation.py:131: RuntimeWarning: divide by zero encountered in log2\n",
      "  scaled_vec = intens_vec+np.log2(intens_conversion_factor)\n",
      "/Users/constantin/workspace/directlfq/directlfq/protein_intensity_estimation.py:131: RuntimeWarning: invalid value encountered in add\n",
      "  scaled_vec = intens_vec+np.log2(intens_conversion_factor)\n",
      "/Users/constantin/workspace/directlfq/directlfq/protein_intensity_estimation.py:131: RuntimeWarning: divide by zero encountered in log2\n",
      "  scaled_vec = intens_vec+np.log2(intens_conversion_factor)\n",
      "/Users/constantin/workspace/directlfq/directlfq/protein_intensity_estimation.py:131: RuntimeWarning: invalid value encountered in add\n",
      "  scaled_vec = intens_vec+np.log2(intens_conversion_factor)\n",
      "/Users/constantin/workspace/directlfq/directlfq/protein_intensity_estimation.py:131: RuntimeWarning: divide by zero encountered in log2\n",
      "  scaled_vec = intens_vec+np.log2(intens_conversion_factor)\n",
      "/Users/constantin/workspace/directlfq/directlfq/protein_intensity_estimation.py:131: RuntimeWarning: invalid value encountered in add\n",
      "  scaled_vec = intens_vec+np.log2(intens_conversion_factor)\n",
      "/Users/constantin/workspace/directlfq/directlfq/protein_intensity_estimation.py:131: RuntimeWarning: divide by zero encountered in log2\n",
      "  scaled_vec = intens_vec+np.log2(intens_conversion_factor)\n",
      "/Users/constantin/workspace/directlfq/directlfq/protein_intensity_estimation.py:131: RuntimeWarning: invalid value encountered in add\n",
      "  scaled_vec = intens_vec+np.log2(intens_conversion_factor)\n",
      "/Users/constantin/workspace/directlfq/directlfq/protein_intensity_estimation.py:131: RuntimeWarning: divide by zero encountered in log2\n",
      "  scaled_vec = intens_vec+np.log2(intens_conversion_factor)\n",
      "/Users/constantin/workspace/directlfq/directlfq/protein_intensity_estimation.py:131: RuntimeWarning: invalid value encountered in add\n",
      "  scaled_vec = intens_vec+np.log2(intens_conversion_factor)\n",
      "/Users/constantin/workspace/directlfq/directlfq/protein_intensity_estimation.py:131: RuntimeWarning: divide by zero encountered in log2\n",
      "  scaled_vec = intens_vec+np.log2(intens_conversion_factor)\n",
      "/Users/constantin/workspace/directlfq/directlfq/protein_intensity_estimation.py:131: RuntimeWarning: invalid value encountered in add\n",
      "  scaled_vec = intens_vec+np.log2(intens_conversion_factor)\n",
      "/Users/constantin/workspace/directlfq/directlfq/protein_intensity_estimation.py:131: RuntimeWarning: divide by zero encountered in log2\n",
      "  scaled_vec = intens_vec+np.log2(intens_conversion_factor)\n",
      "/Users/constantin/workspace/directlfq/directlfq/protein_intensity_estimation.py:131: RuntimeWarning: invalid value encountered in add\n",
      "  scaled_vec = intens_vec+np.log2(intens_conversion_factor)\n",
      "/Users/constantin/workspace/directlfq/directlfq/protein_intensity_estimation.py:131: RuntimeWarning: divide by zero encountered in log2\n",
      "  scaled_vec = intens_vec+np.log2(intens_conversion_factor)\n",
      "/Users/constantin/workspace/directlfq/directlfq/protein_intensity_estimation.py:131: RuntimeWarning: invalid value encountered in add\n",
      "  scaled_vec = intens_vec+np.log2(intens_conversion_factor)\n",
      "/Users/constantin/workspace/directlfq/directlfq/protein_intensity_estimation.py:131: RuntimeWarning: divide by zero encountered in log2\n",
      "  scaled_vec = intens_vec+np.log2(intens_conversion_factor)\n",
      "/Users/constantin/workspace/directlfq/directlfq/protein_intensity_estimation.py:131: RuntimeWarning: invalid value encountered in add\n",
      "  scaled_vec = intens_vec+np.log2(intens_conversion_factor)\n",
      "/Users/constantin/workspace/directlfq/directlfq/protein_intensity_estimation.py:131: RuntimeWarning: divide by zero encountered in log2\n",
      "  scaled_vec = intens_vec+np.log2(intens_conversion_factor)\n",
      "/Users/constantin/workspace/directlfq/directlfq/protein_intensity_estimation.py:131: RuntimeWarning: invalid value encountered in add\n",
      "  scaled_vec = intens_vec+np.log2(intens_conversion_factor)\n",
      "/Users/constantin/workspace/directlfq/directlfq/protein_intensity_estimation.py:131: RuntimeWarning: divide by zero encountered in log2\n",
      "  scaled_vec = intens_vec+np.log2(intens_conversion_factor)\n",
      "/Users/constantin/workspace/directlfq/directlfq/protein_intensity_estimation.py:131: RuntimeWarning: invalid value encountered in add\n",
      "  scaled_vec = intens_vec+np.log2(intens_conversion_factor)\n",
      "/Users/constantin/workspace/directlfq/directlfq/protein_intensity_estimation.py:131: RuntimeWarning: divide by zero encountered in log2\n",
      "  scaled_vec = intens_vec+np.log2(intens_conversion_factor)\n",
      "/Users/constantin/workspace/directlfq/directlfq/protein_intensity_estimation.py:131: RuntimeWarning: invalid value encountered in add\n",
      "  scaled_vec = intens_vec+np.log2(intens_conversion_factor)\n",
      "/Users/constantin/workspace/directlfq/directlfq/protein_intensity_estimation.py:131: RuntimeWarning: divide by zero encountered in log2\n",
      "  scaled_vec = intens_vec+np.log2(intens_conversion_factor)\n",
      "/Users/constantin/workspace/directlfq/directlfq/protein_intensity_estimation.py:131: RuntimeWarning: invalid value encountered in add\n",
      "  scaled_vec = intens_vec+np.log2(intens_conversion_factor)\n",
      "/Users/constantin/workspace/directlfq/directlfq/protein_intensity_estimation.py:131: RuntimeWarning: divide by zero encountered in log2\n",
      "  scaled_vec = intens_vec+np.log2(intens_conversion_factor)\n",
      "/Users/constantin/workspace/directlfq/directlfq/protein_intensity_estimation.py:131: RuntimeWarning: invalid value encountered in add\n",
      "  scaled_vec = intens_vec+np.log2(intens_conversion_factor)\n"
     ]
    },
    {
     "name": "stdout",
     "output_type": "stream",
     "text": [
      "prot 3200\n",
      "prot 3300\n"
     ]
    },
    {
     "name": "stderr",
     "output_type": "stream",
     "text": [
      "/Users/constantin/workspace/directlfq/directlfq/protein_intensity_estimation.py:131: RuntimeWarning: divide by zero encountered in log2\n",
      "  scaled_vec = intens_vec+np.log2(intens_conversion_factor)\n",
      "/Users/constantin/workspace/directlfq/directlfq/protein_intensity_estimation.py:131: RuntimeWarning: invalid value encountered in add\n",
      "  scaled_vec = intens_vec+np.log2(intens_conversion_factor)\n",
      "/Users/constantin/workspace/directlfq/directlfq/protein_intensity_estimation.py:131: RuntimeWarning: divide by zero encountered in log2\n",
      "  scaled_vec = intens_vec+np.log2(intens_conversion_factor)\n",
      "/Users/constantin/workspace/directlfq/directlfq/protein_intensity_estimation.py:131: RuntimeWarning: invalid value encountered in add\n",
      "  scaled_vec = intens_vec+np.log2(intens_conversion_factor)\n"
     ]
    },
    {
     "name": "stdout",
     "output_type": "stream",
     "text": [
      "prot 3100\n"
     ]
    },
    {
     "name": "stderr",
     "output_type": "stream",
     "text": [
      "/Users/constantin/workspace/directlfq/directlfq/protein_intensity_estimation.py:131: RuntimeWarning: divide by zero encountered in log2\n",
      "  scaled_vec = intens_vec+np.log2(intens_conversion_factor)\n",
      "/Users/constantin/workspace/directlfq/directlfq/protein_intensity_estimation.py:131: RuntimeWarning: invalid value encountered in add\n",
      "  scaled_vec = intens_vec+np.log2(intens_conversion_factor)\n",
      "/Users/constantin/workspace/directlfq/directlfq/protein_intensity_estimation.py:131: RuntimeWarning: divide by zero encountered in log2\n",
      "  scaled_vec = intens_vec+np.log2(intens_conversion_factor)\n",
      "/Users/constantin/workspace/directlfq/directlfq/protein_intensity_estimation.py:131: RuntimeWarning: invalid value encountered in add\n",
      "  scaled_vec = intens_vec+np.log2(intens_conversion_factor)\n",
      "/Users/constantin/workspace/directlfq/directlfq/protein_intensity_estimation.py:131: RuntimeWarning: divide by zero encountered in log2\n",
      "  scaled_vec = intens_vec+np.log2(intens_conversion_factor)\n",
      "/Users/constantin/workspace/directlfq/directlfq/protein_intensity_estimation.py:131: RuntimeWarning: invalid value encountered in add\n",
      "  scaled_vec = intens_vec+np.log2(intens_conversion_factor)\n",
      "/Users/constantin/workspace/directlfq/directlfq/protein_intensity_estimation.py:131: RuntimeWarning: divide by zero encountered in log2\n",
      "  scaled_vec = intens_vec+np.log2(intens_conversion_factor)\n",
      "/Users/constantin/workspace/directlfq/directlfq/protein_intensity_estimation.py:131: RuntimeWarning: invalid value encountered in add\n",
      "  scaled_vec = intens_vec+np.log2(intens_conversion_factor)\n"
     ]
    },
    {
     "name": "stdout",
     "output_type": "stream",
     "text": [
      "prot 4000\n",
      "prot 3400\n",
      "prot 3900\n"
     ]
    },
    {
     "name": "stderr",
     "output_type": "stream",
     "text": [
      "/Users/constantin/workspace/directlfq/directlfq/protein_intensity_estimation.py:131: RuntimeWarning: divide by zero encountered in log2\n",
      "  scaled_vec = intens_vec+np.log2(intens_conversion_factor)\n",
      "/Users/constantin/workspace/directlfq/directlfq/protein_intensity_estimation.py:131: RuntimeWarning: invalid value encountered in add\n",
      "  scaled_vec = intens_vec+np.log2(intens_conversion_factor)\n"
     ]
    },
    {
     "name": "stdout",
     "output_type": "stream",
     "text": [
      "prot 3700\n",
      "prot 3500\n"
     ]
    },
    {
     "name": "stderr",
     "output_type": "stream",
     "text": [
      "/Users/constantin/workspace/directlfq/directlfq/protein_intensity_estimation.py:131: RuntimeWarning: divide by zero encountered in log2\n",
      "  scaled_vec = intens_vec+np.log2(intens_conversion_factor)\n",
      "/Users/constantin/workspace/directlfq/directlfq/protein_intensity_estimation.py:131: RuntimeWarning: invalid value encountered in add\n",
      "  scaled_vec = intens_vec+np.log2(intens_conversion_factor)\n",
      "/Users/constantin/workspace/directlfq/directlfq/protein_intensity_estimation.py:131: RuntimeWarning: divide by zero encountered in log2\n",
      "  scaled_vec = intens_vec+np.log2(intens_conversion_factor)\n",
      "/Users/constantin/workspace/directlfq/directlfq/protein_intensity_estimation.py:131: RuntimeWarning: invalid value encountered in add\n",
      "  scaled_vec = intens_vec+np.log2(intens_conversion_factor)\n",
      "/Users/constantin/workspace/directlfq/directlfq/protein_intensity_estimation.py:131: RuntimeWarning: divide by zero encountered in log2\n",
      "  scaled_vec = intens_vec+np.log2(intens_conversion_factor)\n",
      "/Users/constantin/workspace/directlfq/directlfq/protein_intensity_estimation.py:131: RuntimeWarning: invalid value encountered in add\n",
      "  scaled_vec = intens_vec+np.log2(intens_conversion_factor)\n"
     ]
    },
    {
     "name": "stdout",
     "output_type": "stream",
     "text": [
      "prot 3800\n"
     ]
    },
    {
     "name": "stderr",
     "output_type": "stream",
     "text": [
      "/Users/constantin/workspace/directlfq/directlfq/protein_intensity_estimation.py:131: RuntimeWarning: divide by zero encountered in log2\n",
      "  scaled_vec = intens_vec+np.log2(intens_conversion_factor)\n",
      "/Users/constantin/workspace/directlfq/directlfq/protein_intensity_estimation.py:131: RuntimeWarning: invalid value encountered in add\n",
      "  scaled_vec = intens_vec+np.log2(intens_conversion_factor)\n",
      "/Users/constantin/workspace/directlfq/directlfq/protein_intensity_estimation.py:131: RuntimeWarning: divide by zero encountered in log2\n",
      "  scaled_vec = intens_vec+np.log2(intens_conversion_factor)\n",
      "/Users/constantin/workspace/directlfq/directlfq/protein_intensity_estimation.py:131: RuntimeWarning: invalid value encountered in add\n",
      "  scaled_vec = intens_vec+np.log2(intens_conversion_factor)\n",
      "/Users/constantin/workspace/directlfq/directlfq/protein_intensity_estimation.py:131: RuntimeWarning: divide by zero encountered in log2\n",
      "  scaled_vec = intens_vec+np.log2(intens_conversion_factor)\n",
      "/Users/constantin/workspace/directlfq/directlfq/protein_intensity_estimation.py:131: RuntimeWarning: invalid value encountered in add\n",
      "  scaled_vec = intens_vec+np.log2(intens_conversion_factor)\n"
     ]
    },
    {
     "name": "stdout",
     "output_type": "stream",
     "text": [
      "prot 3600\n"
     ]
    },
    {
     "name": "stderr",
     "output_type": "stream",
     "text": [
      "/Users/constantin/workspace/directlfq/directlfq/protein_intensity_estimation.py:131: RuntimeWarning: divide by zero encountered in log2\n",
      "  scaled_vec = intens_vec+np.log2(intens_conversion_factor)\n",
      "/Users/constantin/workspace/directlfq/directlfq/protein_intensity_estimation.py:131: RuntimeWarning: invalid value encountered in add\n",
      "  scaled_vec = intens_vec+np.log2(intens_conversion_factor)\n",
      "/Users/constantin/workspace/directlfq/directlfq/protein_intensity_estimation.py:131: RuntimeWarning: divide by zero encountered in log2\n",
      "  scaled_vec = intens_vec+np.log2(intens_conversion_factor)\n",
      "/Users/constantin/workspace/directlfq/directlfq/protein_intensity_estimation.py:131: RuntimeWarning: invalid value encountered in add\n",
      "  scaled_vec = intens_vec+np.log2(intens_conversion_factor)\n",
      "/Users/constantin/workspace/directlfq/directlfq/protein_intensity_estimation.py:131: RuntimeWarning: divide by zero encountered in log2\n",
      "  scaled_vec = intens_vec+np.log2(intens_conversion_factor)\n",
      "/Users/constantin/workspace/directlfq/directlfq/protein_intensity_estimation.py:131: RuntimeWarning: invalid value encountered in add\n",
      "  scaled_vec = intens_vec+np.log2(intens_conversion_factor)\n",
      "/Users/constantin/workspace/directlfq/directlfq/protein_intensity_estimation.py:131: RuntimeWarning: divide by zero encountered in log2\n",
      "  scaled_vec = intens_vec+np.log2(intens_conversion_factor)\n",
      "/Users/constantin/workspace/directlfq/directlfq/protein_intensity_estimation.py:131: RuntimeWarning: invalid value encountered in add\n",
      "  scaled_vec = intens_vec+np.log2(intens_conversion_factor)\n",
      "/Users/constantin/workspace/directlfq/directlfq/protein_intensity_estimation.py:131: RuntimeWarning: divide by zero encountered in log2\n",
      "  scaled_vec = intens_vec+np.log2(intens_conversion_factor)\n",
      "/Users/constantin/workspace/directlfq/directlfq/protein_intensity_estimation.py:131: RuntimeWarning: invalid value encountered in add\n",
      "  scaled_vec = intens_vec+np.log2(intens_conversion_factor)\n",
      "/Users/constantin/workspace/directlfq/directlfq/protein_intensity_estimation.py:131: RuntimeWarning: divide by zero encountered in log2\n",
      "  scaled_vec = intens_vec+np.log2(intens_conversion_factor)\n",
      "/Users/constantin/workspace/directlfq/directlfq/protein_intensity_estimation.py:131: RuntimeWarning: invalid value encountered in add\n",
      "  scaled_vec = intens_vec+np.log2(intens_conversion_factor)\n",
      "/Users/constantin/workspace/directlfq/directlfq/protein_intensity_estimation.py:131: RuntimeWarning: divide by zero encountered in log2\n",
      "  scaled_vec = intens_vec+np.log2(intens_conversion_factor)\n",
      "/Users/constantin/workspace/directlfq/directlfq/protein_intensity_estimation.py:131: RuntimeWarning: invalid value encountered in add\n",
      "  scaled_vec = intens_vec+np.log2(intens_conversion_factor)\n",
      "/Users/constantin/workspace/directlfq/directlfq/protein_intensity_estimation.py:131: RuntimeWarning: divide by zero encountered in log2\n",
      "  scaled_vec = intens_vec+np.log2(intens_conversion_factor)\n",
      "/Users/constantin/workspace/directlfq/directlfq/protein_intensity_estimation.py:131: RuntimeWarning: invalid value encountered in add\n",
      "  scaled_vec = intens_vec+np.log2(intens_conversion_factor)\n",
      "/Users/constantin/workspace/directlfq/directlfq/protein_intensity_estimation.py:131: RuntimeWarning: divide by zero encountered in log2\n",
      "  scaled_vec = intens_vec+np.log2(intens_conversion_factor)\n",
      "/Users/constantin/workspace/directlfq/directlfq/protein_intensity_estimation.py:131: RuntimeWarning: invalid value encountered in add\n",
      "  scaled_vec = intens_vec+np.log2(intens_conversion_factor)\n",
      "/Users/constantin/workspace/directlfq/directlfq/protein_intensity_estimation.py:131: RuntimeWarning: divide by zero encountered in log2\n",
      "  scaled_vec = intens_vec+np.log2(intens_conversion_factor)\n",
      "/Users/constantin/workspace/directlfq/directlfq/protein_intensity_estimation.py:131: RuntimeWarning: invalid value encountered in add\n",
      "  scaled_vec = intens_vec+np.log2(intens_conversion_factor)\n",
      "/Users/constantin/workspace/directlfq/directlfq/protein_intensity_estimation.py:131: RuntimeWarning: divide by zero encountered in log2\n",
      "  scaled_vec = intens_vec+np.log2(intens_conversion_factor)\n",
      "/Users/constantin/workspace/directlfq/directlfq/protein_intensity_estimation.py:131: RuntimeWarning: invalid value encountered in add\n",
      "  scaled_vec = intens_vec+np.log2(intens_conversion_factor)\n",
      "/Users/constantin/workspace/directlfq/directlfq/protein_intensity_estimation.py:131: RuntimeWarning: divide by zero encountered in log2\n",
      "  scaled_vec = intens_vec+np.log2(intens_conversion_factor)\n",
      "/Users/constantin/workspace/directlfq/directlfq/protein_intensity_estimation.py:131: RuntimeWarning: invalid value encountered in add\n",
      "  scaled_vec = intens_vec+np.log2(intens_conversion_factor)\n",
      "/Users/constantin/workspace/directlfq/directlfq/protein_intensity_estimation.py:131: RuntimeWarning: divide by zero encountered in log2\n",
      "  scaled_vec = intens_vec+np.log2(intens_conversion_factor)\n",
      "/Users/constantin/workspace/directlfq/directlfq/protein_intensity_estimation.py:131: RuntimeWarning: invalid value encountered in add\n",
      "  scaled_vec = intens_vec+np.log2(intens_conversion_factor)\n",
      "/Users/constantin/workspace/directlfq/directlfq/protein_intensity_estimation.py:131: RuntimeWarning: divide by zero encountered in log2\n",
      "  scaled_vec = intens_vec+np.log2(intens_conversion_factor)\n",
      "/Users/constantin/workspace/directlfq/directlfq/protein_intensity_estimation.py:131: RuntimeWarning: invalid value encountered in add\n",
      "  scaled_vec = intens_vec+np.log2(intens_conversion_factor)\n",
      "/Users/constantin/workspace/directlfq/directlfq/protein_intensity_estimation.py:131: RuntimeWarning: divide by zero encountered in log2\n",
      "  scaled_vec = intens_vec+np.log2(intens_conversion_factor)\n",
      "/Users/constantin/workspace/directlfq/directlfq/protein_intensity_estimation.py:131: RuntimeWarning: invalid value encountered in add\n",
      "  scaled_vec = intens_vec+np.log2(intens_conversion_factor)\n",
      "/Users/constantin/workspace/directlfq/directlfq/protein_intensity_estimation.py:131: RuntimeWarning: divide by zero encountered in log2\n",
      "  scaled_vec = intens_vec+np.log2(intens_conversion_factor)\n",
      "/Users/constantin/workspace/directlfq/directlfq/protein_intensity_estimation.py:131: RuntimeWarning: invalid value encountered in add\n",
      "  scaled_vec = intens_vec+np.log2(intens_conversion_factor)\n",
      "/Users/constantin/workspace/directlfq/directlfq/protein_intensity_estimation.py:131: RuntimeWarning: divide by zero encountered in log2\n",
      "  scaled_vec = intens_vec+np.log2(intens_conversion_factor)\n",
      "/Users/constantin/workspace/directlfq/directlfq/protein_intensity_estimation.py:131: RuntimeWarning: invalid value encountered in add\n",
      "  scaled_vec = intens_vec+np.log2(intens_conversion_factor)\n",
      "/Users/constantin/workspace/directlfq/directlfq/protein_intensity_estimation.py:131: RuntimeWarning: divide by zero encountered in log2\n",
      "  scaled_vec = intens_vec+np.log2(intens_conversion_factor)\n",
      "/Users/constantin/workspace/directlfq/directlfq/protein_intensity_estimation.py:131: RuntimeWarning: invalid value encountered in add\n",
      "  scaled_vec = intens_vec+np.log2(intens_conversion_factor)\n",
      "/Users/constantin/workspace/directlfq/directlfq/protein_intensity_estimation.py:131: RuntimeWarning: divide by zero encountered in log2\n",
      "  scaled_vec = intens_vec+np.log2(intens_conversion_factor)\n",
      "/Users/constantin/workspace/directlfq/directlfq/protein_intensity_estimation.py:131: RuntimeWarning: invalid value encountered in add\n",
      "  scaled_vec = intens_vec+np.log2(intens_conversion_factor)\n"
     ]
    },
    {
     "name": "stdout",
     "output_type": "stream",
     "text": [
      "prot 4300\n"
     ]
    },
    {
     "name": "stderr",
     "output_type": "stream",
     "text": [
      "/Users/constantin/workspace/directlfq/directlfq/protein_intensity_estimation.py:131: RuntimeWarning: divide by zero encountered in log2\n",
      "  scaled_vec = intens_vec+np.log2(intens_conversion_factor)\n",
      "/Users/constantin/workspace/directlfq/directlfq/protein_intensity_estimation.py:131: RuntimeWarning: invalid value encountered in add\n",
      "  scaled_vec = intens_vec+np.log2(intens_conversion_factor)\n"
     ]
    },
    {
     "name": "stdout",
     "output_type": "stream",
     "text": [
      "prot 4200\n",
      "prot 4400\n"
     ]
    },
    {
     "name": "stderr",
     "output_type": "stream",
     "text": [
      "/Users/constantin/workspace/directlfq/directlfq/protein_intensity_estimation.py:131: RuntimeWarning: divide by zero encountered in log2\n",
      "  scaled_vec = intens_vec+np.log2(intens_conversion_factor)\n",
      "/Users/constantin/workspace/directlfq/directlfq/protein_intensity_estimation.py:131: RuntimeWarning: invalid value encountered in add\n",
      "  scaled_vec = intens_vec+np.log2(intens_conversion_factor)\n"
     ]
    },
    {
     "name": "stdout",
     "output_type": "stream",
     "text": [
      "prot 4100\n"
     ]
    },
    {
     "name": "stderr",
     "output_type": "stream",
     "text": [
      "/Users/constantin/workspace/directlfq/directlfq/protein_intensity_estimation.py:131: RuntimeWarning: divide by zero encountered in log2\n",
      "  scaled_vec = intens_vec+np.log2(intens_conversion_factor)\n",
      "/Users/constantin/workspace/directlfq/directlfq/protein_intensity_estimation.py:131: RuntimeWarning: invalid value encountered in add\n",
      "  scaled_vec = intens_vec+np.log2(intens_conversion_factor)\n",
      "/Users/constantin/workspace/directlfq/directlfq/protein_intensity_estimation.py:131: RuntimeWarning: divide by zero encountered in log2\n",
      "  scaled_vec = intens_vec+np.log2(intens_conversion_factor)\n",
      "/Users/constantin/workspace/directlfq/directlfq/protein_intensity_estimation.py:131: RuntimeWarning: invalid value encountered in add\n",
      "  scaled_vec = intens_vec+np.log2(intens_conversion_factor)\n",
      "/Users/constantin/workspace/directlfq/directlfq/utils.py:753: ResourceWarning: unclosed file <_io.TextIOWrapper name='/Users/constantin/workspace/directlfq/directlfq/configs/intable_config.yaml' mode='r' encoding='UTF-8'>\n",
      "  config_dict = load_config(INTABLE_CONFIG)\n",
      "ResourceWarning: Enable tracemalloc to get the object allocation traceback\n",
      "/Users/constantin/workspace/directlfq/directlfq/utils.py:190: DtypeWarning: Columns (12) have mixed types. Specify dtype option on import or set low_memory=False.\n",
      "  input_df = pd.read_csv(input_file, sep=\"\\t\", usecols=all_columns).drop_duplicates(subset=protein_column_input_table)\n"
     ]
    }
   ],
   "source": [
    "import warnings\n",
    "warnings.filterwarnings('ignore')\n",
    "\n",
    "if run_directlfq:\n",
    "    import directlfq.lfq_manager as lfqmgr\n",
    "\n",
    "    lfqmgr.run_lfq(input_file=input_file, input_type_to_use=\"maxquant_evidence_andre_benchmark\", min_nonan=2)\n",
    "\n"
   ]
  },
  {
   "cell_type": "code",
   "execution_count": 4,
   "metadata": {},
   "outputs": [
    {
     "name": "stderr",
     "output_type": "stream",
     "text": [
      "/Users/constantin/opt/anaconda3/envs/directlfq/lib/python3.8/site-packages/seaborn/rcmod.py:82: DeprecationWarning: distutils Version classes are deprecated. Use packaging.version instead.\n",
      "  if LooseVersion(mpl.__version__) >= \"3.0\":\n",
      "/Users/constantin/opt/anaconda3/envs/directlfq/lib/python3.8/site-packages/setuptools/_distutils/version.py:351: DeprecationWarning: distutils Version classes are deprecated. Use packaging.version instead.\n",
      "  other = LooseVersion(other)\n"
     ]
    }
   ],
   "source": [
    "import directlfq.benchmarking as lfqbenchmark\n",
    "\n",
    "restable_iq = lfqbenchmark.ResultsTableBiological(results_file=iq_file, samplemap=samplemap_directlfq, name=\"iQ\")\n",
    "restable_iq.results_df = 2**restable_iq.results_df.set_index([\"protein\", \"MaxLFQ_annotation\"])\n",
    "restable_iq.results_df = restable_iq.results_df.reset_index()\n",
    "cvinfo_iq = lfqbenchmark.CVInfoDataset(restable_iq)"
   ]
  },
  {
   "cell_type": "code",
   "execution_count": 5,
   "metadata": {},
   "outputs": [],
   "source": [
    "\n",
    "restable_directlfq = lfqbenchmark.ResultsTableBiological(results_file=directlfq_file, samplemap=samplemap_directlfq, name=\"directLFQ\")\n",
    "cvinfo_directlfq = lfqbenchmark.CVInfoDataset(restable_directlfq)"
   ]
  },
  {
   "cell_type": "code",
   "execution_count": 6,
   "metadata": {},
   "outputs": [
    {
     "name": "stderr",
     "output_type": "stream",
     "text": [
      "/Users/constantin/workspace/directlfq/directlfq/benchmarking.py:430: DtypeWarning: Columns (2,3,4,4883,5406,5407,6116,6117,6246,6247,6262,6263,6438,6439,12950,12951,12952,12962) have mixed types. Specify dtype option on import or set low_memory=False.\n",
      "  self.results_df = pd.read_csv(self._results_file, sep = \"\\t\")\n"
     ]
    }
   ],
   "source": [
    "import directlfq.benchmarking as lfqbenchmark\n",
    "restable_maxlfq = lfqbenchmark.ResultsTableBiological(results_file=maxquant_file, samplemap=samplemap_lfq, name = \"MaxLFQ\")\n",
    "cvinfo_maxlfq = lfqbenchmark.CVInfoDataset(restable_maxlfq)"
   ]
  },
  {
   "cell_type": "code",
   "execution_count": 7,
   "metadata": {},
   "outputs": [
    {
     "name": "stdout",
     "output_type": "stream",
     "text": [
      "8700 are very large for directLFQ\n",
      "835097\n",
      "0.16709069150839873\n",
      "0.12840632561531465\n",
      "19823 are very large for MaxLFQ\n",
      "817715\n",
      "0.16741437459027145\n",
      "0.12276442573061332\n"
     ]
    },
    {
     "data": {
      "image/png": "[encoded data removed]",
      "text/plain": [
       "<Figure size 432x288 with 1 Axes>"
      ]
     },
     "metadata": {
      "needs_background": "light"
     },
     "output_type": "display_data"
    }
   ],
   "source": [
    "import matplotlib.pyplot as plt\n",
    "ax = plt.subplot()\n",
    "lfqbenchmark.CVDistributionPlotter(list_of_dataset_cv_infos=[cvinfo_directlfq, cvinfo_maxlfq], ax = ax,cumulative=False, density=False, bins=150)\n",
    "ax.legend()\n",
    "outfile = f\"../../test_data/system_tests/maxquant_yeast_interactome/1_Final_run_5x_1800_files/#1/twofilt_density_false_maxlfq_directlfq.pdf\"\n",
    "\n",
    "ax.set_title(\"distribution of replicate CVs\")\n",
    "ax.set_xlabel(\"CV\")\n",
    "ax.set_ylabel('frequency (a.u.)')\n",
    "plt.savefig(outfile)\n"
   ]
  },
  {
   "cell_type": "code",
   "execution_count": null,
   "metadata": {},
   "outputs": [],
   "source": []
  },
  {
   "cell_type": "code",
   "execution_count": null,
   "metadata": {},
   "outputs": [],
   "source": []
  },
  {
   "cell_type": "code",
   "execution_count": null,
   "metadata": {},
   "outputs": [],
   "source": []
  },
  {
   "cell_type": "code",
   "execution_count": null,
   "metadata": {},
   "outputs": [],
   "source": []
  }
 ],
 "metadata": {
  "kernelspec": {
   "display_name": "Python 3.8.13 ('directlfq')",
   "language": "python",
   "name": "python3"
  },
  "language_info": {
   "codemirror_mode": {
    "name": "ipython",
    "version": 3
   },
   "file_extension": ".py",
   "mimetype": "text/x-python",
   "name": "python",
   "nbconvert_exporter": "python",
   "pygments_lexer": "ipython3",
   "version": "3.8.13"
  },
  "orig_nbformat": 4,
  "vscode": {
   "interpreter": {
    "hash": "9de3b9232e447c280dd70250498a698134997f78cce557ab922912f202e5081f"
   }
  }
 },
 "nbformat": 4,
 "nbformat_minor": 2
}
