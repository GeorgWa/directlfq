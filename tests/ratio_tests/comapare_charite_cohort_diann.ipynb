{
 "cells": [
  {
   "cell_type": "code",
   "execution_count": 1,
   "metadata": {},
   "outputs": [],
   "source": [
    "%reload_ext autoreload\n",
    "\n",
    "%autoreload 2\n"
   ]
  },
  {
   "cell_type": "code",
   "execution_count": 2,
   "metadata": {},
   "outputs": [],
   "source": [
    "input_file = \"../../test_data/system_tests/diann_charite_dataset/Charite-DIA-NN_analysis.txt\"\n",
    "#input_file = \"../../test_data/system_tests/diann_charite_dataset/Charite-DIA-NN_analysis.txt.diann_precursor_filename_sampleid.aq_reformat.tsv\"\n",
    "\n",
    "directlfq_file = \"../../test_data/system_tests/diann_charite_dataset/Charite-DIA-NN_analysis.txt.protein_intensities.tsv\"\n",
    "\n",
    "samplemap =\"../../test_data/system_tests/diann_charite_dataset/samplemap_shortened.tsv\"\n",
    "\n",
    "diann_lfq_file = \"../../test_data/system_tests/diann_charite_dataset/Charite-DIA-NN_analysis.txt.diann_gene.aq_reformat.tsv\"\n",
    "iq_lfq_file = \"../../test_data/system_tests/diann_charite_dataset/report-charite-iq.tsv\"\n",
    "\n",
    "outfile = \"../../test_data/system_tests/diann_charite_dataset/cv_distribution_charite_cohort.pdf\"\n",
    "\n",
    "run_directlfq = False"
   ]
  },
  {
   "cell_type": "code",
   "execution_count": 3,
   "metadata": {},
   "outputs": [],
   "source": [
    "if run_directlfq:\n",
    "    import directlfq.lfq_manager as lfqmgr\n",
    "\n",
    "    lfqmgr.run_lfq(input_file=input_file, input_type_to_use=\"diann_fragion_isotopes_raw_charite_dataset\", min_nonan=3)\n",
    "\n"
   ]
  },
  {
   "cell_type": "code",
   "execution_count": 4,
   "metadata": {},
   "outputs": [],
   "source": [
    "\n",
    "import directlfq.benchmarking as lfqbenchmark\n",
    "restable_directlfq = lfqbenchmark.ResultsTableBiological(results_file=directlfq_file, samplemap=samplemap, name=\"directLFQ\\n\")\n",
    "cvinfo_directlfq = lfqbenchmark.CVInfoDataset(restable_directlfq)"
   ]
  },
  {
   "cell_type": "code",
   "execution_count": 5,
   "metadata": {},
   "outputs": [],
   "source": [
    "import directlfq.benchmarking as lfqbenchmark\n",
    "restable_diann = lfqbenchmark.ResultsTableBiological(results_file=diann_lfq_file, samplemap=samplemap, name = \"MaxLFQ DIANN\\n\")\n",
    "cvinfo_diann = lfqbenchmark.CVInfoDataset(restable_diann)"
   ]
  },
  {
   "cell_type": "code",
   "execution_count": 6,
   "metadata": {},
   "outputs": [],
   "source": [
    "import directlfq.benchmarking as lfqbenchmark\n",
    "restable_iq = lfqbenchmark.ResultsTableBiological(results_file=iq_lfq_file, samplemap=samplemap, name = \"MaxLFQ iQ\\n\")\n",
    "cvinfo_iq = lfqbenchmark.CVInfoDataset(restable_iq)"
   ]
  },
  {
   "cell_type": "code",
   "execution_count": 7,
   "metadata": {},
   "outputs": [
    {
     "name": "stdout",
     "output_type": "stream",
     "text": [
      "27 are very large for directLFQ\n",
      "\n",
      "1787\n",
      "0.13936626711342312\n",
      "0.11128118020229363\n",
      "50 are very large for MaxLFQ DIANN\n",
      "\n",
      "1982\n",
      "0.1632490777950846\n",
      "0.13240989113091897\n",
      "10 are very large for MaxLFQ iQ\n",
      "\n",
      "1698\n",
      "0.13798939045114358\n",
      "0.12633659011044102\n"
     ]
    },
    {
     "data": {
      "image/png": "[encoded data removed]",
      "text/plain": [
       "<Figure size 212.67x170.136 with 1 Axes>"
      ]
     },
     "metadata": {
      "needs_background": "light"
     },
     "output_type": "display_data"
    }
   ],
   "source": [
    "import matplotlib.pyplot as plt\n",
    "ax = plt.subplot()\n",
    "ax.figure.set_size_inches(1.25*2.363,2.363)\n",
    "lfqbenchmark.CVDistributionPlotter(list_of_dataset_cv_infos=[cvinfo_directlfq, cvinfo_diann, cvinfo_iq], ax = ax,cumulative=False, density=False, bins=50, histtype='step')\n",
    "ax.legend()\n",
    "\n",
    "ax.set_title(\"DIA data\\ndistribution of replicate CVs\")\n",
    "ax.set_xlabel(\"CV\")\n",
    "ax.set_ylabel('frequency (a.u.)')\n",
    "\n",
    "plt.savefig(outfile, bbox_inches='tight', dpi=300)\n",
    "plt.savefig(outfile.replace(\".pdf\", \".png\"), bbox_inches='tight', dpi=300)\n"
   ]
  },
  {
   "cell_type": "code",
   "execution_count": null,
   "metadata": {},
   "outputs": [],
   "source": []
  },
  {
   "cell_type": "code",
   "execution_count": null,
   "metadata": {},
   "outputs": [],
   "source": []
  }
 ],
 "metadata": {
  "kernelspec": {
   "display_name": "Python 3.8.13 ('directlfq')",
   "language": "python",
   "name": "python3"
  },
  "language_info": {
   "codemirror_mode": {
    "name": "ipython",
    "version": 3
   },
   "file_extension": ".py",
   "mimetype": "text/x-python",
   "name": "python",
   "nbconvert_exporter": "python",
   "pygments_lexer": "ipython3",
   "version": "3.8.13"
  },
  "orig_nbformat": 4,
  "vscode": {
   "interpreter": {
    "hash": "9de3b9232e447c280dd70250498a698134997f78cce557ab922912f202e5081f"
   }
  }
 },
 "nbformat": 4,
 "nbformat_minor": 2
}
