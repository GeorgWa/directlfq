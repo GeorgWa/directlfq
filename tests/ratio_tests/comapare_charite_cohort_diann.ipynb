{
 "cells": [
  {
   "cell_type": "code",
   "execution_count": 1,
   "metadata": {},
   "outputs": [],
   "source": [
    "%reload_ext autoreload\n",
    "\n",
    "%autoreload 2\n"
   ]
  },
  {
   "cell_type": "code",
   "execution_count": 9,
   "metadata": {},
   "outputs": [],
   "source": [
    "input_file = \"../../test_data/system_tests/diann_charite_dataset/Charite-DIA-NN_analysis.txt\"\n",
    "#input_file = \"../../test_data/system_tests/diann_charite_dataset/Charite-DIA-NN_analysis.txt.diann_precursor_filename_sampleid.aq_reformat.tsv\"\n",
    "\n",
    "directlfq_file = \"../../test_data/system_tests/diann_charite_dataset/Charite-DIA-NN_analysis.txt.protein_intensities.tsv\"\n",
    "\n",
    "samplemap =\"../../test_data/system_tests/diann_charite_dataset/samplemap_shortened.tsv\"\n",
    "\n",
    "diann_lfq_file = \"../../test_data/system_tests/diann_charite_dataset/Charite-DIA-NN_analysis.txt.diann_gene.aq_reformat.tsv\"\n",
    "iq_lfq_file = \"../../test_data/system_tests/diann_charite_dataset/report-charite-iq.tsv\"\n",
    "\n",
    "outfile = \"../../test_data/system_tests/diann_charite_dataset/onefilt_density_true.pdf\"\n",
    "\n",
    "run_directlfq = False"
   ]
  },
  {
   "cell_type": "code",
   "execution_count": 5,
   "metadata": {},
   "outputs": [],
   "source": [
    "if run_directlfq:\n",
    "    import directlfq.lfq_manager as lfqmgr\n",
    "\n",
    "    lfqmgr.run_lfq(input_file=input_file, input_type_to_use=\"diann_fragion_isotopes_raw_charite_dataset\", min_nonan=3)\n",
    "\n"
   ]
  },
  {
   "cell_type": "code",
   "execution_count": 6,
   "metadata": {},
   "outputs": [
    {
     "name": "stderr",
     "output_type": "stream",
     "text": [
      "/Users/constantin/opt/anaconda3/envs/directLFQ/lib/python3.8/site-packages/seaborn/rcmod.py:82: DeprecationWarning: distutils Version classes are deprecated. Use packaging.version instead.\n",
      "  if LooseVersion(mpl.__version__) >= \"3.0\":\n",
      "/Users/constantin/opt/anaconda3/envs/directLFQ/lib/python3.8/site-packages/setuptools/_distutils/version.py:351: DeprecationWarning: distutils Version classes are deprecated. Use packaging.version instead.\n",
      "  other = LooseVersion(other)\n"
     ]
    }
   ],
   "source": [
    "\n",
    "import directlfq.benchmarking as lfqbenchmark\n",
    "restable_directlfq = lfqbenchmark.ResultsTableBiological(results_file=directlfq_file, samplemap=samplemap, name=\"directLFQ\")\n",
    "cvinfo_directlfq = lfqbenchmark.CVInfoDataset(restable_directlfq)"
   ]
  },
  {
   "cell_type": "code",
   "execution_count": 33,
   "metadata": {},
   "outputs": [],
   "source": [
    "import directlfq.benchmarking as lfqbenchmark\n",
    "restable_diann = lfqbenchmark.ResultsTableBiological(results_file=diann_lfq_file, samplemap=samplemap, name = \"MaxLFQ_DIANN\")\n",
    "cvinfo_diann = lfqbenchmark.CVInfoDataset(restable_diann)"
   ]
  },
  {
   "cell_type": "code",
   "execution_count": 34,
   "metadata": {},
   "outputs": [],
   "source": [
    "import directlfq.benchmarking as lfqbenchmark\n",
    "restable_iq = lfqbenchmark.ResultsTableBiological(results_file=iq_lfq_file, samplemap=samplemap, name = \"MaxLFQ_iQ\")\n",
    "cvinfo_iq = lfqbenchmark.CVInfoDataset(restable_iq)"
   ]
  },
  {
   "cell_type": "code",
   "execution_count": 38,
   "metadata": {},
   "outputs": [
    {
     "name": "stderr",
     "output_type": "stream",
     "text": [
      "/Users/constantin/workspace/directlfq/directlfq/utils.py:583: DeprecationWarning: invalid escape sequence \\(\n",
      "  pattern = \"(.*)(\\(mTRAQ-n-.\\))(.*)\"\n",
      "/Users/constantin/workspace/directlfq/directlfq/utils.py:729: DeprecationWarning: invalid escape sequence \\.\n",
      "  matched = re.match(\"(.*)(\\..*\\.)(aq_reformat\\.tsv)\",input_file)\n",
      "/Users/constantin/workspace/directlfq/directlfq/visualizations.py:47: UserWarning: Trying to register the cmap 'alphapept_linear' which already exists.\n",
      "  matplotlib.cm.register_cmap(name, linmap)\n",
      "/Users/constantin/workspace/directlfq/directlfq/visualizations.py:47: UserWarning: Trying to register the cmap 'alphapept_linear_cut' which already exists.\n",
      "  matplotlib.cm.register_cmap(name, linmap)\n"
     ]
    },
    {
     "name": "stdout",
     "output_type": "stream",
     "text": [
      "27 are very large for directLFQ\n",
      "1787\n",
      "0.13934167725429727\n",
      "0.1108909599431441\n",
      "50 are very large for MaxLFQ_DIANN\n",
      "1982\n",
      "0.1632490777950846\n",
      "0.13240989113091897\n",
      "10 are very large for MaxLFQ_iQ\n",
      "1698\n",
      "0.13798939045114358\n",
      "0.12633659011044102\n"
     ]
    },
    {
     "data": {
      "image/png": "[encoded data removed]",
      "text/plain": [
       "<Figure size 432x288 with 1 Axes>"
      ]
     },
     "metadata": {
      "needs_background": "light"
     },
     "output_type": "display_data"
    }
   ],
   "source": [
    "import matplotlib.pyplot as plt\n",
    "ax = plt.subplot()\n",
    "lfqbenchmark.CVDistributionPlotter(list_of_dataset_cv_infos=[cvinfo_directlfq, cvinfo_diann, cvinfo_iq], ax = ax,cumulative=False, density=False, bins=50, histtype='step')\n",
    "ax.legend()\n",
    "\n",
    "ax.set_title(\"distribution of replicate CVs\")\n",
    "ax.set_xlabel(\"CV\")\n",
    "ax.set_ylabel('frequency (a.u.)')\n",
    "\n",
    "plt.savefig(outfile)\n"
   ]
  },
  {
   "cell_type": "code",
   "execution_count": null,
   "metadata": {},
   "outputs": [],
   "source": []
  }
 ],
 "metadata": {
  "interpreter": {
   "hash": "d0aa3a8ce824291cb24d4d363ff4edbd7def750864ecae1a67d8681c187123bb"
  },
  "kernelspec": {
   "display_name": "Python 3.8.13 ('directLFQ')",
   "language": "python",
   "name": "python3"
  },
  "language_info": {
   "codemirror_mode": {
    "name": "ipython",
    "version": 3
   },
   "file_extension": ".py",
   "mimetype": "text/x-python",
   "name": "python",
   "nbconvert_exporter": "python",
   "pygments_lexer": "ipython3",
   "version": "3.8.13"
  },
  "orig_nbformat": 4
 },
 "nbformat": 4,
 "nbformat_minor": 2
}
