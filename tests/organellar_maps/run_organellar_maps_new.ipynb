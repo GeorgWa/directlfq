{
 "cells": [
  {
   "cell_type": "code",
   "execution_count": 1,
   "metadata": {},
   "outputs": [],
   "source": [
    "mq_evidence = \"../../test_data/system_tests/organellar_maps/evidence.txt\"\n",
    "mq_protein_groups = \"../../test_data/system_tests/organellar_maps/proteinGroups.txt\"\n",
    "\n"
   ]
  },
  {
   "cell_type": "code",
   "execution_count": 2,
   "metadata": {},
   "outputs": [
    {
     "name": "stderr",
     "output_type": "stream",
     "text": [
      "/Users/constantin/workspace/directlfq/directlfq/utils.py:193: DtypeWarning: Columns (221) have mixed types. Specify dtype option on import or set low_memory=False.\n",
      "  protein_groups_df = pd.read_csv(protein_groups_file, sep = \"\\t\")\n",
      "/Users/constantin/workspace/directlfq/directlfq/utils.py:212: DtypeWarning: Columns (53) have mixed types. Specify dtype option on import or set low_memory=False.\n",
      "  mq_df = pd.read_csv(mq_file, sep = \"\\t\")\n"
     ]
    },
    {
     "name": "stdout",
     "output_type": "stream",
     "text": [
      "using input type maxquant_evidence\n",
      "7377 prots total\n",
      "using 10 processes\n",
      "prot 0\n",
      "prot 200\n",
      "prot 400\n",
      "prot 100\n",
      "prot 1300\n",
      "prot 600\n",
      "prot 800\n",
      "prot 1500\n",
      "prot 1000\n",
      "prot 500\n",
      "prot 300\n",
      "prot 1700\n",
      "prot 1200\n",
      "prot 1400\n",
      "prot 700\n",
      "prot 900\n",
      "prot 1600\n",
      "prot 1900\n",
      "prot 1100\n",
      "prot 1800\n",
      "prot 2600\n",
      "prot 2100\n",
      "prot 2300\n",
      "prot 2800\n",
      "prot 3000\n",
      "prot 2500\n",
      "prot 2000\n",
      "prot 3200\n",
      "prot 2700\n",
      "prot 3400\n",
      "prot 2400\n",
      "prot 2200prot 3700\n",
      "\n",
      "prot 3600\n",
      "prot 2900\n",
      "prot 3900\n",
      "prot 3100\n",
      "\n",
      "prot 3500prot 3300\n",
      "prot 4100\n",
      "prot 3800\n",
      "prot 4000\n",
      "\n",
      "prot 4300prot 5000\n",
      "prot 4500\n",
      "prot 4200\n",
      "prot 4700\n",
      "prot 5200\n",
      "prot 5400\n",
      "prot 5600prot 4400\n",
      "\n",
      "prot 5100\n",
      "prot 4600\n",
      "prot 4900\n",
      "prot 5800\n",
      "prot 6000\n",
      "prot 5300\n",
      "prot 4800\n",
      "prot 5700\n",
      "prot 6300\n",
      "prot 6500\n",
      "prot 5900\n",
      "prot 5500\n",
      "prot 6200\n",
      "prot 6700\n",
      "prot 6100\n",
      "prot 6400\n",
      "prot 6900\n",
      "prot 6600\n",
      "prot 7300\n",
      "prot 7100\n",
      "prot 6800\n",
      "prot 7000\n",
      "prot 7200\n"
     ]
    }
   ],
   "source": [
    "import directlfq.lfq_manager as lfq_manager\n",
    "\n",
    "lfq_manager.run_lfq(input_file=mq_evidence, input_type_to_use=\"maxquant_evidence\", mq_protein_groups_txt=mq_protein_groups)\n",
    "\n"
   ]
  },
  {
   "cell_type": "code",
   "execution_count": null,
   "metadata": {},
   "outputs": [],
   "source": []
  }
 ],
 "metadata": {
  "kernelspec": {
   "display_name": "Python 3.8.13 ('directlfq')",
   "language": "python",
   "name": "python3"
  },
  "language_info": {
   "codemirror_mode": {
    "name": "ipython",
    "version": 3
   },
   "file_extension": ".py",
   "mimetype": "text/x-python",
   "name": "python",
   "nbconvert_exporter": "python",
   "pygments_lexer": "ipython3",
   "version": "3.8.13"
  },
  "orig_nbformat": 4,
  "vscode": {
   "interpreter": {
    "hash": "9de3b9232e447c280dd70250498a698134997f78cce557ab922912f202e5081f"
   }
  }
 },
 "nbformat": 4,
 "nbformat_minor": 2
}
