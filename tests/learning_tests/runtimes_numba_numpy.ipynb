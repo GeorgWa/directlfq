{
 "cells": [
  {
   "cell_type": "code",
   "execution_count": 1,
   "metadata": {},
   "outputs": [],
   "source": [
    "import numpy as np\n",
    "from numba import njit\n",
    "\n",
    "\n",
    "\n",
    "def calc_variance(arr):\n",
    "    return np.nanvar(arr)\n",
    "\n",
    "@njit(fastmath = True)\n",
    "def calc_variance_numba(arr):\n",
    "    return np.nanvar(arr)\n",
    "\n",
    "import time\n",
    "def test_runtime_numpy(arr):\n",
    "    t0 = time.time()\n",
    "    for _ in range(1000):\n",
    "        calc_variance(arr)\n",
    "    runtime = time.time()-t0\n",
    "    print(f\"numpy time {runtime}\")\n",
    "    \n",
    "    \n",
    "\n",
    "import time\n",
    "def test_runtime_numba(arr):\n",
    "    t0 = time.time()\n",
    "    for _ in range(1000):\n",
    "        calc_variance_numba(arr)\n",
    "    runtime = time.time()-t0\n",
    "    print(f\"numba time {runtime}\")\n",
    "\n"
   ]
  },
  {
   "cell_type": "code",
   "execution_count": 2,
   "metadata": {},
   "outputs": [
    {
     "name": "stdout",
     "output_type": "stream",
     "text": [
      "numba time 0.36639881134033203\n",
      "numpy time 0.04659271240234375\n",
      "\n",
      "\n",
      "numba time 0.00030612945556640625\n",
      "numpy time 0.04544401168823242\n",
      "\n",
      "\n",
      "numba time 0.0008342266082763672\n",
      "numpy time 0.046810150146484375\n",
      "\n",
      "\n",
      "numba time 0.0061359405517578125\n",
      "numpy time 0.07483696937561035\n",
      "\n",
      "\n",
      "numba time 0.05941200256347656\n",
      "numpy time 0.3590409755706787\n",
      "\n",
      "\n",
      "numba time 0.6079070568084717\n",
      "numpy time 3.0607750415802\n",
      "\n",
      "\n",
      "numba time 5.905172109603882\n",
      "numpy time 29.343440055847168\n",
      "\n",
      "\n"
     ]
    }
   ],
   "source": [
    "arraysizes = [10, 100, 1000, 10_000, 100_000, 1000_000, 10_000_000]\n",
    "\n",
    "for size in arraysizes:\n",
    "    arr = np.random.randn(size)\n",
    "    test_runtime_numba(arr)\n",
    "    test_runtime_numpy(arr)\n",
    "    print(\"\\n\")"
   ]
  },
  {
   "cell_type": "code",
   "execution_count": null,
   "metadata": {},
   "outputs": [],
   "source": []
  },
  {
   "cell_type": "code",
   "execution_count": null,
   "metadata": {},
   "outputs": [],
   "source": []
  }
 ],
 "metadata": {
  "interpreter": {
   "hash": "d0aa3a8ce824291cb24d4d363ff4edbd7def750864ecae1a67d8681c187123bb"
  },
  "kernelspec": {
   "display_name": "Python 3.8.13 ('directLFQ')",
   "language": "python",
   "name": "python3"
  },
  "language_info": {
   "codemirror_mode": {
    "name": "ipython",
    "version": 3
   },
   "file_extension": ".py",
   "mimetype": "text/x-python",
   "name": "python",
   "nbconvert_exporter": "python",
   "pygments_lexer": "ipython3",
   "version": "3.8.13"
  },
  "orig_nbformat": 4
 },
 "nbformat": 4,
 "nbformat_minor": 2
}
