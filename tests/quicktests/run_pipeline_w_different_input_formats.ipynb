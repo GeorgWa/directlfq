{
 "cells": [
  {
   "cell_type": "code",
   "execution_count": 1,
   "metadata": {},
   "outputs": [],
   "source": [
    "quicktest_folder_mq_peptides = \"../../test_data/system_tests/quicktests/mq_peptides\"\n",
    "\n",
    "quicktest_folder_mq_evidence = \"../../test_data/system_tests/quicktests/mq_evidence\"\n",
    "\n",
    "quicktest_folder_diann = \"../../test_data/system_tests/quicktests/diann\"\n",
    "\n",
    "quicktest_folder_spectronaut = \"../../test_data/system_tests/quicktests/spectronaut\"\n",
    "\n",
    "quicktest_folders = [quicktest_folder_mq_peptides, quicktest_folder_mq_evidence, quicktest_folder_diann, quicktest_folder_spectronaut]"
   ]
  },
  {
   "cell_type": "code",
   "execution_count": 2,
   "metadata": {},
   "outputs": [
    {
     "name": "stderr",
     "output_type": "stream",
     "text": [
      "2024-01-16 18:30:46,103 - directlfq.lfq_manager - INFO - Starting directLFQ analysis.\n",
      "2024-01-16 18:30:46,236 - directlfq.utils - INFO - using input type diann_precursors\n",
      "2024-01-16 18:30:46,305 - directlfq.lfq_manager - INFO - Performing sample normalization.\n",
      "2024-01-16 18:30:46,306 - directlfq.normalization - INFO - to few values for normalization without missing values. Including missing values\n",
      "2024-01-16 18:30:47,300 - directlfq.lfq_manager - INFO - Estimating lfq intensities.\n",
      "2024-01-16 18:30:47,301 - directlfq.protein_intensity_estimation - INFO - 46 lfq-objects total\n",
      "2024-01-16 18:30:47,315 - directlfq.protein_intensity_estimation - INFO - Split up normed_df into individual lfq-objects\n",
      "2024-01-16 18:30:47,373 - directlfq.protein_intensity_estimation - INFO - using 10 processes\n",
      "2024-01-16 18:30:47,381 - directlfq.protein_intensity_estimation - INFO - lfq-object 0\n",
      "2024-01-16 18:30:47,804 - directlfq.lfq_manager - INFO - Writing results files.\n",
      "2024-01-16 18:30:47,816 - directlfq.lfq_manager - INFO - Analysis finished!\n",
      "2024-01-16 18:30:47,817 - directlfq.lfq_manager - INFO - Starting directLFQ analysis.\n",
      "2024-01-16 18:30:47,881 - directlfq.utils - INFO - using input type diann_peptide_based_on_precursor_ms1_and_ms2\n",
      "2024-01-16 18:30:48,019 - directlfq.lfq_manager - INFO - Performing sample normalization.\n",
      "2024-01-16 18:30:48,024 - directlfq.lfq_manager - INFO - Estimating lfq intensities.\n",
      "2024-01-16 18:30:48,025 - directlfq.protein_intensity_estimation - INFO - 840 lfq-objects total\n",
      "2024-01-16 18:30:48,297 - directlfq.protein_intensity_estimation - INFO - Split up normed_df into individual lfq-objects\n",
      "2024-01-16 18:30:48,351 - directlfq.protein_intensity_estimation - INFO - using 10 processes\n",
      "2024-01-16 18:30:48,368 - directlfq.protein_intensity_estimation - INFO - lfq-object 0\n",
      "2024-01-16 18:30:48,418 - directlfq.protein_intensity_estimation - INFO - lfq-object 100\n",
      "2024-01-16 18:30:48,468 - directlfq.protein_intensity_estimation - INFO - lfq-object 200\n",
      "2024-01-16 18:30:48,512 - directlfq.protein_intensity_estimation - INFO - lfq-object 300\n",
      "2024-01-16 18:30:48,563 - directlfq.protein_intensity_estimation - INFO - lfq-object 400\n",
      "2024-01-16 18:30:48,613 - directlfq.protein_intensity_estimation - INFO - lfq-object 500\n",
      "2024-01-16 18:30:48,662 - directlfq.protein_intensity_estimation - INFO - lfq-object 600\n",
      "2024-01-16 18:30:48,710 - directlfq.protein_intensity_estimation - INFO - lfq-object 700\n",
      "2024-01-16 18:30:48,759 - directlfq.protein_intensity_estimation - INFO - lfq-object 800\n",
      "2024-01-16 18:30:48,942 - directlfq.lfq_manager - INFO - Writing results files.\n",
      "2024-01-16 18:30:48,969 - directlfq.lfq_manager - INFO - Analysis finished!\n",
      "2024-01-16 18:30:48,969 - directlfq.lfq_manager - INFO - Starting directLFQ analysis.\n",
      "2024-01-16 18:30:49,032 - directlfq.utils - INFO - using input type diann_precursor_ms1_and_ms2\n",
      "2024-01-16 18:30:49,144 - directlfq.lfq_manager - INFO - Performing sample normalization.\n",
      "2024-01-16 18:30:49,148 - directlfq.lfq_manager - INFO - Estimating lfq intensities.\n",
      "2024-01-16 18:30:49,148 - directlfq.protein_intensity_estimation - INFO - 46 lfq-objects total\n",
      "2024-01-16 18:30:49,163 - directlfq.protein_intensity_estimation - INFO - Split up normed_df into individual lfq-objects\n",
      "2024-01-16 18:30:49,217 - directlfq.protein_intensity_estimation - INFO - using 10 processes\n",
      "2024-01-16 18:30:49,224 - directlfq.protein_intensity_estimation - INFO - lfq-object 0\n",
      "2024-01-16 18:30:49,702 - directlfq.lfq_manager - INFO - Writing results files.\n",
      "2024-01-16 18:30:49,721 - directlfq.lfq_manager - INFO - Analysis finished!\n"
     ]
    }
   ],
   "source": [
    "# run diann\n",
    "import directlfq.lfq_manager as lfq_manager\n",
    "import pandas as pd\n",
    "diann_quicktest_file = f\"{quicktest_folder_diann}/shortened_input.tsv\"\n",
    "filterdict_file = f\"{quicktest_folder_diann}/filterdict.yaml\"\n",
    "filter_dict={'protein_filt': {'param': 'Lib.PG.Q.Value', 'comparator': '<=', 'value': 0.01},\n",
    "                                                            'peptide_filt' :{'param' : 'Lib.Q.Value','comparator': '<=', 'value': 0.01}}\n",
    "if __name__ == '__main__':    \n",
    "    lfq_manager.run_lfq(diann_quicktest_file,  filter_dict=filterdict_file)\n",
    "    lfq_manager.run_lfq(diann_quicktest_file, input_type_to_use='diann_peptide_based_on_precursor_ms1_and_ms2', filter_dict=filter_dict)\n",
    "    lfq_manager.run_lfq(diann_quicktest_file, input_type_to_use='diann_precursor_ms1_and_ms2')\n",
    "\n"
   ]
  },
  {
   "cell_type": "code",
   "execution_count": 3,
   "metadata": {},
   "outputs": [
    {
     "name": "stderr",
     "output_type": "stream",
     "text": [
      "2024-01-16 18:30:49,727 - directlfq.lfq_manager - INFO - Starting directLFQ analysis.\n",
      "2024-01-16 18:30:49,912 - directlfq.utils - INFO - using input type maxquant_peptides_leading_razor_protein\n",
      "2024-01-16 18:30:49,952 - directlfq.lfq_manager - INFO - Performing sample normalization.\n",
      "2024-01-16 18:30:49,953 - directlfq.normalization - INFO - to few values for normalization without missing values. Including missing values\n",
      "2024-01-16 18:30:49,958 - directlfq.lfq_manager - INFO - Estimating lfq intensities.\n",
      "2024-01-16 18:30:49,959 - directlfq.protein_intensity_estimation - INFO - 49 lfq-objects total\n",
      "2024-01-16 18:30:49,972 - directlfq.protein_intensity_estimation - INFO - Split up normed_df into individual lfq-objects\n",
      "2024-01-16 18:30:49,972 - directlfq.protein_intensity_estimation - INFO - lfq-object 0\n",
      "2024-01-16 18:30:50,458 - directlfq.lfq_manager - INFO - Writing results files.\n",
      "2024-01-16 18:30:50,469 - directlfq.lfq_manager - INFO - Analysis finished!\n"
     ]
    }
   ],
   "source": [
    "#run mq peptides\n",
    "\n",
    "import directlfq.lfq_manager as lfq_manager\n",
    "\n",
    "\n",
    "mq_peptides_quicktest_file = f\"{quicktest_folder_mq_peptides}/shortened_input.tsv\"\n",
    "mq_protgroups_quicktest_file = f\"{quicktest_folder_mq_peptides}/proteinGroups.txt\"\n",
    "if __name__ == '__main__':\n",
    "    lfq_manager.run_lfq(mq_peptides_quicktest_file, mq_protein_groups_txt= mq_protgroups_quicktest_file, \n",
    "num_cores=1)"
   ]
  },
  {
   "cell_type": "code",
   "execution_count": 4,
   "metadata": {},
   "outputs": [
    {
     "name": "stderr",
     "output_type": "stream",
     "text": [
      "2024-01-16 18:30:50,475 - directlfq.lfq_manager - INFO - Starting directLFQ analysis.\n",
      "2024-01-16 18:30:50,603 - directlfq.utils - INFO - using input type maxquant_evidence_leading_razor_protein\n",
      "2024-01-16 18:30:50,701 - directlfq.lfq_manager - INFO - Performing sample normalization.\n",
      "2024-01-16 18:30:50,702 - directlfq.normalization - INFO - to few values for normalization without missing values. Including missing values\n",
      "2024-01-16 18:30:50,708 - directlfq.lfq_manager - INFO - Estimating lfq intensities.\n",
      "2024-01-16 18:30:50,708 - directlfq.protein_intensity_estimation - INFO - 50 lfq-objects total\n",
      "2024-01-16 18:30:50,723 - directlfq.protein_intensity_estimation - INFO - Split up normed_df into individual lfq-objects\n",
      "2024-01-16 18:30:50,781 - directlfq.protein_intensity_estimation - INFO - using 10 processes\n",
      "2024-01-16 18:30:50,788 - directlfq.protein_intensity_estimation - INFO - lfq-object 0\n",
      "2024-01-16 18:30:51,078 - directlfq.lfq_manager - INFO - Writing results files.\n",
      "2024-01-16 18:30:51,093 - directlfq.lfq_manager - INFO - Analysis finished!\n",
      "2024-01-16 18:30:51,093 - directlfq.lfq_manager - INFO - Starting directLFQ analysis.\n",
      "2024-01-16 18:30:51,222 - directlfq.utils - INFO - using input type maxquant_evidence_leading_razor_protein\n",
      "2024-01-16 18:30:51,324 - directlfq.lfq_manager - INFO - Performing sample normalization.\n",
      "2024-01-16 18:30:51,325 - root - INFO - Normalizing only selected proteins\n",
      "2024-01-16 18:30:51,331 - directlfq.lfq_manager - INFO - Estimating lfq intensities.\n",
      "2024-01-16 18:30:51,331 - directlfq.protein_intensity_estimation - INFO - 50 lfq-objects total\n",
      "2024-01-16 18:30:51,346 - directlfq.protein_intensity_estimation - INFO - Split up normed_df into individual lfq-objects\n",
      "2024-01-16 18:30:51,347 - directlfq.protein_intensity_estimation - INFO - lfq-object 0\n",
      "2024-01-16 18:30:52,024 - directlfq.lfq_manager - INFO - Writing results files.\n",
      "2024-01-16 18:30:52,040 - directlfq.lfq_manager - INFO - Analysis finished!\n"
     ]
    }
   ],
   "source": [
    "#run mq evidence\n",
    "\n",
    "import directlfq.lfq_manager as lfq_manager\n",
    "\n",
    "mq_evidence_quicktest_file = f\"{quicktest_folder_mq_evidence}/shortened_input.tsv\"\n",
    "mq_protgroups_quicktest_file = f\"{quicktest_folder_mq_evidence}/proteinGroups.txt\"\n",
    "selected_proteins_file = f\"{quicktest_folder_mq_evidence}/selected_proteins.txt\"\n",
    "if __name__ == '__main__':    \n",
    "    lfq_manager.run_lfq(mq_evidence_quicktest_file, mq_protein_groups_txt= mq_protgroups_quicktest_file)\n",
    "    lfq_manager.run_lfq(mq_evidence_quicktest_file, mq_protein_groups_txt= mq_protgroups_quicktest_file,selected_proteins_file=selected_proteins_file, num_cores=1)"
   ]
  },
  {
   "cell_type": "code",
   "execution_count": 5,
   "metadata": {},
   "outputs": [
    {
     "name": "stderr",
     "output_type": "stream",
     "text": [
      "2024-01-16 18:30:52,046 - directlfq.lfq_manager - INFO - Starting directLFQ analysis.\n",
      "2024-01-16 18:30:52,181 - directlfq.utils - INFO - using input type spectronaut_fragion_isotopes\n",
      "2024-01-16 18:30:52,609 - directlfq.lfq_manager - INFO - Performing sample normalization.\n",
      "2024-01-16 18:30:52,609 - root - INFO - Normalizing only selected proteins\n",
      "2024-01-16 18:30:52,620 - directlfq.lfq_manager - INFO - Estimating lfq intensities.\n",
      "2024-01-16 18:30:52,621 - directlfq.protein_intensity_estimation - INFO - 50 lfq-objects total\n",
      "2024-01-16 18:30:52,639 - directlfq.protein_intensity_estimation - INFO - Split up normed_df into individual lfq-objects\n",
      "2024-01-16 18:30:52,639 - directlfq.protein_intensity_estimation - INFO - lfq-object 0\n",
      "2024-01-16 18:30:53,978 - directlfq.lfq_manager - INFO - Writing results files.\n",
      "2024-01-16 18:30:54,005 - directlfq.lfq_manager - INFO - Analysis finished!\n",
      "2024-01-16 18:30:54,005 - directlfq.lfq_manager - INFO - Starting directLFQ analysis.\n",
      "2024-01-16 18:30:54,132 - directlfq.utils - INFO - using input type spectronaut_fragion_isotopes\n",
      "2024-01-16 18:30:54,580 - directlfq.lfq_manager - INFO - Performing sample normalization.\n",
      "2024-01-16 18:30:54,588 - directlfq.lfq_manager - INFO - Estimating lfq intensities.\n",
      "2024-01-16 18:30:54,589 - directlfq.protein_intensity_estimation - INFO - 50 lfq-objects total\n",
      "2024-01-16 18:30:54,606 - directlfq.protein_intensity_estimation - INFO - Split up normed_df into individual lfq-objects\n",
      "2024-01-16 18:30:54,662 - directlfq.protein_intensity_estimation - INFO - using 10 processes\n",
      "2024-01-16 18:30:54,669 - directlfq.protein_intensity_estimation - INFO - lfq-object 0\n",
      "2024-01-16 18:30:55,131 - directlfq.lfq_manager - INFO - Writing results files.\n",
      "2024-01-16 18:30:55,159 - directlfq.lfq_manager - INFO - Analysis finished!\n"
     ]
    }
   ],
   "source": [
    "# run spectronaut\n",
    "import directlfq.lfq_manager as lfq_manager\n",
    "\n",
    "spectronaut_quicktest_file = f\"{quicktest_folder_spectronaut}/shortened_input.tsv\"\n",
    "spectronaut_protein_subset = f\"{quicktest_folder_spectronaut}/protein_subset.tsv\"\n",
    "if __name__ == '__main__':    \n",
    "    lfq_manager.run_lfq(spectronaut_quicktest_file, selected_proteins_file=spectronaut_protein_subset, num_cores=1, compile_normalized_ion_table=True)\n",
    "    lfq_manager.run_lfq(spectronaut_quicktest_file)"
   ]
  },
  {
   "cell_type": "code",
   "execution_count": 6,
   "metadata": {},
   "outputs": [
    {
     "data": {
      "text/plain": [
       "array([[1, 4],\n",
       "       [2, 5],\n",
       "       [3, 6]])"
      ]
     },
     "metadata": {},
     "output_type": "display_data"
    }
   ],
   "source": [
    "import pandas as pd\n",
    "\n",
    "# Sample dataframe\n",
    "df = pd.DataFrame({'A': [1, 2, 3], 'B': [4, 5, 6]}, index=['x', 'y', 'z'])\n",
    "\n",
    "# Convert to NumPy array\n",
    "array = df.to_numpy()\n",
    "\n",
    "display(array)"
   ]
  },
  {
   "cell_type": "code",
   "execution_count": null,
   "metadata": {},
   "outputs": [],
   "source": []
  }
 ],
 "metadata": {
  "kernelspec": {
   "display_name": "Python 3.8.13 ('directlfq')",
   "language": "python",
   "name": "python3"
  },
  "language_info": {
   "codemirror_mode": {
    "name": "ipython",
    "version": 3
   },
   "file_extension": ".py",
   "mimetype": "text/x-python",
   "name": "python",
   "nbconvert_exporter": "python",
   "pygments_lexer": "ipython3",
   "version": "3.8.17"
  },
  "orig_nbformat": 4,
  "vscode": {
   "interpreter": {
    "hash": "9de3b9232e447c280dd70250498a698134997f78cce557ab922912f202e5081f"
   }
  }
 },
 "nbformat": 4,
 "nbformat_minor": 2
}
