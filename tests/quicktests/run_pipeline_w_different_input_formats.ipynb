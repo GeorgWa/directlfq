{
 "cells": [
  {
   "cell_type": "code",
   "execution_count": 1,
   "metadata": {},
   "outputs": [],
   "source": [
    "quicktest_folder_mq_peptides = \"../../test_data/system_tests/quicktests/mq_peptides\"\n",
    "\n",
    "quicktest_folder_mq_evidence = \"../../test_data/system_tests/quicktests/mq_evidence\"\n",
    "\n",
    "quicktest_folder_diann = \"../../test_data/system_tests/quicktests/diann\"\n",
    "\n",
    "quicktest_folder_spectronaut = \"../../test_data/system_tests/quicktests/spectronaut\"\n",
    "\n",
    "quicktest_folders = [quicktest_folder_mq_peptides, quicktest_folder_mq_evidence, quicktest_folder_diann, quicktest_folder_spectronaut]"
   ]
  },
  {
   "cell_type": "code",
   "execution_count": 2,
   "metadata": {},
   "outputs": [
    {
     "name": "stdout",
     "output_type": "stream",
     "text": [
      "Starting directLFQ analysis.\n",
      "reformatting input file, for large files this might take a while.\n",
      "using input type maxquant_peptides_leading_razor_protein\n",
      "Performing sample normalization.\n",
      "to few values for normalization without missing values. Including missing values\n",
      "Estimating lfq intensities.\n",
      "49 prots total\n",
      "prot 0\n",
      "Writing results files.\n",
      "Analysis finished!\n"
     ]
    }
   ],
   "source": [
    "#run mq peptides\n",
    "\n",
    "import directlfq.lfq_manager as lfq_manager\n",
    "\n",
    "\n",
    "mq_peptides_quicktest_file = f\"{quicktest_folder_mq_peptides}/shortened_input.tsv\"\n",
    "mq_protgroups_quicktest_file = f\"{quicktest_folder_mq_peptides}/proteinGroups.txt\"\n",
    "if __name__ == '__main__':    \n",
    "    lfq_manager.run_lfq(mq_peptides_quicktest_file, mq_protein_groups_txt= mq_protgroups_quicktest_file, \n",
    "num_cores=1)"
   ]
  },
  {
   "cell_type": "code",
   "execution_count": 3,
   "metadata": {},
   "outputs": [
    {
     "name": "stdout",
     "output_type": "stream",
     "text": [
      "Starting directLFQ analysis.\n",
      "reformatting input file, for large files this might take a while.\n",
      "using input type maxquant_evidence_leading_razor_protein\n",
      "Performing sample normalization.\n",
      "to few values for normalization without missing values. Including missing values\n",
      "Estimating lfq intensities.\n",
      "50 prots total\n",
      "using 10 processes\n",
      "prot 0\n"
     ]
    },
    {
     "name": "stderr",
     "output_type": "stream",
     "text": [
      "/Users/constantin/opt/anaconda3/envs/directlfq/lib/python3.8/site-packages/multiprocess/popen_fork.py:70: ResourceWarning: Unclosed socket <zmq.Socket(zmq.PUSH) at 0x7fce900c6280>\n",
      "  self.pid = os.fork()\n",
      "ResourceWarning: Enable tracemalloc to get the object allocation traceback\n",
      "/Users/constantin/opt/anaconda3/envs/directlfq/lib/python3.8/site-packages/multiprocess/popen_fork.py:70: ResourceWarning: Unclosed socket <zmq.Socket(zmq.PUSH) at 0x7fce900c6280>\n",
      "  self.pid = os.fork()\n",
      "ResourceWarning: Enable tracemalloc to get the object allocation traceback\n",
      "/Users/constantin/opt/anaconda3/envs/directlfq/lib/python3.8/site-packages/multiprocess/popen_fork.py:70: ResourceWarning: Unclosed socket <zmq.Socket(zmq.PUSH) at 0x7fce900c6280>\n",
      "  self.pid = os.fork()\n",
      "ResourceWarning: Enable tracemalloc to get the object allocation traceback\n",
      "/Users/constantin/opt/anaconda3/envs/directlfq/lib/python3.8/site-packages/multiprocess/popen_fork.py:70: ResourceWarning: Unclosed socket <zmq.Socket(zmq.PUSH) at 0x7fce900c6280>\n",
      "  self.pid = os.fork()\n",
      "ResourceWarning: Enable tracemalloc to get the object allocation traceback\n",
      "/Users/constantin/opt/anaconda3/envs/directlfq/lib/python3.8/site-packages/multiprocess/popen_fork.py:70: ResourceWarning: Unclosed socket <zmq.Socket(zmq.PUSH) at 0x7fce900c6280>\n",
      "  self.pid = os.fork()\n",
      "ResourceWarning: Enable tracemalloc to get the object allocation traceback\n",
      "/Users/constantin/opt/anaconda3/envs/directlfq/lib/python3.8/site-packages/multiprocess/popen_fork.py:70: ResourceWarning: Unclosed socket <zmq.Socket(zmq.PUSH) at 0x7fce900c6280>\n",
      "  self.pid = os.fork()\n",
      "ResourceWarning: Enable tracemalloc to get the object allocation traceback\n",
      "/Users/constantin/opt/anaconda3/envs/directlfq/lib/python3.8/site-packages/multiprocess/popen_fork.py:70: ResourceWarning: Unclosed socket <zmq.Socket(zmq.PUSH) at 0x7fce900c6280>\n",
      "  self.pid = os.fork()\n",
      "ResourceWarning: Enable tracemalloc to get the object allocation traceback\n",
      "/Users/constantin/opt/anaconda3/envs/directlfq/lib/python3.8/site-packages/multiprocess/popen_fork.py:70: ResourceWarning: Unclosed socket <zmq.Socket(zmq.PUSH) at 0x7fce900c6280>\n",
      "  self.pid = os.fork()\n",
      "ResourceWarning: Enable tracemalloc to get the object allocation traceback\n",
      "/Users/constantin/opt/anaconda3/envs/directlfq/lib/python3.8/site-packages/multiprocess/popen_fork.py:70: ResourceWarning: Unclosed socket <zmq.Socket(zmq.PUSH) at 0x7fce900c6280>\n",
      "  self.pid = os.fork()\n",
      "ResourceWarning: Enable tracemalloc to get the object allocation traceback\n"
     ]
    },
    {
     "name": "stdout",
     "output_type": "stream",
     "text": [
      "Writing results files.\n",
      "Analysis finished!\n",
      "Starting directLFQ analysis.\n",
      "reformatting input file, for large files this might take a while.\n",
      "using input type maxquant_evidence_leading_razor_protein\n",
      "Performing sample normalization.\n",
      "Estimating lfq intensities.\n",
      "50 prots total\n",
      "prot 0\n",
      "Writing results files.\n",
      "Analysis finished!\n"
     ]
    }
   ],
   "source": [
    "#run mq evidence\n",
    "\n",
    "import directlfq.lfq_manager as lfq_manager\n",
    "\n",
    "mq_evidence_quicktest_file = f\"{quicktest_folder_mq_evidence}/shortened_input.tsv\"\n",
    "mq_protgroups_quicktest_file = f\"{quicktest_folder_mq_evidence}/proteinGroups.txt\"\n",
    "selected_proteins_file = f\"{quicktest_folder_mq_evidence}/selected_proteins.txt\"\n",
    "if __name__ == '__main__':    \n",
    "    lfq_manager.run_lfq(mq_evidence_quicktest_file, mq_protein_groups_txt= mq_protgroups_quicktest_file)\n",
    "    lfq_manager.run_lfq(mq_evidence_quicktest_file, mq_protein_groups_txt= mq_protgroups_quicktest_file,selected_proteins_file=selected_proteins_file, num_cores=1)"
   ]
  },
  {
   "cell_type": "code",
   "execution_count": 4,
   "metadata": {},
   "outputs": [
    {
     "name": "stdout",
     "output_type": "stream",
     "text": [
      "Starting directLFQ analysis.\n",
      "reformatting input file, for large files this might take a while.\n",
      "using input type diann_peptide_based_on_precursor_ms1_and_ms2\n",
      "Performing sample normalization.\n",
      "Estimating lfq intensities.\n",
      "844 prots total\n",
      "using 10 processes\n",
      "prot 0\n",
      "prot 100\n",
      "prot 200\n",
      "prot 300\n",
      "prot 400\n",
      "prot 500\n",
      "prot 600\n",
      "prot 700\n",
      "prot 800\n"
     ]
    },
    {
     "name": "stderr",
     "output_type": "stream",
     "text": [
      "/Users/constantin/opt/anaconda3/envs/directlfq/lib/python3.8/site-packages/multiprocess/popen_fork.py:70: ResourceWarning: Unclosed socket <zmq.Socket(zmq.PUSH) at 0x7fce900c6280>\n",
      "  self.pid = os.fork()\n",
      "ResourceWarning: Enable tracemalloc to get the object allocation traceback\n",
      "/Users/constantin/opt/anaconda3/envs/directlfq/lib/python3.8/site-packages/multiprocess/popen_fork.py:70: ResourceWarning: Unclosed socket <zmq.Socket(zmq.PUSH) at 0x7fce900c6280>\n",
      "  self.pid = os.fork()\n",
      "ResourceWarning: Enable tracemalloc to get the object allocation traceback\n",
      "/Users/constantin/opt/anaconda3/envs/directlfq/lib/python3.8/site-packages/multiprocess/popen_fork.py:70: ResourceWarning: Unclosed socket <zmq.Socket(zmq.PUSH) at 0x7fce900c6280>\n",
      "  self.pid = os.fork()\n",
      "ResourceWarning: Enable tracemalloc to get the object allocation traceback\n",
      "/Users/constantin/opt/anaconda3/envs/directlfq/lib/python3.8/site-packages/multiprocess/popen_fork.py:70: ResourceWarning: Unclosed socket <zmq.Socket(zmq.PUSH) at 0x7fce900c6280>\n",
      "  self.pid = os.fork()\n",
      "ResourceWarning: Enable tracemalloc to get the object allocation traceback\n",
      "/Users/constantin/opt/anaconda3/envs/directlfq/lib/python3.8/site-packages/multiprocess/popen_fork.py:70: ResourceWarning: Unclosed socket <zmq.Socket(zmq.PUSH) at 0x7fce900c6280>\n",
      "  self.pid = os.fork()\n",
      "ResourceWarning: Enable tracemalloc to get the object allocation traceback\n",
      "/Users/constantin/opt/anaconda3/envs/directlfq/lib/python3.8/site-packages/multiprocess/popen_fork.py:70: ResourceWarning: Unclosed socket <zmq.Socket(zmq.PUSH) at 0x7fce900c6280>\n",
      "  self.pid = os.fork()\n",
      "ResourceWarning: Enable tracemalloc to get the object allocation traceback\n",
      "/Users/constantin/opt/anaconda3/envs/directlfq/lib/python3.8/site-packages/multiprocess/popen_fork.py:70: ResourceWarning: Unclosed socket <zmq.Socket(zmq.PUSH) at 0x7fce900c6280>\n",
      "  self.pid = os.fork()\n",
      "ResourceWarning: Enable tracemalloc to get the object allocation traceback\n",
      "/Users/constantin/opt/anaconda3/envs/directlfq/lib/python3.8/site-packages/multiprocess/popen_fork.py:70: ResourceWarning: Unclosed socket <zmq.Socket(zmq.PUSH) at 0x7fce900c6280>\n",
      "  self.pid = os.fork()\n",
      "ResourceWarning: Enable tracemalloc to get the object allocation traceback\n"
     ]
    },
    {
     "name": "stdout",
     "output_type": "stream",
     "text": [
      "Writing results files.\n",
      "Analysis finished!\n",
      "Starting directLFQ analysis.\n",
      "reformatting input file, for large files this might take a while.\n",
      "using input type diann_precursors\n",
      "Performing sample normalization.\n",
      "to few values for normalization without missing values. Including missing values\n",
      "Estimating lfq intensities.\n",
      "50 prots total\n",
      "using 10 processes\n",
      "prot 0\n"
     ]
    },
    {
     "name": "stderr",
     "output_type": "stream",
     "text": [
      "/Users/constantin/opt/anaconda3/envs/directlfq/lib/python3.8/site-packages/multiprocess/popen_fork.py:70: ResourceWarning: Unclosed socket <zmq.Socket(zmq.PUSH) at 0x7fce900c6280>\n",
      "  self.pid = os.fork()\n",
      "ResourceWarning: Enable tracemalloc to get the object allocation traceback\n",
      "/Users/constantin/opt/anaconda3/envs/directlfq/lib/python3.8/site-packages/multiprocess/popen_fork.py:70: ResourceWarning: Unclosed socket <zmq.Socket(zmq.PUSH) at 0x7fce900c6280>\n",
      "  self.pid = os.fork()\n",
      "ResourceWarning: Enable tracemalloc to get the object allocation traceback\n",
      "/Users/constantin/opt/anaconda3/envs/directlfq/lib/python3.8/site-packages/multiprocess/popen_fork.py:70: ResourceWarning: Unclosed socket <zmq.Socket(zmq.PUSH) at 0x7fce900c6280>\n",
      "  self.pid = os.fork()\n",
      "ResourceWarning: Enable tracemalloc to get the object allocation traceback\n",
      "/Users/constantin/opt/anaconda3/envs/directlfq/lib/python3.8/site-packages/multiprocess/popen_fork.py:70: ResourceWarning: Unclosed socket <zmq.Socket(zmq.PUSH) at 0x7fce900c6280>\n",
      "  self.pid = os.fork()\n",
      "ResourceWarning: Enable tracemalloc to get the object allocation traceback\n",
      "/Users/constantin/opt/anaconda3/envs/directlfq/lib/python3.8/site-packages/multiprocess/popen_fork.py:70: ResourceWarning: Unclosed socket <zmq.Socket(zmq.PUSH) at 0x7fce900c6280>\n",
      "  self.pid = os.fork()\n",
      "ResourceWarning: Enable tracemalloc to get the object allocation traceback\n",
      "/Users/constantin/opt/anaconda3/envs/directlfq/lib/python3.8/site-packages/multiprocess/popen_fork.py:70: ResourceWarning: Unclosed socket <zmq.Socket(zmq.PUSH) at 0x7fce900c6280>\n",
      "  self.pid = os.fork()\n",
      "ResourceWarning: Enable tracemalloc to get the object allocation traceback\n",
      "/Users/constantin/opt/anaconda3/envs/directlfq/lib/python3.8/site-packages/multiprocess/popen_fork.py:70: ResourceWarning: Unclosed socket <zmq.Socket(zmq.PUSH) at 0x7fce900c6280>\n",
      "  self.pid = os.fork()\n",
      "ResourceWarning: Enable tracemalloc to get the object allocation traceback\n",
      "/Users/constantin/opt/anaconda3/envs/directlfq/lib/python3.8/site-packages/multiprocess/popen_fork.py:70: ResourceWarning: Unclosed socket <zmq.Socket(zmq.PUSH) at 0x7fce900c6280>\n",
      "  self.pid = os.fork()\n",
      "ResourceWarning: Enable tracemalloc to get the object allocation traceback\n",
      "/Users/constantin/opt/anaconda3/envs/directlfq/lib/python3.8/site-packages/multiprocess/popen_fork.py:70: ResourceWarning: Unclosed socket <zmq.Socket(zmq.PUSH) at 0x7fce900c6280>\n",
      "  self.pid = os.fork()\n",
      "ResourceWarning: Enable tracemalloc to get the object allocation traceback\n",
      "/Users/constantin/opt/anaconda3/envs/directlfq/lib/python3.8/site-packages/multiprocess/popen_fork.py:70: ResourceWarning: Unclosed socket <zmq.Socket(zmq.PUSH) at 0x7fce900c6280>\n",
      "  self.pid = os.fork()\n",
      "ResourceWarning: Enable tracemalloc to get the object allocation traceback\n"
     ]
    },
    {
     "name": "stdout",
     "output_type": "stream",
     "text": [
      "Writing results files.\n",
      "Analysis finished!\n",
      "Starting directLFQ analysis.\n",
      "reformatting input file, for large files this might take a while.\n",
      "using input type diann_precursor_ms1_and_ms2\n",
      "Performing sample normalization.\n",
      "Estimating lfq intensities.\n",
      "50 prots total\n",
      "using 10 processes\n",
      "prot 0\n",
      "Writing results files.\n",
      "Analysis finished!\n"
     ]
    }
   ],
   "source": [
    "# run diann\n",
    "import directlfq.lfq_manager as lfq_manager\n",
    "import pandas as pd\n",
    "diann_quicktest_file = f\"{quicktest_folder_diann}/shortened_input.tsv\"\n",
    "if __name__ == '__main__':    \n",
    "    lfq_manager.run_lfq(diann_quicktest_file, input_type_to_use='diann_peptide_based_on_precursor_ms1_and_ms2')\n",
    "    lfq_manager.run_lfq(diann_quicktest_file)\n",
    "    lfq_manager.run_lfq(diann_quicktest_file, input_type_to_use='diann_precursor_ms1_and_ms2')\n",
    "\n"
   ]
  },
  {
   "cell_type": "code",
   "execution_count": 5,
   "metadata": {},
   "outputs": [
    {
     "name": "stdout",
     "output_type": "stream",
     "text": [
      "Starting directLFQ analysis.\n",
      "reformatting input file, for large files this might take a while.\n",
      "using input type spectronaut_fragion_isotopes\n",
      "Performing sample normalization.\n",
      "Estimating lfq intensities.\n",
      "50 prots total\n",
      "prot 0\n",
      "Writing results files.\n",
      "Analysis finished!\n",
      "Starting directLFQ analysis.\n",
      "reformatting input file, for large files this might take a while.\n",
      "using input type spectronaut_fragion_isotopes\n",
      "Performing sample normalization.\n",
      "Estimating lfq intensities.\n",
      "50 prots total\n",
      "using 10 processes\n",
      "prot 0\n",
      "Writing results files.\n",
      "Analysis finished!\n"
     ]
    }
   ],
   "source": [
    "# run spectronaut\n",
    "import directlfq.lfq_manager as lfq_manager\n",
    "\n",
    "spectronaut_quicktest_file = f\"{quicktest_folder_spectronaut}/shortened_input.tsv\"\n",
    "spectronaut_protein_subset = f\"{quicktest_folder_spectronaut}/protein_subset.tsv\"\n",
    "if __name__ == '__main__':    \n",
    "    lfq_manager.run_lfq(spectronaut_quicktest_file, selected_proteins_file=spectronaut_protein_subset, num_cores=1)\n",
    "    lfq_manager.run_lfq(spectronaut_quicktest_file)"
   ]
  }
 ],
 "metadata": {
  "kernelspec": {
   "display_name": "Python 3.8.13 ('directlfq')",
   "language": "python",
   "name": "python3"
  },
  "language_info": {
   "codemirror_mode": {
    "name": "ipython",
    "version": 3
   },
   "file_extension": ".py",
   "mimetype": "text/x-python",
   "name": "python",
   "nbconvert_exporter": "python",
   "pygments_lexer": "ipython3",
   "version": "3.8.16"
  },
  "orig_nbformat": 4,
  "vscode": {
   "interpreter": {
    "hash": "9de3b9232e447c280dd70250498a698134997f78cce557ab922912f202e5081f"
   }
  }
 },
 "nbformat": 4,
 "nbformat_minor": 2
}
