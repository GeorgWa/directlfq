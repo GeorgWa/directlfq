{
 "cells": [
  {
   "cell_type": "code",
   "execution_count": 1,
   "metadata": {},
   "outputs": [],
   "source": [
    "quicktest_folder_mq_peptides = \"../../test_data/system_tests/quicktests/mq_peptides\"\n",
    "\n",
    "quicktest_folder_mq_evidence = \"../../test_data/system_tests/quicktests/mq_evidence\"\n",
    "\n",
    "quicktest_folder_diann = \"../../test_data/system_tests/quicktests/diann\"\n",
    "\n",
    "quicktest_folder_spectronaut = \"../../test_data/system_tests/quicktests/spectronaut\"\n",
    "\n",
    "quicktest_folders = [quicktest_folder_mq_peptides, quicktest_folder_mq_evidence, quicktest_folder_diann, quicktest_folder_spectronaut]"
   ]
  },
  {
   "cell_type": "code",
   "execution_count": 3,
   "metadata": {},
   "outputs": [
    {
     "name": "stderr",
     "output_type": "stream",
     "text": [
      "2024-01-24 15:35:11,860 - directlfq.lfq_manager - INFO - Starting directLFQ analysis.\n",
      "2024-01-24 15:35:12,056 - directlfq.utils - INFO - using input type diann_precursors\n",
      "2024-01-24 15:35:12,115 - directlfq.lfq_manager - INFO - Performing sample normalization.\n",
      "2024-01-24 15:35:12,117 - directlfq.normalization - INFO - to few values for normalization without missing values. Including missing values\n",
      "2024-01-24 15:35:12,120 - directlfq.lfq_manager - INFO - Estimating lfq intensities.\n",
      "2024-01-24 15:35:12,120 - directlfq.protein_intensity_estimation - INFO - 46 lfq-groups total\n",
      "2024-01-24 15:35:12,137 - directlfq.protein_intensity_estimation - INFO - lfq-object 0\n",
      "2024-01-24 15:35:12,743 - directlfq.lfq_manager - INFO - Writing results files.\n",
      "2024-01-24 15:35:12,755 - directlfq.lfq_manager - INFO - Analysis finished!\n",
      "2024-01-24 15:35:12,756 - directlfq.lfq_manager - INFO - Starting directLFQ analysis.\n",
      "2024-01-24 15:35:12,832 - directlfq.utils - INFO - using input type diann_peptide_based_on_precursor_ms1_and_ms2\n",
      "2024-01-24 15:35:12,984 - directlfq.lfq_manager - INFO - Performing sample normalization.\n",
      "2024-01-24 15:35:12,989 - directlfq.lfq_manager - INFO - Estimating lfq intensities.\n",
      "2024-01-24 15:35:12,990 - directlfq.protein_intensity_estimation - INFO - 840 lfq-groups total\n",
      "2024-01-24 15:35:13,314 - directlfq.protein_intensity_estimation - INFO - using 10 processes\n",
      "2024-01-24 15:35:13,335 - directlfq.protein_intensity_estimation - INFO - lfq-object 0\n",
      "2024-01-24 15:35:13,394 - directlfq.protein_intensity_estimation - INFO - lfq-object 100\n",
      "2024-01-24 15:35:13,454 - directlfq.protein_intensity_estimation - INFO - lfq-object 200\n",
      "2024-01-24 15:35:13,508 - directlfq.protein_intensity_estimation - INFO - lfq-object 300\n",
      "2024-01-24 15:35:13,562 - directlfq.protein_intensity_estimation - INFO - lfq-object 400\n",
      "2024-01-24 15:35:13,622 - directlfq.protein_intensity_estimation - INFO - lfq-object 500\n",
      "2024-01-24 15:35:13,678 - directlfq.protein_intensity_estimation - INFO - lfq-object 600\n",
      "2024-01-24 15:35:13,833 - directlfq.protein_intensity_estimation - INFO - lfq-object 700\n",
      "2024-01-24 15:35:13,887 - directlfq.protein_intensity_estimation - INFO - lfq-object 800\n",
      "2024-01-24 15:35:14,104 - directlfq.lfq_manager - INFO - Writing results files.\n",
      "2024-01-24 15:35:14,136 - directlfq.lfq_manager - INFO - Analysis finished!\n",
      "2024-01-24 15:35:14,137 - directlfq.lfq_manager - INFO - Starting directLFQ analysis.\n",
      "2024-01-24 15:35:14,218 - directlfq.utils - INFO - using input type diann_precursor_ms1_and_ms2\n",
      "2024-01-24 15:35:14,338 - directlfq.lfq_manager - INFO - Performing sample normalization.\n",
      "2024-01-24 15:35:14,343 - directlfq.lfq_manager - INFO - Estimating lfq intensities.\n",
      "2024-01-24 15:35:14,344 - directlfq.protein_intensity_estimation - INFO - 46 lfq-groups total\n",
      "2024-01-24 15:35:14,427 - directlfq.protein_intensity_estimation - INFO - using 10 processes\n",
      "2024-01-24 15:35:14,435 - directlfq.protein_intensity_estimation - INFO - lfq-object 0\n",
      "2024-01-24 15:35:14,767 - directlfq.lfq_manager - INFO - Writing results files.\n",
      "2024-01-24 15:35:14,788 - directlfq.lfq_manager - INFO - Analysis finished!\n"
     ]
    }
   ],
   "source": [
    "# run diann\n",
    "import directlfq.lfq_manager as lfq_manager\n",
    "import pandas as pd\n",
    "diann_quicktest_file = f\"{quicktest_folder_diann}/shortened_input.tsv\"\n",
    "filterdict_file = f\"{quicktest_folder_diann}/filterdict.yaml\"\n",
    "filter_dict={'protein_filt': {'param': 'Lib.PG.Q.Value', 'comparator': '<=', 'value': 0.01},\n",
    "                                                            'peptide_filt' :{'param' : 'Lib.Q.Value','comparator': '<=', 'value': 0.01}}\n",
    "if __name__ == '__main__':    \n",
    "    lfq_manager.run_lfq(diann_quicktest_file,  filter_dict=filterdict_file, num_cores=1)\n",
    "    lfq_manager.run_lfq(diann_quicktest_file, input_type_to_use='diann_peptide_based_on_precursor_ms1_and_ms2', filter_dict=filter_dict)\n",
    "    lfq_manager.run_lfq(diann_quicktest_file, input_type_to_use='diann_precursor_ms1_and_ms2')\n",
    "\n"
   ]
  },
  {
   "cell_type": "code",
   "execution_count": 4,
   "metadata": {},
   "outputs": [
    {
     "name": "stderr",
     "output_type": "stream",
     "text": [
      "2024-01-24 15:35:14,796 - directlfq.lfq_manager - INFO - Starting directLFQ analysis.\n",
      "2024-01-24 15:35:14,959 - directlfq.utils - INFO - using input type maxquant_peptides_leading_razor_protein\n",
      "2024-01-24 15:35:15,007 - directlfq.lfq_manager - INFO - Performing sample normalization.\n",
      "2024-01-24 15:35:15,009 - directlfq.normalization - INFO - to few values for normalization without missing values. Including missing values\n",
      "2024-01-24 15:35:15,015 - directlfq.lfq_manager - INFO - Estimating lfq intensities.\n",
      "2024-01-24 15:35:15,015 - directlfq.protein_intensity_estimation - INFO - 49 lfq-groups total\n",
      "2024-01-24 15:35:15,032 - directlfq.protein_intensity_estimation - INFO - lfq-object 0\n",
      "2024-01-24 15:35:15,557 - directlfq.lfq_manager - INFO - Writing results files.\n",
      "2024-01-24 15:35:15,572 - directlfq.lfq_manager - INFO - Analysis finished!\n"
     ]
    }
   ],
   "source": [
    "#run mq peptides\n",
    "\n",
    "import directlfq.lfq_manager as lfq_manager\n",
    "\n",
    "\n",
    "mq_peptides_quicktest_file = f\"{quicktest_folder_mq_peptides}/shortened_input.tsv\"\n",
    "mq_protgroups_quicktest_file = f\"{quicktest_folder_mq_peptides}/proteinGroups.txt\"\n",
    "if __name__ == '__main__':\n",
    "    lfq_manager.run_lfq(mq_peptides_quicktest_file, mq_protein_groups_txt= mq_protgroups_quicktest_file, \n",
    "num_cores=1)"
   ]
  },
  {
   "cell_type": "code",
   "execution_count": 5,
   "metadata": {},
   "outputs": [
    {
     "name": "stderr",
     "output_type": "stream",
     "text": [
      "2024-01-24 15:35:15,578 - directlfq.lfq_manager - INFO - Starting directLFQ analysis.\n",
      "2024-01-24 15:35:15,787 - directlfq.utils - INFO - using input type maxquant_evidence_leading_razor_protein\n",
      "2024-01-24 15:35:15,890 - directlfq.lfq_manager - INFO - Performing sample normalization.\n",
      "2024-01-24 15:35:15,892 - directlfq.normalization - INFO - to few values for normalization without missing values. Including missing values\n",
      "2024-01-24 15:35:15,898 - directlfq.lfq_manager - INFO - Estimating lfq intensities.\n",
      "2024-01-24 15:35:15,899 - directlfq.protein_intensity_estimation - INFO - 50 lfq-groups total\n",
      "2024-01-24 15:35:15,979 - directlfq.protein_intensity_estimation - INFO - using 10 processes\n",
      "2024-01-24 15:35:15,987 - directlfq.protein_intensity_estimation - INFO - lfq-object 0\n",
      "2024-01-24 15:35:16,221 - directlfq.lfq_manager - INFO - Writing results files.\n",
      "2024-01-24 15:35:16,239 - directlfq.lfq_manager - INFO - Analysis finished!\n",
      "2024-01-24 15:35:16,240 - directlfq.lfq_manager - INFO - Starting directLFQ analysis.\n",
      "2024-01-24 15:35:16,395 - directlfq.utils - INFO - using input type maxquant_evidence_leading_razor_protein\n",
      "2024-01-24 15:35:16,505 - directlfq.lfq_manager - INFO - Performing sample normalization.\n",
      "2024-01-24 15:35:16,507 - root - INFO - Normalizing only selected proteins\n",
      "2024-01-24 15:35:16,514 - directlfq.lfq_manager - INFO - Estimating lfq intensities.\n",
      "2024-01-24 15:35:16,515 - directlfq.protein_intensity_estimation - INFO - 50 lfq-groups total\n",
      "2024-01-24 15:35:16,534 - directlfq.protein_intensity_estimation - INFO - lfq-object 0\n",
      "2024-01-24 15:35:17,205 - directlfq.lfq_manager - INFO - Writing results files.\n",
      "2024-01-24 15:35:17,222 - directlfq.lfq_manager - INFO - Analysis finished!\n"
     ]
    }
   ],
   "source": [
    "#run mq evidence\n",
    "\n",
    "import directlfq.lfq_manager as lfq_manager\n",
    "\n",
    "mq_evidence_quicktest_file = f\"{quicktest_folder_mq_evidence}/shortened_input.tsv\"\n",
    "mq_protgroups_quicktest_file = f\"{quicktest_folder_mq_evidence}/proteinGroups.txt\"\n",
    "selected_proteins_file = f\"{quicktest_folder_mq_evidence}/selected_proteins.txt\"\n",
    "if __name__ == '__main__':    \n",
    "    lfq_manager.run_lfq(mq_evidence_quicktest_file, mq_protein_groups_txt= mq_protgroups_quicktest_file)\n",
    "    lfq_manager.run_lfq(mq_evidence_quicktest_file, mq_protein_groups_txt= mq_protgroups_quicktest_file,selected_proteins_file=selected_proteins_file, num_cores=1)"
   ]
  },
  {
   "cell_type": "code",
   "execution_count": 6,
   "metadata": {},
   "outputs": [
    {
     "name": "stderr",
     "output_type": "stream",
     "text": [
      "2024-01-24 15:35:17,229 - directlfq.lfq_manager - INFO - Starting directLFQ analysis.\n",
      "2024-01-24 15:35:17,386 - directlfq.utils - INFO - using input type spectronaut_fragion_isotopes\n",
      "2024-01-24 15:35:17,870 - directlfq.lfq_manager - INFO - Performing sample normalization.\n",
      "2024-01-24 15:35:17,871 - root - INFO - Normalizing only selected proteins\n",
      "2024-01-24 15:35:17,884 - directlfq.lfq_manager - INFO - Estimating lfq intensities.\n",
      "2024-01-24 15:35:17,886 - directlfq.protein_intensity_estimation - INFO - 50 lfq-groups total\n",
      "2024-01-24 15:35:17,906 - directlfq.protein_intensity_estimation - INFO - lfq-object 0\n",
      "2024-01-24 15:35:19,383 - directlfq.lfq_manager - INFO - Writing results files.\n",
      "2024-01-24 15:35:19,411 - directlfq.lfq_manager - INFO - Analysis finished!\n",
      "2024-01-24 15:35:19,412 - directlfq.lfq_manager - INFO - Starting directLFQ analysis.\n",
      "2024-01-24 15:35:19,563 - directlfq.utils - INFO - using input type spectronaut_fragion_isotopes\n",
      "2024-01-24 15:35:19,979 - directlfq.lfq_manager - INFO - Performing sample normalization.\n",
      "2024-01-24 15:35:19,988 - directlfq.lfq_manager - INFO - Estimating lfq intensities.\n",
      "2024-01-24 15:35:19,990 - directlfq.protein_intensity_estimation - INFO - 50 lfq-groups total\n",
      "2024-01-24 15:35:20,076 - directlfq.protein_intensity_estimation - INFO - using 10 processes\n",
      "2024-01-24 15:35:20,085 - directlfq.protein_intensity_estimation - INFO - lfq-object 0\n",
      "2024-01-24 15:35:20,544 - directlfq.lfq_manager - INFO - Writing results files.\n",
      "2024-01-24 15:35:20,574 - directlfq.lfq_manager - INFO - Analysis finished!\n"
     ]
    }
   ],
   "source": [
    "# run spectronaut\n",
    "import directlfq.lfq_manager as lfq_manager\n",
    "\n",
    "spectronaut_quicktest_file = f\"{quicktest_folder_spectronaut}/shortened_input.tsv\"\n",
    "spectronaut_protein_subset = f\"{quicktest_folder_spectronaut}/protein_subset.tsv\"\n",
    "if __name__ == '__main__':    \n",
    "    lfq_manager.run_lfq(spectronaut_quicktest_file, selected_proteins_file=spectronaut_protein_subset, num_cores=1, compile_normalized_ion_table=True)\n",
    "    lfq_manager.run_lfq(spectronaut_quicktest_file)"
   ]
  }
 ],
 "metadata": {
  "kernelspec": {
   "display_name": "Python 3.8.13 ('directlfq')",
   "language": "python",
   "name": "python3"
  },
  "language_info": {
   "codemirror_mode": {
    "name": "ipython",
    "version": 3
   },
   "file_extension": ".py",
   "mimetype": "text/x-python",
   "name": "python",
   "nbconvert_exporter": "python",
   "pygments_lexer": "ipython3",
   "version": "3.8.17"
  },
  "orig_nbformat": 4,
  "vscode": {
   "interpreter": {
    "hash": "9de3b9232e447c280dd70250498a698134997f78cce557ab922912f202e5081f"
   }
  }
 },
 "nbformat": 4,
 "nbformat_minor": 2
}
