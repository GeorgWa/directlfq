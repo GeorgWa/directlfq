{
 "cells": [
  {
   "cell_type": "code",
   "execution_count": 1,
   "metadata": {},
   "outputs": [
    {
     "name": "stderr",
     "output_type": "stream",
     "text": [
      "2024-01-24 14:44:51,614 - directlfq.protein_intensity_estimation - INFO - 50 lfq-groups total\n",
      "2024-01-24 14:44:51,687 - directlfq.protein_intensity_estimation - INFO - using 2 processes\n",
      "2024-01-24 14:44:51,800 - directlfq.protein_intensity_estimation - INFO - lfq-object 0\n"
     ]
    }
   ],
   "source": [
    "import directlfq.config as config\n",
    "import directlfq.normalization as lfqnorm\n",
    "import directlfq.protein_intensity_estimation as lfqprot_estimation\n",
    "import directlfq.utils as lfqutils\n",
    "\n",
    "\n",
    "INPUT_FILE = \"../../test_data/system_tests/quicktests/diann/shortened_input.tsv.diann_fragion_isotopes_raw.aq_reformat.tsv\"\n",
    "\n",
    "\n",
    "\n",
    "input_df = lfqutils.import_data(input_file=INPUT_FILE, input_type_to_use=\"directlfq\", filter_dict={})\n",
    "input_df = lfqutils.index_and_log_transform_input_df(input_df)\n",
    "input_df = lfqutils.remove_allnan_rows_input_df(input_df)\n",
    "\n",
    "input_df = lfqnorm.NormalizationManagerSamplesOnSelectedProteins(input_df, num_samples_quadratic=20, selected_proteins_file=None).complete_dataframe\n",
    "\n",
    "protein_df, ion_df = lfqprot_estimation.estimate_protein_intensities(input_df,min_nonan=1,num_samples_quadratic=20, num_cores = 2)"
   ]
  }
 ],
 "metadata": {
  "kernelspec": {
   "display_name": "test",
   "language": "python",
   "name": "python3"
  },
  "language_info": {
   "codemirror_mode": {
    "name": "ipython",
    "version": 3
   },
   "file_extension": ".py",
   "mimetype": "text/x-python",
   "name": "python",
   "nbconvert_exporter": "python",
   "pygments_lexer": "ipython3",
   "version": "3.8.18"
  }
 },
 "nbformat": 4,
 "nbformat_minor": 2
}
