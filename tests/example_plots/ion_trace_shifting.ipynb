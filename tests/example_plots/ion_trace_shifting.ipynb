{
 "cells": [
  {
   "cell_type": "raw",
   "metadata": {},
   "source": [
    "---\n",
    "{}\n",
    "\n",
    "---\n",
    "\n"
   ]
  },
  {
   "cell_type": "code",
   "execution_count": 1,
   "metadata": {},
   "outputs": [],
   "source": [
    "import matplotlib.pyplot as plt\n",
    "\n",
    "SMALL_SIZE = 8\n",
    "MEDIUM_SIZE = 10\n",
    "BIGGER_SIZE = 12\n",
    "\n",
    "plt.rc('font', size=SMALL_SIZE)          # controls default text sizes\n",
    "plt.rc('axes', titlesize=SMALL_SIZE)     # fontsize of the axes title\n",
    "plt.rc('axes', labelsize=SMALL_SIZE)    # fontsize of the x and y labels\n",
    "plt.rc('xtick', labelsize=SMALL_SIZE)    # fontsize of the tick labels\n",
    "plt.rc('ytick', labelsize=SMALL_SIZE)    # fontsize of the tick labels\n",
    "plt.rc('legend', fontsize=SMALL_SIZE)    # legend fontsize\n",
    "plt.rc('figure', titlesize=MEDIUM_SIZE)  # fontsize of the figure title"
   ]
  },
  {
   "cell_type": "code",
   "execution_count": 2,
   "metadata": {},
   "outputs": [],
   "source": [
    "example_file_maxquant = \"../../test_data/system_tests/organellar_maps/evidence.txt.protgroup_annotated.tsv.maxquant_evidence.aq_reformat.tsv\"\n",
    "ion_file_normed = \"../../test_data/system_tests/organellar_maps/evidence.txt.protgroup_annotated.tsv.ion_intensities.tsv\"\n",
    "protein_groups_file = \"../../test_data/system_tests/organellar_maps/proteinGroups.txt\"\n",
    "directlfq_file = \"../../test_data/system_tests/organellar_maps/evidence.txt.protgroup_annotated.tsv.protein_intensities.tsv\"\n",
    "evidence_file = \"../../test_data/system_tests/organellar_maps/evidence.txt\"\n",
    "evidence_file_annotated = \"../../test_data/system_tests/organellar_maps/evidence.txt.protgroup_annotated.tsv\"\n",
    "aq_reformat_file = \"/Users/constantin/workspace/directlfq/test_data/system_tests/organellar_maps/evidence.txt.protgroup_annotated.tsv.maxquant_evidence.aq_reformat.tsv\"\n",
    "image_save_path = \"/Users/constantin/workspace/directlfq/test_data/system_tests/organellar_maps/protein_traces/\""
   ]
  },
  {
   "cell_type": "code",
   "execution_count": 3,
   "metadata": {},
   "outputs": [],
   "source": [
    "import pandas as pd\n",
    "\n",
    "def find_protid_by_genename(gene2id_dict, gene_name):\n",
    "    return gene2id_dict.get(gene_name)\n",
    "\n",
    "def get_gene2id_dict(protein_groups_file):\n",
    "    protein_groups_df = pd.read_csv(protein_groups_file, sep = \"\\t\", usecols = [\"Protein IDs\", \"Gene names\"])\n",
    "    #map dict from gene name to list of protein ids\n",
    "    gene2id_dict = {}\n",
    "    for index, row in protein_groups_df.iterrows():\n",
    "        gene = row[\"Gene names\"]\n",
    "        protid = row[\"Protein IDs\"]\n",
    "        if gene in gene2id_dict:\n",
    "            gene2id_dict[gene].append(protid)\n",
    "        else:\n",
    "            gene2id_dict[gene] = [protid]\n",
    "\n",
    "    return gene2id_dict\n",
    "\n",
    "\n",
    "gene2id_dict = get_gene2id_dict(protein_groups_file)"
   ]
  },
  {
   "cell_type": "code",
   "execution_count": 4,
   "metadata": {},
   "outputs": [
    {
     "name": "stdout",
     "output_type": "stream",
     "text": [
      "['Q9NQS1']\n"
     ]
    }
   ],
   "source": [
    "protid = find_protid_by_genename(gene2id_dict, \"AVEN\")\n",
    "print(protid)"
   ]
  },
  {
   "cell_type": "code",
   "execution_count": 5,
   "metadata": {},
   "outputs": [
    {
     "name": "stderr",
     "output_type": "stream",
     "text": [
      "/var/folders/wb/j08kzzbd2hd8838tn3ll0jfm0000gn/T/ipykernel_57609/4069328298.py:17: DtypeWarning: Columns (221) have mixed types. Specify dtype option on import or set low_memory=False.\n",
      "  protein_groups_df = pd.read_csv(protein_groups_file, sep = \"\\t\")\n"
     ]
    }
   ],
   "source": [
    "import seaborn as sns\n",
    "import numpy as np\n",
    "import matplotlib.pyplot as plt\n",
    "import pandas as pd\n",
    "import directlfq.visualizations as lfq_viz\n",
    "\n",
    "import directlfq.utils as lfq_utils\n",
    "\n",
    "\n",
    "def load_mq_dataframe(example_mq_file):\n",
    "    mq_df = pd.read_csv(example_mq_file, sep = \"\\t\")\n",
    "    mq_df = lfq_utils.index_and_log_transform_input_df(mq_df)\n",
    "    mq_df = mq_df.reindex(sorted(mq_df.columns, key= lambda x : get_fraction_number(x)), axis=1)\n",
    "    return mq_df\n",
    "\n",
    "def load_protein_groups_df(protein_groups_file):\n",
    "    protein_groups_df = pd.read_csv(protein_groups_file, sep = \"\\t\")\n",
    "    protein_groups_df = protein_groups_df.rename(columns = {\"Protein IDs\" : \"protein\"})\n",
    "    protein_groups_df = protein_groups_df.set_index(\"protein\")\n",
    "    protein_groups_lfq_columns = [x for x in protein_groups_df.columns if x.startswith(\"LFQ\")]\n",
    "    protein_groups_df_subset = protein_groups_df[protein_groups_lfq_columns]\n",
    "    protein_groups_df_subset_logged = protein_groups_df_subset.replace(0, np.nan).apply(np.log2)\n",
    "    protein_groups_df_subset_logged = protein_groups_df_subset_logged.reindex(sorted(protein_groups_df_subset_logged.columns, key= lambda x : get_fraction_number(x)), axis=1)\n",
    "    protein_groups_df_subset_logged.columns = [x.replace(\"LFQ intensity \", \"\") for x in protein_groups_df_subset_logged.columns]\n",
    "    return protein_groups_df_subset_logged\n",
    "\n",
    "def load_directlfq_df(directlfq_file):\n",
    "    directlfq_df = pd.read_csv(directlfq_file, sep = \"\\t\")\n",
    "    directlfq_df = directlfq_df.drop(columns = [\"Gene names\", \"Protein IDs\"])\n",
    "    directlfq_df = directlfq_df.set_index(\"protein\")\n",
    "    directlfq_df = directlfq_df.replace(0, np.nan).apply(np.log2)\n",
    "    directlfq_df = directlfq_df.reindex(sorted(directlfq_df.columns, key= lambda x : get_fraction_number(x)), axis=1)\n",
    "    return directlfq_df\n",
    "\n",
    "def filter_df_for_map(df, map):\n",
    "    #get columns with non-numeric type from a dataframe\n",
    "    non_numeric_columns = list(df.select_dtypes(exclude=[np.number]).columns)\n",
    "    map_columns = [x for x in df.columns if map in x and \"Cyt\" not in x]\n",
    "    df_shortened = df[map_columns + non_numeric_columns]\n",
    "    return df_shortened\n",
    "\n",
    "def get_fraction_number(fraction_name):\n",
    "    shortened_fraction = fraction_name.split(\"_\")[1].replace(\"K\", \"\")\n",
    "    try:\n",
    "        return int(shortened_fraction)\n",
    "    except:\n",
    "        return np.inf\n",
    "\n",
    "ion_df = load_mq_dataframe(aq_reformat_file)\n",
    "ion_df_normed = load_mq_dataframe(ion_file_normed)\n",
    "\n",
    "directlfq_df = load_directlfq_df(directlfq_file)\n",
    "maxlfq_df = load_protein_groups_df(protein_groups_file)"
   ]
  },
  {
   "cell_type": "code",
   "execution_count": 6,
   "metadata": {},
   "outputs": [],
   "source": [
    "import directlfq.protein_intensity_estimation as lfq_protint\n",
    "\n",
    "\n",
    "def get_protein_profile_matched_to_ions(protein_df, ion_df, selected_prot):\n",
    "    protein_values = protein_df.loc[[selected_prot]].dropna(axis = 'columns', how = \"all\").values[0]\n",
    "    ion_values = ion_df.loc[[selected_prot]].dropna(axis = 'columns', how = \"all\")\n",
    "    median_ion_values = np.nanmedian(ion_values, axis = 0)\n",
    "    return shift_protein_profile_to_median_ion_profile(protein_values, median_ion_values)\n",
    "\n",
    "\n",
    "def shift_protein_profile_to_median_ion_profile(protein_values, median_ion_values):\n",
    "    shift = np.nanmedian(protein_values - median_ion_values)\n",
    "    return protein_values - shift\n",
    "\n",
    "\n",
    "\n",
    "\n",
    "\n",
    "def compare_maxquant_and_directlfq(ion_df, ion_df_normed, directlfq_df, selected_prot, ax_normed, ax_unnormed):\n",
    "    colorlist = lfq_viz.AlphaPeptColorMap().colorlist_hex\n",
    "    color_directlfq = colorlist[0]\n",
    "    color_mq = colorlist[1]\n",
    "\n",
    "    protein_df = ion_df.loc[[selected_prot]]\n",
    "    lfq_viz.IonTraceCompararisonPlotterNoDirectLFQTrace(ion_df, str(selected_prot),ax =ax_unnormed)\n",
    "    lfq_viz.IonTraceCompararisonPlotterNoDirectLFQTrace(ion_df_normed, str(selected_prot), ax=ax_normed)\n",
    "    directlfq_values = get_protein_profile_matched_to_ions(directlfq_df, ion_df_normed, selected_prot)\n",
    "    sns.lineplot(x = range(len(directlfq_values)), y = directlfq_values, ax=ax_normed,color=color_directlfq, linewidth=3, linestyle='-')\n",
    "    #remove no values from the plot\n",
    "    lines = ax_normed.get_lines()\n",
    "    lines[-1].set_label(\"directLFQ\")\n",
    "    lines[-2].set_label(\"precursors\")\n",
    "    #get legend handles and labels\n",
    "    handles, labels = ax_normed.get_legend_handles_labels()\n",
    "    ax_normed.legend(handles[::-1], labels[::-1], frameon=False)\n",
    "    ax_unnormed.legend(handles[:-1], labels[:-1], frameon=False)\n",
    "\n",
    "    #set all y axes to the same limits\n",
    "    max_y = max(ax_unnormed.get_ylim())\n",
    "    min_y = min(ax_unnormed.get_ylim())\n",
    "    ax_unnormed.set_ylabel(\"log2\\nintensity\")\n",
    "    ax_unnormed.set_xlabel(\"sample\")\n",
    "    ax_normed.set_xlabel(\"sample\")\n",
    "\n",
    "\n",
    "    \n",
    "\n",
    "#re order figure along the x axis"
   ]
  },
  {
   "cell_type": "code",
   "execution_count": 7,
   "metadata": {},
   "outputs": [
    {
     "name": "stdout",
     "output_type": "stream",
     "text": [
      "Q9NQS1\n"
     ]
    },
    {
     "data": {
      "image/png": "[encoded data removed]",
      "text/plain": [
       "<Figure size 405x150 with 2 Axes>"
      ]
     },
     "metadata": {},
     "output_type": "display_data"
    }
   ],
   "source": [
    "import matplotlib\n",
    "fig, axes = plt.subplots(1, 2, figsize = (4.05, 1.5))\n",
    "\n",
    "protid = find_protid_by_genename(gene2id_dict, \"AVEN\")[0]\n",
    "print(protid)\n",
    "compare_maxquant_and_directlfq(ion_df = ion_df, ion_df_normed=ion_df_normed+2, directlfq_df= directlfq_df,selected_prot= protid, ax_unnormed=axes[0],ax_normed=axes[1] )\n",
    "xticklabels = axes[0].get_xticklabels()\n",
    "xticklabels = [f\"{x+1}\" for x in range(len(xticklabels))]\n",
    "axes[0].set_xticklabels(xticklabels)\n",
    "axes[1].set_xticklabels(xticklabels)\n",
    "axes[0].set_ylim(21, 29)\n",
    "axes[1].set_ylim(21, 29)\n",
    "#widen space between subplots\n",
    "plt.subplots_adjust(wspace=2.5)\n",
    "fig.tight_layout()\n",
    "fig.savefig(f\"{image_save_path}/example_protein_trace.pdf\", bbox_inches = \"tight\", dpi = 300, transparent = True)\n",
    "\n"
   ]
  }
 ],
 "metadata": {
  "kernelspec": {
   "display_name": "Python 3.8.13 ('directlfq')",
   "language": "python",
   "name": "python3"
  },
  "language_info": {
   "codemirror_mode": {
    "name": "ipython",
    "version": 3
   },
   "file_extension": ".py",
   "mimetype": "text/x-python",
   "name": "python",
   "nbconvert_exporter": "python",
   "pygments_lexer": "ipython3",
   "version": "3.8.16"
  },
  "orig_nbformat": 4,
  "vscode": {
   "interpreter": {
    "hash": "9de3b9232e447c280dd70250498a698134997f78cce557ab922912f202e5081f"
   }
  }
 },
 "nbformat": 4,
 "nbformat_minor": 2
}
